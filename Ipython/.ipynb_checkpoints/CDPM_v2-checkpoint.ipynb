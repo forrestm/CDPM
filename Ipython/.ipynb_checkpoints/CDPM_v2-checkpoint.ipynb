{
 "cells": [
  {
   "cell_type": "code",
   "execution_count": 1,
   "metadata": {
    "collapsed": false
   },
   "outputs": [
    {
     "name": "stderr",
     "output_type": "stream",
     "text": [
      "//anaconda/lib/python3.5/site-packages/matplotlib/__init__.py:872: UserWarning: axes.color_cycle is deprecated and replaced with axes.prop_cycle; please use the latter.\n",
      "  warnings.warn(self.msg_depr % (key, alt_key))\n"
     ]
    }
   ],
   "source": [
    "\"\"\"\n",
    "This program will create the EOM for a CDPM with a horizontal plate (the platform) attached \n",
    "to the two cables. It will then export the equations to a csv file.\n",
    "\"\"\"\n",
    "from sympy import symbols, init_printing\n",
    "import sympy\n",
    "import sympy.physics.mechanics as me\n",
    "init_printing(use_latex='mathjax')\n",
    "# import seaborn as sns\n",
    "# sns.set_context(\"notebook\", font_scale=1.5, rc={\"lines.linewidth\": 2.5})\n",
    "import matplotlib.pyplot as plt\n",
    "from scipy.integrate import ode, odeint\n",
    "import numpy as np\n",
    "import InputShaping as shaping\n",
    "import Length_calcs\n",
    "# import testing as Length_calcs\n",
    "%matplotlib inline"
   ]
  },
  {
   "cell_type": "code",
   "execution_count": 2,
   "metadata": {
    "collapsed": false
   },
   "outputs": [],
   "source": [
    "# Constants\n",
    "plate_width = 4.0\n",
    "plate_height = 2.0\n",
    "plate_mass = 10.0\n",
    "\n",
    "rod_mass = 2.0\n",
    "rod_length = 4.0\n",
    "\n",
    "initial_x = 10.0\n",
    "initial_y = 11.0\n",
    "\n",
    "end_x = 9.0\n",
    "end_y = 12.0\n",
    "\n",
    "# This will make the cables the correct lengths. Or define the lengths yourself.\n",
    "L1_begin, L2_begin = Length_calcs.Lengths(initial_x, initial_y)\n",
    "L1_end, L2_end = Length_calcs.Lengths(end_x, end_y)\n",
    "time_begin = 0.5\n",
    "Rise_time = np.sqrt((initial_x-end_x)**2 + (initial_y - end_y)**2)*(3/4)"
   ]
  },
  {
   "cell_type": "code",
   "execution_count": 3,
   "metadata": {
    "collapsed": false
   },
   "outputs": [],
   "source": [
    "# Create the variables\n",
    "x, y, beta, e, F, f = me.dynamicsymbols('x, y, beta e F f')\n",
    "\n",
    "# Create the velocities\n",
    "x_dot, y_dot, beta_dot, e_dot = me.dynamicsymbols('x, y, beta e', 1)\n",
    "\n",
    "# Create the constants\n",
    "m, k, L, g, H, c, D, t, a, b, m_rod, k_rod, c_rod = sympy.symbols('m k L g H c D t a b m_rod k_rod c_rod')\n",
    "Izz, Izz_rod, k_beta, c_beta = sympy.symbols('Izz Izz_rod k_beta c_beta')\n",
    "L_1_init, L_2_init = sympy.symbols('L_1_init L_2_init')\n",
    "'''\n",
    "m = mass\n",
    "k = spring k\n",
    "L = spring equilibrium length\n",
    "g = gravity\n",
    "c = spring c\n",
    "c_beta = rotational c\n",
    "k_beta = rotational k\n",
    "D = rod length\n",
    "Izz = moment of Inertia about the end of a rod\n",
    "a = plate width\n",
    "b = plate height\n",
    "e = distance from rod CoG and plate CoG\n",
    "F = force applied to the rod allowing it to move.\n",
    "\n",
    "'''\n",
    "\n",
    "# Create the world frame\n",
    "N = me.ReferenceFrame('N')\n",
    "\n",
    "# Create the plate frame\n",
    "B = N.orientnew('B', 'axis', [beta, N.z])\n",
    "\n",
    "# Set the rotation of the plate frame\n",
    "# B.set_ang_vel(N, -beta_dot * N.z)\n",
    "\n",
    "# phi = sympy.atan2((x-(a/2)*sympy.cos(beta)) , (y-(a/2)*sympy.sin(beta)))\n",
    "# phi_dot = sympy.atan2((x-(a/2)*sympy.cos(beta_dot)) , (y-(a/2)*sympy.sin(beta_dot)))\n",
    "\n",
    "# # Create the plate frame\n",
    "# A = N.orientnew('A', 'axis', [phi, N.z])\n",
    "# A.set_ang_vel(N, phi_dot * N.z)\n",
    "\n",
    "# Create the Origin\n",
    "O1 = me.Point('O_1')\n",
    "\n",
    "# Set origin velocity to zero\n",
    "O1.set_vel(N, 0)\n",
    "# O1.set_vel(B, 0)\n",
    "\n",
    "# Create the second attachment point\n",
    "# O2 = O1.locatenew('O_2', H * N.x)\n",
    "O2 = me.Point('O_2')\n",
    "O2.set_pos(O1, H * N.x)\n",
    "O2.set_vel(N, 0)\n",
    "# O2.set_vel(B, 0)"
   ]
  },
  {
   "cell_type": "code",
   "execution_count": 4,
   "metadata": {
    "collapsed": true
   },
   "outputs": [],
   "source": [
    "G = O1.locatenew('G', x * N.x + y * N.y)\n",
    "# G = me.Point('G')\n",
    "# G.set_pos(P1, (a/2) * B.x)\n",
    "# G.set_pos(O1, x * N.x + y * N.y)\n",
    "G.set_pos(O2, -(H-x) * N.x + y * N.y)\n",
    "G.set_vel(N, x_dot * N.x + y_dot * N.y)\n",
    "G.set_vel(B, 0)"
   ]
  },
  {
   "cell_type": "code",
   "execution_count": 5,
   "metadata": {
    "collapsed": false
   },
   "outputs": [
    {
     "data": {
      "text/latex": [
       "$$\\dot{x}\\mathbf{\\hat{n}_x} + \\dot{y}\\mathbf{\\hat{n}_y} + \\frac{b \\dot{\\beta}}{2}\\mathbf{\\hat{b}_x} -  \\frac{a \\dot{\\beta}}{2}\\mathbf{\\hat{b}_y}$$"
      ],
      "text/plain": [
       "d       \n",
       "──(x(t))\n",
       "dt       n_x + d       \n",
       "──(y(t))\n",
       "dt       n_y +   d       \n",
       "b⋅──(β(t))\n",
       "  dt      \n",
       "──────────\n",
       "    2      b_x +    d        \n",
       "-a⋅──(β(t)) \n",
       "   dt       \n",
       "────────────\n",
       "     2       b_y"
      ]
     },
     "execution_count": 5,
     "metadata": {},
     "output_type": "execute_result"
    }
   ],
   "source": [
    "P1 = G.locatenew('P1', -(a/2) * B.x - (b/2) * B.y)\n",
    "P1.set_vel(B, 0)\n",
    "P1.v2pt_theory(G, N, B)"
   ]
  },
  {
   "cell_type": "code",
   "execution_count": 6,
   "metadata": {
    "collapsed": false
   },
   "outputs": [
    {
     "data": {
      "text/latex": [
       "$$\\dot{x}\\mathbf{\\hat{n}_x} + \\dot{y}\\mathbf{\\hat{n}_y} + \\frac{b \\dot{\\beta}}{2}\\mathbf{\\hat{b}_x} + \\frac{a \\dot{\\beta}}{2}\\mathbf{\\hat{b}_y}$$"
      ],
      "text/plain": [
       "d       \n",
       "──(x(t))\n",
       "dt       n_x + d       \n",
       "──(y(t))\n",
       "dt       n_y +   d       \n",
       "b⋅──(β(t))\n",
       "  dt      \n",
       "──────────\n",
       "    2      b_x +   d       \n",
       "a⋅──(β(t))\n",
       "  dt      \n",
       "──────────\n",
       "    2      b_y"
      ]
     },
     "execution_count": 6,
     "metadata": {},
     "output_type": "execute_result"
    }
   ],
   "source": [
    "P2 = G.locatenew('P2', (a/2) * B.x - (b/2) * B.y)\n",
    "P2.set_vel(B,0)\n",
    "P2.v2pt_theory(G, N, B)"
   ]
  },
  {
   "cell_type": "code",
   "execution_count": 7,
   "metadata": {
    "collapsed": false
   },
   "outputs": [
    {
     "data": {
      "text/latex": [
       "$$e \\dot{\\beta}\\mathbf{\\hat{b}_x} -  \\dot{e}\\mathbf{\\hat{b}_y} + \\dot{x}\\mathbf{\\hat{n}_x} + \\dot{y}\\mathbf{\\hat{n}_y}$$"
      ],
      "text/plain": [
       "     d       \n",
       "e(t)⋅──(β(t))\n",
       "     dt       b_x +  d       \n",
       "-──(e(t))\n",
       " dt       b_y + d       \n",
       "──(x(t))\n",
       "dt       n_x + d       \n",
       "──(y(t))\n",
       "dt       n_y"
      ]
     },
     "execution_count": 7,
     "metadata": {},
     "output_type": "execute_result"
    }
   ],
   "source": [
    "Z_G = O1.locatenew('Z_G', x * N.x + y * N.y - e * B.y)\n",
    "Z_G.set_pos(G, -e * B.y)\n",
    "Z_G.set_vel(B, -e_dot * B.y)\n",
    "Z_G.v1pt_theory(G, N, B)"
   ]
  },
  {
   "cell_type": "code",
   "execution_count": 8,
   "metadata": {
    "collapsed": false
   },
   "outputs": [
    {
     "data": {
      "text/latex": [
       "$$(- \\frac{D \\dot{\\beta}}{2} + e \\dot{\\beta})\\mathbf{\\hat{b}_x} -  \\dot{e}\\mathbf{\\hat{b}_y} + \\dot{x}\\mathbf{\\hat{n}_x} + \\dot{y}\\mathbf{\\hat{n}_y}$$"
      ],
      "text/plain": [
       "⎛    d                       ⎞\n",
       "⎜  D⋅──(β(t))                ⎟\n",
       "⎜    dt              d       ⎟\n",
       "⎜- ────────── + e(t)⋅──(β(t))⎟\n",
       "⎝      2             dt      ⎠ b_x +  d       \n",
       "-──(e(t))\n",
       " dt       b_y + d       \n",
       "──(x(t))\n",
       "dt       n_x + d       \n",
       "──(y(t))\n",
       "dt       n_y"
      ]
     },
     "execution_count": 8,
     "metadata": {},
     "output_type": "execute_result"
    }
   ],
   "source": [
    "Z_bottom = Z_G.locatenew('Z_bottom', (D/2) * B.y)\n",
    "Z_bottom.v2pt_theory(Z_G, N, B)"
   ]
  },
  {
   "cell_type": "code",
   "execution_count": 9,
   "metadata": {
    "collapsed": false
   },
   "outputs": [
    {
     "data": {
      "text/latex": [
       "$$(\\frac{D \\dot{\\beta}}{2} + e \\dot{\\beta})\\mathbf{\\hat{b}_x} -  \\dot{e}\\mathbf{\\hat{b}_y} + \\dot{x}\\mathbf{\\hat{n}_x} + \\dot{y}\\mathbf{\\hat{n}_y}$$"
      ],
      "text/plain": [
       "⎛  d                       ⎞\n",
       "⎜D⋅──(β(t))                ⎟\n",
       "⎜  dt              d       ⎟\n",
       "⎜────────── + e(t)⋅──(β(t))⎟\n",
       "⎝    2             dt      ⎠ b_x +  d       \n",
       "-──(e(t))\n",
       " dt       b_y + d       \n",
       "──(x(t))\n",
       "dt       n_x + d       \n",
       "──(y(t))\n",
       "dt       n_y"
      ]
     },
     "execution_count": 9,
     "metadata": {},
     "output_type": "execute_result"
    }
   ],
   "source": [
    "Z_top = Z_G.locatenew('Z_top', -(D/2) * B.y)\n",
    "Z_top.v2pt_theory(Z_G, N, B)"
   ]
  },
  {
   "cell_type": "code",
   "execution_count": 10,
   "metadata": {
    "collapsed": false
   },
   "outputs": [],
   "source": [
    "# Create the plate\n",
    "I_plate = me.inertia(B, 0, 0, Izz)\n",
    "plate = me.RigidBody('plate', G, B, m, (I_plate, G))\n",
    "\n",
    "# Create the distance from the point to each attachment point\n",
    "L1 = O1.pos_from(P1).magnitude()\n",
    "L2 = O2.pos_from(P2).magnitude()\n",
    "L1_vector = O1.pos_from(P1).normalize()\n",
    "L2_vector = O2.pos_from(P2).normalize()\n",
    "\n",
    "# Create the height from the center of gravity to the datum\n",
    "h = G.pos_from(O1) & N.y"
   ]
  },
  {
   "cell_type": "code",
   "execution_count": 11,
   "metadata": {
    "collapsed": false
   },
   "outputs": [],
   "source": [
    "# L1_vectora = P1.pos_from(O1).normalize()\n",
    "# L2_vectora = P2.pos_from(O2).normalize()\n",
    "\n",
    "# L1_0, L2_0, k1, k2 = sympy.symbols('L1_p L2_p k1 k2')\n",
    "# L1_vector_N = L1_vectora.express(N)\n",
    "# L2_vector_N = L2_vectora.express(N)\n",
    "# Fsp_1 = k1*(L1_0)\n",
    "# Fsp_2 = k2*(L2_0)\n",
    "# Fsp_1_x = (Fsp_1 * L1_vector_N) & N.x\n",
    "# Fsp_1_y = (Fsp_1 * L1_vector_N) & N.y\n",
    "# Fsp_2_x = (Fsp_2 * L2_vector_N) & N.x\n",
    "# Fsp_2_y = (Fsp_2 * L2_vector_N) & N.y\n",
    "# total_x = Fsp_1_x + Fsp_2_x\n",
    "# total_y = -Fsp_1_y - Fsp_2_y"
   ]
  },
  {
   "cell_type": "code",
   "execution_count": 12,
   "metadata": {
    "collapsed": false
   },
   "outputs": [],
   "source": [
    "# Create the rod\n",
    "I_rod = me.inertia(B, 0, 0, Izz_rod)\n",
    "rod = me.RigidBody('rod', Z_G, B, m_rod, (I_rod, Z_G))\n",
    "\n",
    "# Create the height from the center of gravity to the datum\n",
    "h_rod = Z_G.pos_from(O1) & N.y"
   ]
  },
  {
   "cell_type": "code",
   "execution_count": 13,
   "metadata": {
    "collapsed": false
   },
   "outputs": [],
   "source": [
    "# from sympy.matrices import *\n",
    "# L1_p, L2_p, k1, k2 = sympy.symbols('L1_p L2_p k1 k2')\n",
    "# left = L1_vector.express(N)\n",
    "# right = L2_vector.express(N)\n",
    "\n",
    "# F_left = k1 * L1 * left\n",
    "# F_right = k2 * L2 * right\n",
    "\n",
    "# F_left_x = F_left & N.x\n",
    "# F_left_y = F_left & N.y\n",
    "\n",
    "# F_right_x = F_right & N.x\n",
    "# F_right_y = F_right & N.y\n",
    "\n",
    "# one = (k1*left) & N.x\n",
    "# two = -(k2*right) & N.x\n",
    "# three = (k1*left) & N.y\n",
    "# four = (k2*right) & N.y\n",
    "\n",
    "# top = Matrix([[one, two],[three, four]])\n",
    "# bottom = Matrix([[F_left_x + F_right_x],[F_left_y + F_right_y + 9.81*(m + m_rod)]])"
   ]
  },
  {
   "cell_type": "code",
   "execution_count": 14,
   "metadata": {
    "collapsed": false
   },
   "outputs": [],
   "source": [
    "# P_1_x = (P1.pos_from(O1)).express(N) & N.x\n",
    "# P_1_y = (P1.pos_from(O1)).express(N) & N.y\n",
    "# P_2_x = (P1.pos_from(O2)).express(N) & N.x\n",
    "# P_2_y = (P1.pos_from(O2)).express(N) & N.y\n",
    "# # print(k1 * (P_1_y / (sympy.sqrt(P_1_x**2 + P_1_y**2))))\n",
    "# # print(k2 * (P_2_y / (sympy.sqrt((H - P_2_x)**2 + P_2_y**2))).subs({x:'x',y:'y'}))\n",
    "# # print(k1 * (P_1_x / (sympy.sqrt((P_1_x)**2 + P_2_y**2))).subs({x:'x',y:'y'}))\n",
    "# print(-H * (k2 / (sympy.sqrt((H - P_2_x)**2 + P_2_y**2))) +\n",
    "#       k2*(P_2_x / (sympy.sqrt((H - P_2_x)**2 + P_2_y**2))).subs({x:'x',y:'y'}))"
   ]
  },
  {
   "cell_type": "code",
   "execution_count": 15,
   "metadata": {
    "collapsed": false
   },
   "outputs": [],
   "source": [
    "# Y_total.subs({x:'x', y:'y', beta:'z'})"
   ]
  },
  {
   "cell_type": "code",
   "execution_count": 21,
   "metadata": {
    "collapsed": false
   },
   "outputs": [],
   "source": [
    "# The forces at the connection points\n",
    "# forceP1 = c * (x_dot + y_dot) * L1_vector()\n",
    "# forceP2 = c * (x_dot + y_dot) * L2_vector()\n",
    "\n",
    "forceP1 = c * ((-a*sympy.sin(beta)*beta_dot/2 - b*sympy.cos(beta)*beta_dot/2 + x_dot) + \n",
    "              (a*sympy.cos(beta)*beta_dot/2 - b*sympy.sin(beta)*beta_dot/2 + y_dot)) * L1_vector\n",
    "forceP2 = c * ((a*sympy.sin(beta)*beta_dot/2 - b*sympy.cos(beta)*beta_dot/2 + x_dot) + \n",
    "              (-a*sympy.cos(beta)*beta_dot/2 - b*sympy.sin(beta)*beta_dot/2 + y_dot)) * L2_vector\n",
    "\n",
    "# forceP1 = -c*sympy.physics.vector.dot(P1.vel(N), L1_vector) * L1_vector\n",
    "# forceP2 = -c*sympy.physics.vector.dot(P2.vel(N), L2_vector) * L1_vector\n",
    "\n",
    "\n",
    "# The forces on the beta frame\n",
    "forceB = c_beta * beta_dot * N.z\n",
    "# forceB = 0 * N.z\n",
    "\n",
    "# The force on the rod opposing gravity\n",
    "# force_G = -9.81* rod_mass\n",
    "force_G = 0\n",
    "\n",
    "# The force on the rod moving it\n",
    "force_F = (F + force_G) * B.y + c_rod * e_dot * B.y\n",
    "\n",
    "# The equal and opposite force on the plate\n",
    "force_P = -F * B.y\n",
    "\n",
    "#  + F * B.y\n",
    "plate.potential_energy = (-m * g * h + 0.5 * k * (L1 - L_1_init)**2 + 0.5 *\n",
    "                        k *(L2 - L_2_init)**2 + 0.5 * k_beta * beta**2)\n",
    "rod.potential_energy = (-m_rod * g * h_rod + 0.5 * k_rod * (e)**2 + 0.5 * k_beta * beta**2)\n",
    "# rod.potential_energy = (0)\n",
    "\n",
    "Lag = me.Lagrangian(N, plate, rod)\n",
    "\n",
    "LM = me.LagrangesMethod(Lag, [x, y, beta,e], forcelist=[(P1, forceP1),\n",
    "                                                        (P2, forceP2),\n",
    "#                                                         (B, forceB),\n",
    "                                                        (Z_G, force_F),\n",
    "                                                        (G, force_P)], frame=N)\n",
    "# (P1, forceP1),(P2, forceP2)\n",
    "\n",
    "EqMotion = LM.form_lagranges_equations()\n",
    "\n",
    "lrhs = LM.rhs()\n",
    "inertia = (plate_width**2 + plate_height**2) * (plate_mass/12.0)\n",
    "inertia_rod = (rod_mass * rod_length**2) / 12"
   ]
  },
  {
   "cell_type": "code",
   "execution_count": 22,
   "metadata": {
    "collapsed": true
   },
   "outputs": [],
   "source": [
    "# define the forcing function\n",
    "# Negative moves the bar up, because the y direction is pointing down\n",
    "def force(t):\n",
    "    # set the maximum force output\n",
    "    fmax = -300.0\n",
    "    \n",
    "    # return a bang-bang command\n",
    "    return fmax * ((t > 0.25) - 2 * (t >= 1.25) + (t >= 2.25))\n",
    "\n",
    "def bang(t):\n",
    "    fmax = -300.0\n",
    "    return fmax * (t > 1) - fmax * (t > 15)"
   ]
  },
  {
   "cell_type": "code",
   "execution_count": 23,
   "metadata": {
    "collapsed": false
   },
   "outputs": [],
   "source": [
    "# force_plot_time = np.linspace(0.0, 20.0, 1001)\n",
    "# plt.plot(force_plot_time, bang(force_plot_time), linewidth=2, linestyle='-', label=r'Force')\n",
    "# plt.show()"
   ]
  },
  {
   "cell_type": "code",
   "execution_count": 24,
   "metadata": {
    "collapsed": false
   },
   "outputs": [],
   "source": [
    "def s_curve(CurrTime, Begin, Amp, RiseTime, StartTime):\n",
    "    \"\"\"\n",
    "    This was copied from Dr. Vaughan's Input shaping Library\n",
    "    I edited it to allow for a beginning value.\n",
    "\n",
    "    Function to generate an s-curve command\n",
    "\n",
    "    Arguments:\n",
    "      CurrTime : The current timestep or an array of times\n",
    "      Amp : The magnitude of the s-curve (or final setpoint)\n",
    "      RiseTime : The rise time of the curve\n",
    "      StartTime : The time that the command should StartTime\n",
    "      Begin : The beginning value\n",
    "\n",
    "    Returns :\n",
    "      The command at the current timestep or an array representing the command\n",
    "      over the times given (if CurrTime was an array)\n",
    "    \"\"\"\n",
    "\n",
    "    Amp = Amp - Begin\n",
    "\n",
    "    scurve = 2.0 * ((CurrTime - StartTime)/RiseTime)**2 * (CurrTime-StartTime >=\n",
    "             0) * (CurrTime-StartTime < RiseTime/2) + (-2.0 * ((CurrTime -\n",
    "             StartTime)/RiseTime)**2 + 4.0 * ((CurrTime - StartTime) /RiseTime)\n",
    "             - 1.0) * (CurrTime-StartTime >= RiseTime/2) * (CurrTime-StartTime <\n",
    "             RiseTime) + 1.0 * (CurrTime-StartTime >= RiseTime)\n",
    "\n",
    "    return (Amp * scurve) + Begin"
   ]
  },
  {
   "cell_type": "code",
   "execution_count": 27,
   "metadata": {
    "collapsed": false
   },
   "outputs": [],
   "source": [
    "# Define the states and state vector\n",
    "w1, w2, w3, w4, w5, w6, w7, w8 = sympy.symbols('w1 w2 w3 w4 w5 w6 w7 w8', cls=sympy.Function)\n",
    "w = [w1(t), w2(t), w3(t), w4(t), w5(t), w6(t), w7(t), w8(t)]\n",
    "\n",
    "# Set up the state definitions and parameter substitution\n",
    "sub_params = {x : w1(t),\n",
    "              y : w2(t),\n",
    "              beta: w3(t),\n",
    "              e: w4(t),\n",
    "              x_dot: w5(t), \n",
    "              y_dot: w6(t),\n",
    "              beta_dot: w7(t),\n",
    "              e_dot: w8(t),\n",
    "              m : plate_mass,\n",
    "              m_rod: rod_mass,\n",
    "              g : 9.81,\n",
    "              k : 100,\n",
    "#               L_1_init:s_curve(t, L1_begin, L1_end, Rise_time, time_begin),\n",
    "#               L_2_init:s_curve(t, L2_begin, L2_end, Rise_time, time_begin),\n",
    "              L_1_init: 11.2540742933393,\n",
    "              L_2_init: 11.2540742933393,\n",
    "              H : 20.0,\n",
    "              c : 10,\n",
    "              c_beta: 30,\n",
    "              k_beta: 10,\n",
    "              k_rod: 250,\n",
    "              c_rod: 10,\n",
    "              a : plate_width,\n",
    "              b : plate_height,\n",
    "              D: rod_length,\n",
    "              Izz_rod: inertia_rod,\n",
    "              Izz: inertia,\n",
    "              F: 0}\n",
    "\n",
    "# set this parameter to enable array output from sympy.lambdify\n",
    "mat2array = [{'ImmutableMatrix': np.array}, 'numpy']\n",
    "\n",
    "# Create a function from the equations of motion\n",
    "# Here, we substitude the states and parameters as appropriate prior to the lamdification\n",
    "eq_of_motion = sympy.lambdify((t, w),\n",
    "                              lrhs.subs(sub_params),\n",
    "                              modules = mat2array)\n",
    "\n",
    "\n",
    "x0 = [10, 13, 0.0, -0.07848, 0.0, 0.0, 0.0, 0.0]\n",
    "# -0.07848\n",
    "# Positive beta is to the left when facing the structure\n",
    "sim_time = np.linspace(0.0, 20, 1000)\n",
    "\n",
    "\n",
    "# In[33]:\n",
    "\n",
    "# Set up the initial point for the ode solver\n",
    "r = ode(eq_of_motion).set_initial_value(x0, sim_time[0])\n",
    "\n",
    "# define the sample time\n",
    "dt = sim_time[1] - sim_time[0]\n",
    "\n",
    "# pre-populate the response array with zeros\n",
    "response = np.zeros((len(sim_time), len(x0)))\n",
    "\n",
    "# Set the initial index to 0\n",
    "index = 0\n",
    "\n",
    "# Now, numerically integrate the ODE while:\n",
    "#   1. the last step was successful\n",
    "#   2. the current time is less than the desired simluation end time\n",
    "while r.successful() and r.t < sim_time[-1]:\n",
    "    response[index, :] = r.y\n",
    "    r.integrate(r.t + dt)\n",
    "    index += 1"
   ]
  },
  {
   "cell_type": "code",
   "execution_count": 28,
   "metadata": {
    "collapsed": false
   },
   "outputs": [],
   "source": [
    "# import matplotlib\n",
    "# matplotlib.use('agg')\n",
    "# import matplotlib.pyplot as plt\n",
    "# from matplotlib.patches import Rectangle\n",
    "\n",
    "# fig = plt.figure()\n",
    "# ax = fig.add_subplot(1, 1, 1)\n",
    "# r = Rectangle((0.5, 1.0), 2, 1, angle=45.0)\n",
    "# # ax.add_patch(r)\n",
    "# ax.set_xlim(0, 3)\n",
    "# ax.set_ylim(0, 3)\n",
    "# ax.set_aspect('equal')"
   ]
  },
  {
   "cell_type": "code",
   "execution_count": null,
   "metadata": {
    "collapsed": false
   },
   "outputs": [],
   "source": []
  },
  {
   "cell_type": "code",
   "execution_count": 30,
   "metadata": {
    "collapsed": false
   },
   "outputs": [
    {
     "data": {
      "image/png": "[encoded data removed]",
      "text/plain": [
       "<matplotlib.figure.Figure at 0x1118d1cc0>"
      ]
     },
     "metadata": {},
     "output_type": "display_data"
    }
   ],
   "source": [
    "sim_time = np.linspace(0.0, 20, 999)\n",
    "\n",
    "fig = plt.figure(0)\n",
    "fig.add_subplot(221)\n",
    "plt.plot(sim_time, response[:,0][:999], label='Unshaped')\n",
    "# plt.ylim(25,0)\n",
    "plt.title(r'X Motion')\n",
    "\n",
    "fig.add_subplot(222)\n",
    "plt.plot(sim_time, response[:,1][:999], label='Unshaped')\n",
    "plt.ylim(20,0)\n",
    "plt.title(r'Y Motion')\n",
    "\n",
    "fig.add_subplot(223)\n",
    "plt.plot(sim_time, np.degrees(response[:,2][:999]), label='Unshaped')\n",
    "plt.title(r'$\\beta$ Motion')\n",
    "\n",
    "fig.add_subplot(224)\n",
    "plt.plot(sim_time, response[:,3][:999], label='Unshaped')\n",
    "# plt.ylim(25,0)\n",
    "# plt.legend()\n",
    "plt.title(r'e Motion')\n",
    "# plt.xlabel(r'time (s)')\n",
    "# plt.ylabel(r'meters')\n",
    "plt.tight_layout()\n",
    "plt.show()"
   ]
  },
  {
   "cell_type": "code",
   "execution_count": 31,
   "metadata": {
    "collapsed": true
   },
   "outputs": [],
   "source": [
    "# plt.plot(sim_time, response[:,1][:999], label='Unshaped')\n",
    "# plt.ylim(25,0)\n",
    "# plt.title(r'Y Motion')\n",
    "# plt.show()"
   ]
  },
  {
   "cell_type": "code",
   "execution_count": 32,
   "metadata": {
    "collapsed": false
   },
   "outputs": [],
   "source": [
    "x_resp = response[:,0][:999]\n",
    "y_resp = response[:,1][:999]\n",
    "beta_resp = response[:,2][:999]\n",
    "e_resp = response[:,3][:999]\n",
    "\n",
    "# For the cables and top of rectangle\n",
    "left_point_x = x_resp - (plate_width/2) * np.cos(beta_resp) + (plate_height/2) * np.sin(beta_resp)\n",
    "left_point_y = y_resp - (plate_width/2) * np.sin(beta_resp) - (plate_height/2) * np.cos(beta_resp)\n",
    "\n",
    "right_point_x = x_resp + (plate_width/2) * np.cos(beta_resp) + (plate_height/2) * np.sin(beta_resp)\n",
    "right_point_y = y_resp + (plate_width/2) * np.sin(beta_resp) - (plate_height/2) * np.cos(beta_resp)\n",
    "\n",
    "# For the bottom corner of the rectangle\n",
    "# left_point_x_bottom = x_resp - (plate_width/2) * np.cos(beta_resp) - (plate_height/2) * np.sin(beta_resp)\n",
    "# left_point_y_bottom  = y_resp - (plate_width/2) * np.sin(beta_resp) + (plate_height/2) * np.cos(beta_resp)\n",
    "\n",
    "# right_point_x_bottom  = x_resp + (plate_width/2) * np.cos(beta_resp) - (plate_height/2) * np.sin(beta_resp)\n",
    "# right_point_y_bottom  = y_resp + (plate_width/2) * np.sin(beta_resp) + (plate_height/2) * np.cos(beta_resp)\n",
    "\n",
    "# For the Rod\n",
    "# s_curve(sim_time, 0, 3, 1, 1)\n",
    "bottom_x = (-(rod_length/2 - e_resp)*np.sin(beta_resp) + x_resp)\n",
    "bottom_y = ((rod_length/2 - e_resp)*np.cos(beta_resp) + y_resp)\n",
    "\n",
    "top_x = (-(-rod_length/2 - e_resp)*np.sin(beta_resp) + x_resp)\n",
    "top_y = ((-rod_length/2 - e_resp)*np.cos(beta_resp) + y_resp)\n",
    "\n",
    "# left_point_x = x_resp - (3/2) * np.cos(beta_resp)\n",
    "# left_point_y = y_resp - (3/2) * np.sin(beta_resp)\n",
    "\n",
    "# right_point_x = (20 - x_resp) + (3/2) * np.cos(beta_resp)\n",
    "# right_point_y = y_resp + (3/2) * np.sin(beta_resp)\n",
    "\n",
    "# right_point_x = left_point_x + 3"
   ]
  },
  {
   "cell_type": "code",
   "execution_count": 33,
   "metadata": {
    "collapsed": false
   },
   "outputs": [
    {
     "data": {
      "text/plain": [
       "[<matplotlib.lines.Line2D at 0x111a99a58>]"
      ]
     },
     "execution_count": 33,
     "metadata": {},
     "output_type": "execute_result"
    },
    {
     "data": {
      "image/png": "[encoded data removed]",
      "text/plain": [
       "<matplotlib.figure.Figure at 0x111af91d0>"
      ]
     },
     "metadata": {},
     "output_type": "display_data"
    }
   ],
   "source": [
    "plt.plot(left_point_x, left_point_y)\n",
    "plt.plot(right_point_x, right_point_y)\n",
    "plt.plot(bottom_x, bottom_y)\n",
    "plt.plot(top_x, top_y)\n",
    "# plt.ylim(10,7)"
   ]
  },
  {
   "cell_type": "code",
   "execution_count": 34,
   "metadata": {
    "collapsed": false
   },
   "outputs": [],
   "source": [
    "# import matplotlib.pyplot as plt\n",
    "# import matplotlib.patches as patches\n",
    "\n",
    "# fig1 = plt.figure()\n",
    "# ax1 = fig1.add_subplot(111, aspect='equal')\n",
    "# ax1.add_patch(patches.Rectangle((0.1, 0.1),0.5,0.5,))"
   ]
  },
  {
   "cell_type": "code",
   "execution_count": 35,
   "metadata": {
    "collapsed": false
   },
   "outputs": [
    {
     "name": "stdout",
     "output_type": "stream",
     "text": [
      "Processing frame 0\n",
      "Processing frame 30\n",
      "Processing frame 60\n",
      "Processing frame 90\n",
      "Processing frame 120\n",
      "Processing frame 150\n",
      "Processing frame 180\n",
      "Processing frame 210\n",
      "Processing frame 240\n",
      "Processing frame 270\n"
     ]
    },
    {
     "data": {
      "image/png": "[encoded data removed]",
      "text/plain": [
       "<matplotlib.figure.Figure at 0x1119a9710>"
      ]
     },
     "metadata": {},
     "output_type": "display_data"
    }
   ],
   "source": [
    "import matplotlib.animation as animation\n",
    "\n",
    "# Change some plot properties to make the video work and look better\n",
    "import matplotlib as mpl\n",
    "import matplotlib.patches as patches\n",
    "from matplotlib.patches import Rectangle\n",
    "mpl.rcParams['savefig.dpi'] = 160\n",
    "mpl.rcParams['savefig.bbox'] = 'standard'\n",
    "fig = plt.figure(figsize=(8,4.5))\n",
    "ax = fig.add_subplot(111)\n",
    "plt.ylim(20,0)\n",
    "plt.xlim(0,20)\n",
    "plt.xlabel('Horizontal Motion', fontsize=22, weight='bold', labelpad=5)\n",
    "plt.ylabel('Vertical Motion', fontsize=22, weight='bold', labelpad=10)\n",
    "plt.axes().set_aspect('equal')\n",
    "\n",
    "leftcable, = plt.plot([],[], linewidth=2, linestyle = '-', label='leftcable', color='b')\n",
    "rightcable, = plt.plot([],[], linewidth=2, linestyle = '-', label='rightcable', color='b')\n",
    "barLine, = plt.plot([],[], linewidth=2, linestyle = '-', label='Bar')\n",
    "# plate = ax1.add_patch(patches.Rectangle((0, 0), plate_width, plate_height, angle=0))\n",
    "patch = patches.Rectangle((0, 0), 0, 0, angle=0)\n",
    "# rect = Rectangle(([], []), plate_width, plate_height, angle=[])\n",
    "# ax.add_patch(rect)\n",
    "\n",
    "centerG, = plt.plot([],[], 'ro', label='Center of Gravity')\n",
    "rod,    = plt.plot([],[], linewidth=6, linestyle = '-', label='rod', color='r')\n",
    "\n",
    "def init():\n",
    "    \"\"\" Initialize the lines in the plot \"\"\"\n",
    "    leftcable.set_data([], [])\n",
    "    rightcable.set_data([], [])\n",
    "    barLine.set_data([],[])\n",
    "    centerG.set_data([],[])\n",
    "#     plate.set_data([],[],[])\n",
    "    ax.add_patch(patch)\n",
    "    rod.set_data([],[])\n",
    "\n",
    "    return barLine, leftcable, rightcable, centerG, patch, rod,\n",
    "\n",
    "def animate_un(i):\n",
    "    \"\"\" Update the plot for frame i \"\"\"\n",
    "    if not (i % 30): # print notice every 30th frame\n",
    "        print('Processing frame {}'.format(i))\n",
    "\n",
    "    rightcable.set_data([0, left_point_x[i]], [0, left_point_y[i]])\n",
    "    leftcable.set_data([20, right_point_x[i]], [0, right_point_y[i]])\n",
    "    barLine.set_data([left_point_x[i], right_point_x[i]], [left_point_y[i], right_point_y[i]])\n",
    "    centerG.set_data([x_resp[i]],[y_resp[i]])\n",
    "#     plate.set_data([left_point_x_bottom[i], right_point_x_bottom[i]],\n",
    "#                    [left_point_y_bottom[i], right_point_y_bottom[i]], [beta_resp[i]])\n",
    "    patch.set_width(plate_width)\n",
    "    patch.set_height(plate_height)\n",
    "    patch.set_xy([left_point_x[i], left_point_y[i]])\n",
    "    patch._angle = np.rad2deg(beta_resp[i])\n",
    "    rod.set_data([bottom_x[i], top_x[i]],[bottom_y[i],top_y[i]])\n",
    "\n",
    "    return barLine, leftcable, rightcable, centerG, patch, rod,\n",
    "\n",
    "# def animate_s(i):\n",
    "#     \"\"\" Update the plot for frame i \"\"\"\n",
    "#     if not (i % 30): # print notice every 30th frame\n",
    "#         print('Processing frame {}'.format(i))\n",
    "\n",
    "#     rightcable.set_data([0, x_s[i]], [0, y_s[i]])\n",
    "#     leftcable.set_data([20, x_s[i]], [0, y_s[i]])\n",
    "#     barLine.set_data([x_s[i], xend_s[i]], [y_s[i], yend_s[i]])\n",
    "\n",
    "#     return barLine, leftcable, rightcable,\n",
    "\n",
    "ani_un = animation.FuncAnimation(fig, animate_un, interval = 30, frames = 300,\n",
    "                                 blit = True, init_func = init)\n",
    "# ani_s = animation.FuncAnimation(fig, animate_s, interval = 30, frames = 300,\n",
    "#                                 blit = True, init_func = init)\n",
    "\n",
    "ani_un.save('/Users/forrest/Desktop/unshaped3.mp4', bitrate = 2500, fps = 30)\n",
    "# ani_s.save('ZVEI2mode.mp4', bitrate = 2500, fps = 30)"
   ]
  },
  {
   "cell_type": "code",
   "execution_count": null,
   "metadata": {
    "collapsed": false
   },
   "outputs": [],
   "source": []
  },
  {
   "cell_type": "code",
   "execution_count": null,
   "metadata": {
    "collapsed": true
   },
   "outputs": [],
   "source": [
    "####### Variables to Change ##############\n",
    "\n",
    "# Beginning Point\n",
    "X_begin = 14\n",
    "Y_begin = 7.5\n",
    "\n",
    "# Ending Point\n",
    "X_end = 10\n",
    "Y_end = 7.5\n",
    "\n",
    "# Time to get to Point\n",
    "Risetime = 6.0\n",
    "\n",
    "# Time to start Moving\n",
    "time_begin = 1.0\n",
    "\n",
    "# Mass\n",
    "mass = 10.0\n",
    "\n",
    "# K of Cables\n",
    "cable_K = 100.0\n",
    "\n",
    "# C of Cables\n",
    "cable_C = 10.0\n",
    "\n",
    "# K of Rod\n",
    "rod_K = 10.0\n",
    "\n",
    "# C of Rod\n",
    "rod_C = 1.0\n",
    "\n",
    "# width of plate\n",
    "width = 4.0\n",
    "\n",
    "# height of plate\n",
    "height = 3.0\n",
    "\n",
    "# Time to plot response\n",
    "endtime = 50.0\n",
    "#########################################\n",
    "\n",
    "inertia = (width**2 + height**2) * (mass/12.0) \n",
    "\n",
    "def Lengths(x,y):\n",
    "    k=100\n",
    "    h=20\n",
    "    m=10.0\n",
    "    Fy = np.array([[k*y/np.sqrt(x**2 + y**2), k*y/np.sqrt(y**2 + (h - x)**2)],\n",
    "                   [k*x/np.sqrt(x**2 + y**2), -h*k/np.sqrt(y**2 + (h - x)**2\n",
    "                    )+k*x/np.sqrt(y**2 + (h - x)**2)]])\n",
    "    a = np.array([2*k*y - 9.81*m,-h*k + 2*k*x])\n",
    "    x = np.linalg.solve(Fy,a)\n",
    "    return x"
   ]
  },
  {
   "cell_type": "code",
   "execution_count": null,
   "metadata": {
    "collapsed": false
   },
   "outputs": [],
   "source": [
    "L1_begin, L2_begin = Lengths(X_begin, Y_begin)\n",
    "L1_end, L2_end = Lengths(X_end, Y_end)\n",
    "\n",
    "\n",
    "def s_curve(CurrTime, Begin, Amp, RiseTime, StartTime):\n",
    "    \"\"\"\n",
    "    This was copied from Dr. Vaughan's Input shaping Library\n",
    "    I edited it to allow for a beginning value.\n",
    "\n",
    "    Function to generate an s-curve command\n",
    "\n",
    "    Arguments:\n",
    "      CurrTime : The current timestep or an array of times\n",
    "      Amp : The magnitude of the s-curve (or final setpoint)\n",
    "      RiseTime : The rise time of the curve\n",
    "      StartTime : The time that the command should StartTime\n",
    "      Begin : The beginnning value\n",
    "\n",
    "    Returns :\n",
    "      The command at the current timestep or an array representing the command\n",
    "      over the times given (if CurrTime was an array)\n",
    "    \"\"\"\n",
    "\n",
    "    Amp = Amp - Begin\n",
    "    scurve = 2.0 * ((CurrTime - StartTime)/RiseTime)**2 * (CurrTime-StartTime >= 0) * (CurrTime-StartTime < RiseTime/2)             +(-2.0 * ((CurrTime - StartTime)/RiseTime)**2 + 4.0 * ((CurrTime - StartTime)/RiseTime) - 1.0) * (CurrTime-StartTime >= RiseTime/2) * (CurrTime-StartTime < RiseTime)             + 1.0 * (CurrTime-StartTime >= RiseTime)\n",
    "\n",
    "    return (Amp * scurve) + Begin\n",
    "\n",
    "\n",
    "# Various Shapers\n",
    "\n",
    "# Going with 500rpm\n",
    "# example_shaper = shaping.EI(0.329, 0.101)\n",
    "example_shaper = shaping.ZV_EI_2mode(0.25946057132, 0.00869237035333, 0.47558317356, 0.203271432775)\n",
    "# example_shaper = shaping.ZVD(0.32, 0.032272678421545214)\n",
    "# example_shaper = shaping.ZV_EI_2mode(.466053, 0.032272, .466053, 0.032272)\n",
    "# example_shaper = shaping.UMZVD(.46605358040201028, 0.032272678421545214)\n",
    "# example_shaper = shaping.ZVD_2mode(0.40160804, 0.07159188, 0.047746, 0.0)\n",
    "Shaper = example_shaper.shaper\n",
    "\n",
    "# a = shaping.shaped_input(s_curve, t, Shaper, 10.0,13.0,5.0,3.0)\n",
    "\n",
    "\n",
    "# length_of_rod = 3.0\n",
    "# mass = 1.0\n",
    "# inertia = length_of_rod**2 * (1.0/3.0) * mass\n",
    "\n",
    "############### UNSHAPED #####################################################\n",
    "\n",
    "# Define the states and state vector\n",
    "w1, w2, w3, w4, w5, w6 = sympy.symbols('w1 w2 w3 w4 w5 w6', cls=sympy.Function)\n",
    "w = [w1(t), w2(t), w3(t), w4(t), w5(t), w6(t)]\n",
    "\n",
    "# Set up the state definitions and parameter substitution\n",
    "sub_params = {x : w1(t),\n",
    "              y : w2(t),\n",
    "              beta: w3(t),\n",
    "              x_dot: w4(t),\n",
    "              y_dot: w5(t),\n",
    "              beta_dot: w6(t),\n",
    "              m : mass,\n",
    "              g : 9.81,\n",
    "              k : cable_K,\n",
    "              L_1_init:s_curve(t, L1_begin, L1_end, Risetime, time_begin),\n",
    "              L_2_init:s_curve(t, L2_begin, L2_end, Risetime, time_begin),\n",
    "              H : 20.0,\n",
    "              c : cable_C,\n",
    "              a : width,\n",
    "              b : height,\n",
    "              Izz: inertia}\n",
    "\n",
    "# set this parameter to enable array output from sympy.lambdify\n",
    "mat2array = [{'ImmutableMatrix': np.array}, 'numpy']\n",
    "\n",
    "# Create a function from the equations of motion\n",
    "# Here, we substitude the states and parameters as appropriate prior to the lamdification\n",
    "eq_of_motion = sympy.lambdify((t, w),\n",
    "                              lrhs.subs(sub_params),\n",
    "                              modules = mat2array)\n",
    "\n",
    "\n",
    "x0 = [X_begin, Y_begin, 0.0, 0.0, 0.0, 0.0]\n",
    "\n",
    "# Positive beta is to the left when facing the structure\n",
    "sim_time = np.linspace(0.0, endtime, 1000)\n",
    "\n",
    "\n",
    "# In[33]:\n",
    "\n",
    "# Set up the initial point for the ode solver\n",
    "r = ode(eq_of_motion).set_initial_value(x0, sim_time[0])\n",
    "\n",
    "# define the sample time\n",
    "dt = sim_time[1] - sim_time[0]\n",
    "\n",
    "# pre-populate the response array with zeros\n",
    "response = np.zeros((len(sim_time), len(x0)))\n",
    "\n",
    "# Set the initial index to 0\n",
    "index = 0\n",
    "\n",
    "# Now, numerically integrate the ODE while:\n",
    "#   1. the last step was successful\n",
    "#   2. the current time is less than the desired simluation end time\n",
    "while r.successful() and r.t < sim_time[-1]:\n",
    "    response[index, :] = r.y\n",
    "    r.integrate(r.t + dt)\n",
    "    index += 1\n",
    "\n",
    "# np.savetxt(\"response.csv\", response, delimiter=\",\")\n",
    "# np.savetxt(\"response_shaped.csv\", response2, delimiter=\",\")\n",
    "# np.savetxt(\"sim_time.csv\", sim_time, delimiter=\",\")\n",
    "\n",
    "#############################################################################\n",
    "\n",
    "############### SHAPED ######################################################\n",
    "\n",
    "# Define the states and state vector\n",
    "w1, w2, w3, w4, w5, w6 = sympy.symbols('w1 w2 w3 w4 w5 w6', cls=sympy.Function)\n",
    "w = [w1(t), w2(t), w3(t), w4(t), w5(t), w6(t)]\n",
    "\n",
    "# Set up the state definitions and parameter substitution\n",
    "sub_params = {x : w1(t),\n",
    "              y : w2(t),\n",
    "              beta: w3(t),\n",
    "              x_dot: w4(t),\n",
    "              y_dot: w5(t),\n",
    "              beta_dot: w6(t),\n",
    "              m : mass,\n",
    "              g : 9.81,\n",
    "              k : cable_K,\n",
    "              L_1_init: shaping.shaped_input(s_curve, t, Shaper, L1_begin, L1_end, Risetime, time_begin),\n",
    "              L_2_init: shaping.shaped_input(s_curve, t, Shaper, L2_begin, L2_end, Risetime, time_begin),\n",
    "              H : 20.0,\n",
    "              c : cable_C,\n",
    "              a : width,\n",
    "              b : height,\n",
    "              Izz: inertia}\n",
    "\n",
    "# set this parameter to enable array output from sympy.lambdify\n",
    "mat2array = [{'ImmutableMatrix': np.array}, 'numpy']\n",
    "\n",
    "# Create a function from the equations of motion\n",
    "# Here, we substitude the states and parameters as appropriate prior to the lamdification\n",
    "eq_of_motion = sympy.lambdify((t, w),\n",
    "                              lrhs.subs(sub_params),\n",
    "                              modules = mat2array)\n",
    "\n",
    "x0 = [X_begin, Y_begin, 0.0, 0.0, 0.0, 0.0]\n",
    "\n",
    "# Positive beta is to the left when facing the structure\n",
    "sim_time = np.linspace(0.0, endtime, 1000)\n",
    "\n",
    "\n",
    "# In[33]:\n",
    "\n",
    "# Set up the initial point for the ode solver\n",
    "r = ode(eq_of_motion).set_initial_value(x0, sim_time[0])\n",
    "\n",
    "# define the sample time\n",
    "dt = sim_time[1] - sim_time[0]\n",
    "\n",
    "# pre-populate the response array with zeros\n",
    "response2 = np.zeros((len(sim_time), len(x0)))\n",
    "\n",
    "# Set the initial index to 0\n",
    "index = 0\n",
    "\n",
    "# Now, numerically integrate the ODE while:\n",
    "#   1. the last step was successful\n",
    "#   2. the current time is less than the desired simluation end time\n",
    "while r.successful() and r.t < sim_time[-1]:\n",
    "    response2[index, :] = r.y\n",
    "    r.integrate(r.t + dt)\n",
    "    index += 1\n",
    "\n",
    "# The solver kept putting a zero at the end of the responses so I deleted the\n",
    "# final value\n",
    "# response = response[:998]\n",
    "# response2 = response2[:998]\n",
    "# sim_time = sim_time[:998]\n",
    "#############################################################################"
   ]
  },
  {
   "cell_type": "code",
   "execution_count": null,
   "metadata": {
    "collapsed": false
   },
   "outputs": [],
   "source": [
    "sns.set_palette(\"Paired\")\n",
    "sns.set_context(\"talk\", font_scale=1.2)\n",
    "# sns.set_style(\"darkgrid\")\n",
    "\n",
    "plt.figure(0)\n",
    "# plt.subplot(211)\n",
    "plt.plot(sim_time, response[:,1], label=r'Unshaped')\n",
    "plt.plot(sim_time, response2[:,1], label =r'Shaped')\n",
    "# plt.ylim(25,0)\n",
    "plt.legend()\n",
    "plt.title(r'Y Motion')\n",
    "plt.xlabel(r'time (s)')\n",
    "plt.ylabel(r'meters')\n",
    "plt.show()\n",
    "\n",
    "plt.figure(1)\n",
    "# plt.subplot(211)\n",
    "plt.plot(sim_time, response[:,0], label='Unshaped')\n",
    "plt.plot(sim_time, response2[:,0], label ='Shaped')\n",
    "plt.legend()\n",
    "plt.title('X Motion')\n",
    "plt.xlabel('time (s)')\n",
    "plt.ylabel('meters')\n",
    "plt.show()\n",
    "\n",
    "plt.figure(2)\n",
    "# plt.subplot(211)\n",
    "plt.plot(sim_time, np.degrees(response[:,2]), label='Unshaped')\n",
    "plt.plot(sim_time, np.degrees(response2[:,2]), label ='Shaped')\n",
    "plt.legend()\n",
    "# plt.plot(sim_time, np.degrees(response2[:,2]))\n",
    "# plt.ylim(-15,15)\n",
    "# plt.xlim(0,60)\n",
    "plt.title('Beta Motion')\n",
    "plt.xlabel('time (s)')\n",
    "plt.ylabel('Degrees')\n",
    "# plt.savefig(\"Beta_Motion.pdf\")\n",
    "plt.show()"
   ]
  },
  {
   "cell_type": "code",
   "execution_count": null,
   "metadata": {
    "collapsed": false
   },
   "outputs": [],
   "source": [
    "n=3\n",
    "for i in range(n):\n",
    "    wi = sympy.symbols('wi', cls=sympy.Function)"
   ]
  },
  {
   "cell_type": "code",
   "execution_count": null,
   "metadata": {
    "collapsed": false
   },
   "outputs": [],
   "source": [
    "tree=0\n",
    "yt=0\n",
    "a = {tree:9, yt:5}"
   ]
  },
  {
   "cell_type": "code",
   "execution_count": null,
   "metadata": {
    "collapsed": false
   },
   "outputs": [],
   "source": [
    "n, waste = LM.q.shape\n",
    "m = 2*n\n",
    "m-=1\n",
    "n-=1\n",
    "for i in range(m):\n",
    "    w_i = sympy.symbols('w'+ str(i), cls=sympy.Function)\n",
    "for i in range(n):\n",
    "    q_i = LM.q[i]\n",
    "for i in range(n):\n",
    "    ui = LM.u[i]"
   ]
  },
  {
   "cell_type": "code",
   "execution_count": null,
   "metadata": {
    "collapsed": false
   },
   "outputs": [],
   "source": [
    "n = 3\n",
    "for i in range(n):\n",
    "    qi = LM.q[i]"
   ]
  },
  {
   "cell_type": "code",
   "execution_count": null,
   "metadata": {
    "collapsed": false
   },
   "outputs": [],
   "source": [
    "n, waste = LM.q.shape"
   ]
  },
  {
   "cell_type": "code",
   "execution_count": null,
   "metadata": {
    "collapsed": false
   },
   "outputs": [],
   "source": [
    "i"
   ]
  },
  {
   "cell_type": "code",
   "execution_count": null,
   "metadata": {
    "collapsed": true
   },
   "outputs": [],
   "source": [
    "def Lengths2(x,y):\n",
    "    theta = 0.0\n",
    "    a = 4.0\n",
    "    k=10\n",
    "    h=20\n",
    "    m=1.0\n",
    "    L_1 = np.sqrt((x-(a/2)*np.cos(theta))**2 + (y-(a/2)*np.sin(theta))**2)\n",
    "    L_2 = np.sqrt(((h-x)+(a/2)*np.cos(theta))**2 + (y+(a/2)*np.sin(theta))**2)\n",
    "    Fy = np.array([[k*y/L_1, k*y/L_2],\n",
    "                   [k*x/L_1, -h*k/L_2+k*x/L_2]])\n",
    "    a = np.array([2*k*y - 9.81*m,-h*k + 2*k*x])\n",
    "    x = np.linalg.solve(Fy,a)\n",
    "    return x"
   ]
  },
  {
   "cell_type": "code",
   "execution_count": null,
   "metadata": {
    "collapsed": false
   },
   "outputs": [],
   "source": [
    "Lengths2(10, 7.5)"
   ]
  },
  {
   "cell_type": "code",
   "execution_count": null,
   "metadata": {
    "collapsed": true
   },
   "outputs": [],
   "source": []
  }
 ],
 "metadata": {
  "kernelspec": {
   "display_name": "Python 3",
   "language": "python",
   "name": "python3"
  },
  "language_info": {
   "codemirror_mode": {
    "name": "ipython",
    "version": 3
   },
   "file_extension": ".py",
   "mimetype": "text/x-python",
   "name": "python",
   "nbconvert_exporter": "python",
   "pygments_lexer": "ipython3",
   "version": "3.5.2"
  }
 },
 "nbformat": 4,
 "nbformat_minor": 0
}

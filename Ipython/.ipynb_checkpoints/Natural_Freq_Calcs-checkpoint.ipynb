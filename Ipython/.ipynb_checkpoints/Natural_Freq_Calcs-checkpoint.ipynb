{
 "cells": [
  {
   "cell_type": "code",
   "execution_count": 1,
   "metadata": {
    "collapsed": true
   },
   "outputs": [],
   "source": [
    "import numpy as np\n",
    "import pandas as pd\n",
    "\n",
    "import sympy\n",
    "import sympy.physics.mechanics as me\n",
    "from decimal import Decimal\n",
    "from scipy.linalg import eigvals"
   ]
  },
  {
   "cell_type": "code",
   "execution_count": 2,
   "metadata": {
    "collapsed": true
   },
   "outputs": [],
   "source": [
    "# This is to calculate the Lengths of the cables for the Linearized Natural Frequency\n",
    "\n",
    "# Create the variables\n",
    "x, y, beta = me.dynamicsymbols('x, y, beta')\n",
    "\n",
    "# Create the velocities\n",
    "x_dot, y_dot, beta_dot = me.dynamicsymbols('x, y, beta', 1)\n",
    "\n",
    "# Create the constants\n",
    "m, k, L, g, H, c, D,t, Izz, k_beta, c_beta = sympy.symbols('m k L g H c D t Izz k_beta c_beta')\n",
    "L_1_init, L_2_init, Le1, Le2 = sympy.symbols('L_1_init L_2_init Le1 Le2')\n",
    "\n",
    "# Create the world frame\n",
    "N = me.ReferenceFrame('N')\n",
    "\n",
    "# Create the rod frame\n",
    "B = N.orientnew('B', 'axis', [beta, N.z])\n",
    "\n",
    "# Set the rotation of the rod frame\n",
    "B.set_ang_vel(N, beta_dot * N.z)\n",
    "\n",
    "# Create the Origin\n",
    "O1 = me.Point('O_1')\n",
    "\n",
    "# Set origin velocity to zero\n",
    "O1.set_vel(N, 0 * N.x)\n",
    "\n",
    "# Create the second attachment point\n",
    "O2 = O1.locatenew('O_2', H * N.x)\n",
    "O2.set_vel(N, 0 * N.x)\n",
    "\n",
    "# Locate the point in the N frame\n",
    "# P = me.Point('pen')\n",
    "P = O1.locatenew('P', x * N.x + y * N.y)\n",
    "\n",
    "# P.set_pos(O1, x * N.x + y * N.y)\n",
    "\n",
    "# Set the point's velocity\n",
    "P.set_vel(N, x_dot * N.x + y_dot * N.y)\n",
    "\n",
    "# Create the rod center of mass\n",
    "G = P.locatenew('G', D/2 * B.y)\n",
    "\n",
    "# Set the velocity of G\n",
    "G.v2pt_theory(P, N, B)\n",
    "\n",
    "# Create the rod\n",
    "I_rod = me.inertia(B, 0, 0, Izz)\n",
    "rod = me.RigidBody('rod', G, B, m, (I_rod, G))\n",
    "\n",
    "# Create the distance from the point to each attachment point\n",
    "L1 = O1.pos_from(P).magnitude\n",
    "L2 = O2.pos_from(P).magnitude\n",
    "L1_vector = O1.pos_from(P).normalize\n",
    "L2_vector = O2.pos_from(P).normalize\n",
    "\n",
    "F1 = (Le1 - L1()) * k * L1_vector()\n",
    "F2 = (Le2 - L2()) * k * L2_vector()\n",
    "\n",
    "# Create the height from the center of gravity to the datum\n",
    "h = G.pos_from(O1) & N.y\n",
    "\n",
    "# The forces at the connection point\n",
    "forceP = c * (x_dot + y_dot) * L1_vector() + c * (x_dot + y_dot) * L2_vector()\n",
    "\n",
    "# The forces on the beta frame\n",
    "forceB = -c_beta * beta_dot * N.z\n",
    "\n",
    "rod.potential_energy = (-m * g * h + 0.5 * k * (L1() - L_1_init)**2 + 0.5 * k *(L2() - \n",
    "                        L_2_init)**2 + 0.5 * k_beta * beta**2)\n",
    "\n",
    "Lag = me.Lagrangian(N, rod)\n",
    "\n",
    "LM = me.LagrangesMethod(Lag, [x, y, beta], forcelist=[(P, forceP), (B, forceB)], frame=N)\n",
    "\n",
    "# No damping\n",
    "# LM = me.LagrangesMethod(Lag, [x, y, beta], frame=N)\n",
    "EqMotion = LM.form_lagranges_equations()\n",
    "lrhs = LM.rhs()"
   ]
  },
  {
   "cell_type": "code",
   "execution_count": 20,
   "metadata": {
    "collapsed": false
   },
   "outputs": [
    {
     "data": {
      "text/plain": [
       "(21.1617015459533, 19.0536003033547)"
      ]
     },
     "execution_count": 20,
     "metadata": {},
     "output_type": "execute_result"
    }
   ],
   "source": [
    "True_length(12,18)"
   ]
  },
  {
   "cell_type": "code",
   "execution_count": 4,
   "metadata": {
    "collapsed": false
   },
   "outputs": [
    {
     "ename": "NameError",
     "evalue": "name 'True_length' is not defined",
     "output_type": "error",
     "traceback": [
      "\u001b[0;31m---------------------------------------------------------------------------\u001b[0m",
      "\u001b[0;31mNameError\u001b[0m                                 Traceback (most recent call last)",
      "\u001b[0;32m<ipython-input-4-11e2a192ba7a>\u001b[0m in \u001b[0;36m<module>\u001b[0;34m()\u001b[0m\n\u001b[0;32m----> 1\u001b[0;31m \u001b[0mTrue_length\u001b[0m\u001b[0;34m(\u001b[0m\u001b[0mpoints\u001b[0m\u001b[0;34m[\u001b[0m\u001b[0mi\u001b[0m\u001b[0;34m]\u001b[0m\u001b[0;34m[\u001b[0m\u001b[0;36m0\u001b[0m\u001b[0;34m]\u001b[0m\u001b[0;34m,\u001b[0m\u001b[0mpoints\u001b[0m\u001b[0;34m[\u001b[0m\u001b[0mi\u001b[0m\u001b[0;34m]\u001b[0m\u001b[0;34m[\u001b[0m\u001b[0;36m1\u001b[0m\u001b[0;34m]\u001b[0m\u001b[0;34m)\u001b[0m\u001b[0;34m\u001b[0m\u001b[0m\n\u001b[0m",
      "\u001b[0;31mNameError\u001b[0m: name 'True_length' is not defined"
     ]
    }
   ],
   "source": [
    "True_length(points[i][0],points[i][1])"
   ]
  },
  {
   "cell_type": "code",
   "execution_count": 5,
   "metadata": {
    "collapsed": false
   },
   "outputs": [
    {
     "ename": "NameError",
     "evalue": "name 'points' is not defined",
     "output_type": "error",
     "traceback": [
      "\u001b[0;31m---------------------------------------------------------------------------\u001b[0m",
      "\u001b[0;31mNameError\u001b[0m                                 Traceback (most recent call last)",
      "\u001b[0;32m<ipython-input-5-d7ccfbf44501>\u001b[0m in \u001b[0;36m<module>\u001b[0;34m()\u001b[0m\n\u001b[0;32m----> 1\u001b[0;31m \u001b[0mpoints\u001b[0m\u001b[0;34m[\u001b[0m\u001b[0;36m1\u001b[0m\u001b[0;34m]\u001b[0m\u001b[0;34m\u001b[0m\u001b[0m\n\u001b[0m",
      "\u001b[0;31mNameError\u001b[0m: name 'points' is not defined"
     ]
    }
   ],
   "source": [
    "points[1]"
   ]
  },
  {
   "cell_type": "code",
   "execution_count": 6,
   "metadata": {
    "collapsed": true
   },
   "outputs": [],
   "source": [
    "points_x = np.array([[6.5], [6.5], [6.5], [6.5], [6.5], [6.5], [6.5], [6.5],[7.5], [8.5],\n",
    "                     [9.5],[10.5],[11.5],[12.5],[13.5],[14],[14],[14],[14],[14],[14],[14],\n",
    "                     [14],[13.5],[12.5],[11.5],[10.5],[9.5],[8.5],[7.5]])\n",
    "\n",
    "points_y = np.array([[5],[6],[7],[8],[9],[10],[11],[12],[12],[12],[12],[12],[12],[12],[12],\n",
    "                     [12],[11],[10],[9],[8],[7],[6],[5],[4.5],[4.5],[4.5],[4.5],[4.5],[4.5],\n",
    "                     [4.5]])\n",
    "points = np.hstack([points_x, points_y])"
   ]
  },
  {
   "cell_type": "code",
   "execution_count": null,
   "metadata": {
    "collapsed": true
   },
   "outputs": [],
   "source": []
  },
  {
   "cell_type": "code",
   "execution_count": 16,
   "metadata": {
    "collapsed": true
   },
   "outputs": [],
   "source": [
    "def True_length(x,y):\n",
    "    '''\n",
    "    This calculates the True lengths of the cables, for any given X and Y the geometric cable\n",
    "    lengths will not be correct because of the spring stretch. This calculates the cable length \n",
    "    that will stretch to the X and Y position. \n",
    "    \n",
    "    Y has to be above 1 or the cables cannot reach that position. \n",
    "    \n",
    "    The sympy solver is very slow it would be more efficent to use numpy,\n",
    "    however this only has to be run once to get the lengths so the convience of this slow \n",
    "    algebric solver is ok.\n",
    "    ''' \n",
    "    h = 20.0\n",
    "    g = 9.81\n",
    "    k = 10.0\n",
    "    m = 1.0\n",
    "    \n",
    "    Fx = (-k*(-Le1 + sympy.sqrt(x**2 + y**2))*x/sympy.sqrt(x**2 + y**2) + \n",
    "         k*(h - x)*(-Le2 + np.sqrt((h - x)**2 + y**2))/sympy.sqrt((h - x)**2 + y**2))\n",
    "    \n",
    "    Fy = (-k*(-Le1 + sympy.sqrt(x**2 + y**2))*y/sympy.sqrt(x**2 + y**2) + \n",
    "          -k*(-Le2 + sympy.sqrt((h - x)**2 + y**2))*y/sympy.sqrt((h - x)**2 + y**2)) + m*g\n",
    "    \n",
    "    solution = sympy.solvers.solve([Fx,Fy])\n",
    "    L1d = solution[Le1] \n",
    "    L2d = solution[Le2]\n",
    "#     L1 = round(L1d,4)\n",
    "#     L2 = round(L2d,4)\n",
    "    return L1d, L2d"
   ]
  },
  {
   "cell_type": "code",
   "execution_count": 4,
   "metadata": {
    "collapsed": false
   },
   "outputs": [],
   "source": [
    "# Actual width\n",
    "h = 20.0\n",
    "\n",
    "# Actual Height\n",
    "# Because of how this program gets the cable lengths \n",
    "# this will be +1 whatever height you put here.\n",
    "U = 10.0\n",
    "\n",
    "# How many divisions?\n",
    "h_div = 10.0\n",
    "U_div = 10.0\n",
    "nx = int(h_div)\n",
    "ny = int(U_div)\n",
    "n = int(h_div * U_div)\n",
    "\n",
    "# Gets the amount of grid squares\n",
    "Area = h_div * U_div\n",
    "\n",
    "# Breaks the actual dimensions of grid sizes\n",
    "Squares_horz = h / h_div\n",
    "Squares_vert = U / U_div\n",
    "\n",
    "# Gets the locations of the centers of the grid squares\n",
    "Centers_horz = Squares_horz / 2.0\n",
    "Centers_vert = Squares_vert / 2.0\n",
    "\n",
    "dimsx = np.array([(0)])\n",
    "for i in range(nx):\n",
    "    X = np.array([(Centers_horz + Squares_horz * i)]) \n",
    "    dimsx = np.vstack([dimsx,X])\n",
    "dimsx_no_zero = dimsx[1:,:]\n",
    "# dimsx_no_zero_final = np.vstack([dimsx_no_zero,dimsx_no_zero,dimsx_no_zero,dimsx_no_zero,dimsx_no_zero])\n",
    "\n",
    "dimsy = np.array([(0)])\n",
    "for i in range(ny):\n",
    "    Y = np.array([(Centers_vert + Squares_vert * i + 1)]) \n",
    "    dimsy = np.vstack([dimsy,Y])\n",
    "dimsy_no_zero = dimsy[1:,:]\n",
    "# dimsx_no_zero_final = np.vstack([dimsx_no_zero,dimsx_no_zero,dimsx_no_zero,dimsx_no_zero,dimsx_no_zero])\n",
    "\n",
    "dims = np.hstack([0,0])\n",
    "\n",
    "for i in range(ny):\n",
    "    a = np.zeros((nx, 1))\n",
    "    a.fill(np.asscalar(dimsy_no_zero[i]))\n",
    "    dims_temp = np.hstack([dimsx_no_zero, a])\n",
    "    dims = np.vstack([dims,dims_temp])\n",
    "dims_no_zero = dims[1:,:]"
   ]
  },
  {
   "cell_type": "code",
   "execution_count": 37,
   "metadata": {
    "collapsed": false
   },
   "outputs": [
    {
     "data": {
      "text/plain": [
       "6.5"
      ]
     },
     "execution_count": 37,
     "metadata": {},
     "output_type": "execute_result"
    }
   ],
   "source": [
    "points_x = np.array([[6.5], [6.5], [6.5], [6.5], [6.5], [6.5], [6.5], [6.5],[7.5], [8.5],\n",
    "                     [9.5],[10.5],[11.5],[12.5],[13.5],[14],[14],[14],[14],[14],[14],[14],\n",
    "                     [14],[13.5],[12.5],[11.5],[10.5],[9.5],[8.5],[7.5]])\n",
    "\n",
    "points_y = np.array([[5],[6],[7],[8],[9],[10],[11],[12],[12],[12],[12],[12],[12],[12],[12],\n",
    "                     [12],[11],[10],[9],[8],[7],[6],[5],[4.5],[4.5],[4.5],[4.5],[4.5],[4.5],\n",
    "                     [4.5]])\n",
    "points = np.hstack([points_x, points_y])\n",
    "# np.shape(points_y)\n",
    "n = np.shape(points)[0]\n",
    "points[0][0]"
   ]
  },
  {
   "cell_type": "code",
   "execution_count": 5,
   "metadata": {
    "collapsed": false
   },
   "outputs": [
    {
     "data": {
      "text/plain": [
       "(11.6825, 11.6825)"
      ]
     },
     "execution_count": 5,
     "metadata": {},
     "output_type": "execute_result"
    }
   ],
   "source": [
    "True_length(10,7.5)"
   ]
  },
  {
   "cell_type": "code",
   "execution_count": 6,
   "metadata": {
    "collapsed": false
   },
   "outputs": [],
   "source": [
    "###### ORIGINAL ########\n",
    "\n",
    "# Lengths = np.array([(0,0)])\n",
    "\n",
    "# for i in range(n):\n",
    "#         X,Y = dims_no_zero[i,:]\n",
    "#         H = 20\n",
    "#         L1 = np.sqrt(Y**2 + X**2)\n",
    "#         L2 = np.sqrt(Y**2 + (H - X)**2)\n",
    "#         Lengths = np.append(Lengths, [(L1, L2)], axis=0)\n",
    "# Lengths_no_zero = Lengths[1:,:]"
   ]
  },
  {
   "cell_type": "code",
   "execution_count": 6,
   "metadata": {
    "collapsed": false,
    "scrolled": true
   },
   "outputs": [
    {
     "name": "stdout",
     "output_type": "stream",
     "text": [
      "0\n",
      "1\n",
      "2\n",
      "3\n",
      "4\n",
      "5\n",
      "6\n",
      "7\n",
      "8\n",
      "9\n",
      "10\n",
      "11\n",
      "12\n",
      "13\n",
      "14\n",
      "15\n",
      "16\n",
      "17\n",
      "18\n",
      "19\n",
      "20\n",
      "21\n",
      "22\n",
      "23\n",
      "24\n",
      "25\n",
      "26\n",
      "27\n",
      "28\n",
      "29\n",
      "30\n",
      "31\n",
      "32\n",
      "33\n",
      "34\n",
      "35\n",
      "36\n",
      "37\n",
      "38\n",
      "39\n",
      "40\n",
      "41\n",
      "42\n",
      "43\n",
      "44\n",
      "45\n",
      "46\n",
      "47\n",
      "48\n",
      "49\n",
      "50\n",
      "51\n",
      "52\n",
      "53\n",
      "54\n",
      "55\n",
      "56\n",
      "57\n",
      "58\n",
      "59\n",
      "60\n",
      "61\n",
      "62\n",
      "63\n",
      "64\n",
      "65\n",
      "66\n",
      "67\n",
      "68\n",
      "69\n",
      "70\n",
      "71\n",
      "72\n",
      "73\n",
      "74\n",
      "75\n",
      "76\n",
      "77\n",
      "78\n",
      "79\n",
      "80\n",
      "81\n",
      "82\n",
      "83\n",
      "84\n",
      "85\n",
      "86\n",
      "87\n",
      "88\n",
      "89\n",
      "90\n",
      "91\n",
      "92\n",
      "93\n",
      "94\n",
      "95\n",
      "96\n",
      "97\n",
      "98\n",
      "99\n"
     ]
    }
   ],
   "source": [
    "Lengths = np.array([(0,0)])\n",
    "\n",
    "for i in range(n):\n",
    "        X,Y = dims_no_zero[i,:]\n",
    "        L1, L2 = True_length(X,Y)\n",
    "        print(i)\n",
    "        Lengths = np.append(Lengths, [(L1, L2)], axis=0)\n",
    "Lengths_no_zero = Lengths[1:,:]"
   ]
  },
  {
   "cell_type": "code",
   "execution_count": 7,
   "metadata": {
    "collapsed": false
   },
   "outputs": [
    {
     "name": "stdout",
     "output_type": "stream",
     "text": [
      "[ 11.    3.5] [ 10.0874   8.168 ]\n"
     ]
    }
   ],
   "source": [
    "print(dims_no_zero[25], Lengths_no_zero[25])"
   ]
  },
  {
   "cell_type": "code",
   "execution_count": null,
   "metadata": {
    "collapsed": false
   },
   "outputs": [],
   "source": []
  },
  {
   "cell_type": "code",
   "execution_count": null,
   "metadata": {
    "collapsed": true
   },
   "outputs": [],
   "source": []
  },
  {
   "cell_type": "code",
   "execution_count": 8,
   "metadata": {
    "collapsed": false,
    "scrolled": true
   },
   "outputs": [
    {
     "ename": "IndexError",
     "evalue": "index 1 is out of bounds for axis 0 with size 1",
     "output_type": "error",
     "traceback": [
      "\u001b[0;31m---------------------------------------------------------------------------\u001b[0m",
      "\u001b[0;31mIndexError\u001b[0m                                Traceback (most recent call last)",
      "\u001b[0;32m<ipython-input-8-6f7e3c68c548>\u001b[0m in \u001b[0;36m<module>\u001b[0;34m()\u001b[0m\n\u001b[1;32m     26\u001b[0m     \u001b[0mdamping_index\u001b[0m \u001b[0;34m=\u001b[0m \u001b[0mnp\u001b[0m\u001b[0;34m.\u001b[0m\u001b[0margsort\u001b[0m\u001b[0;34m(\u001b[0m\u001b[0mdamping\u001b[0m\u001b[0;34m)\u001b[0m\u001b[0;34m\u001b[0m\u001b[0m\n\u001b[1;32m     27\u001b[0m     \u001b[0meigen_index\u001b[0m \u001b[0;34m=\u001b[0m \u001b[0mnp\u001b[0m\u001b[0;34m.\u001b[0m\u001b[0margsort\u001b[0m\u001b[0;34m(\u001b[0m\u001b[0meigen\u001b[0m\u001b[0;34m)\u001b[0m\u001b[0;34m\u001b[0m\u001b[0m\n\u001b[0;32m---> 28\u001b[0;31m     \u001b[0mhighd\u001b[0m\u001b[0;34m,\u001b[0m \u001b[0mmediumd\u001b[0m\u001b[0;34m,\u001b[0m \u001b[0mlowd\u001b[0m \u001b[0;34m=\u001b[0m \u001b[0mdamping\u001b[0m\u001b[0;34m[\u001b[0m\u001b[0mdamping_index\u001b[0m\u001b[0;34m]\u001b[0m\u001b[0;34m[\u001b[0m\u001b[0;34m:\u001b[0m\u001b[0;34m:\u001b[0m\u001b[0;34m-\u001b[0m\u001b[0;36m1\u001b[0m\u001b[0;34m]\u001b[0m\u001b[0;34m[\u001b[0m\u001b[0;34m:\u001b[0m\u001b[0;36m3\u001b[0m\u001b[0;34m]\u001b[0m\u001b[0;34m[\u001b[0m\u001b[0;36m0\u001b[0m\u001b[0;34m:\u001b[0m\u001b[0;36m3\u001b[0m\u001b[0;34m]\u001b[0m\u001b[0;34m\u001b[0m\u001b[0m\n\u001b[0m\u001b[1;32m     29\u001b[0m     \u001b[0mhigh\u001b[0m\u001b[0;34m,\u001b[0m \u001b[0mmedium\u001b[0m\u001b[0;34m,\u001b[0m \u001b[0mlow\u001b[0m \u001b[0;34m=\u001b[0m \u001b[0meigen\u001b[0m\u001b[0;34m[\u001b[0m\u001b[0meigen_index\u001b[0m\u001b[0;34m]\u001b[0m\u001b[0;34m[\u001b[0m\u001b[0;34m:\u001b[0m\u001b[0;34m:\u001b[0m\u001b[0;34m-\u001b[0m\u001b[0;36m1\u001b[0m\u001b[0;34m]\u001b[0m\u001b[0;34m[\u001b[0m\u001b[0;34m:\u001b[0m\u001b[0;36m3\u001b[0m\u001b[0;34m]\u001b[0m\u001b[0;34m[\u001b[0m\u001b[0;36m0\u001b[0m\u001b[0;34m:\u001b[0m\u001b[0;36m3\u001b[0m\u001b[0;34m]\u001b[0m\u001b[0;34m\u001b[0m\u001b[0m\n\u001b[1;32m     30\u001b[0m \u001b[0;34m\u001b[0m\u001b[0m\n",
      "\u001b[0;31mIndexError\u001b[0m: index 1 is out of bounds for axis 0 with size 1"
     ]
    }
   ],
   "source": [
    "nat_freq_high_eigen = np.array([(0)])\n",
    "nat_freq_medium_eigen = np.array([(0)])\n",
    "nat_freq_low_eigen = np.array([(0)])\n",
    "damp_low = np.array([(0)])\n",
    "damp_medium = np.array([(0)])\n",
    "damp_high = np.array([(0)])\n",
    "\n",
    "for i in range(n):\n",
    "    \n",
    "    operating_point = {x:dims_no_zero[i,0], y:dims_no_zero[i,1], beta:0, x_dot:0, y_dot:0, beta_dot:0}\n",
    "\n",
    "    A, B, inp_vec = LM.linearize([x,y,beta], [x_dot, y_dot, beta_dot],\n",
    "                                 op_point=operating_point,\n",
    "                                 A_and_B=True)\n",
    "    A_Sub = A.subs({k:10.0,m:1.0,g:9.81, L_1_init:Lengths_no_zero[i,0],L_2_init:Lengths_no_zero[i,1],\n",
    "                    H:20.0, c:1.0,c_beta:1.0,x_dot:0.0,y_dot:0.0, beta_dot:0.0, D:1.0,Izz:0.33,k_beta:1.0})\n",
    "    test_matrix = A_Sub.doit()\n",
    "    test_object = np.array(test_matrix)\n",
    "    test = test_object.astype(float)\n",
    "    eigenvals, eigenvects = np.linalg.eig(test)\n",
    "    eigen = np.unique(np.abs(eigenvals)*(1.0/(2*np.pi)))\n",
    "    damping1 = -np.real(eigen[0]) / eigen[0]\n",
    "    damping2 = -np.real(eigen[1]) / eigen[1]\n",
    "    damping3 = -np.real(eigen[2]) / eigen[2]\n",
    "    damping = np.array([(damping1,damping2,damping3)])\n",
    "    damping_index = np.argsort(damping)\n",
    "    eigen_index = np.argsort(eigen)\n",
    "    highd, mediumd, lowd = damping[damping_index][::-1][:3][0:3]\n",
    "    high, medium, low = eigen[eigen_index][::-1][:3][0:3]\n",
    "    \n",
    "    print(i)\n",
    "    \n",
    "    nat_freq_high_eigen = np.append(nat_freq_high_eigen, [(high)], axis=0)\n",
    "    nat_freq_medium_eigen = np.append(nat_freq_medium_eigen, [(medium)], axis=0)\n",
    "    nat_freq_low_eigen = np.append(nat_freq_low_eigen, [(low)], axis=0)\n",
    "    damp_high = np.append(damp_high, [(highd)], axis=0)\n",
    "    damp_medium = np.append(damp_medium, [(mediumd)], axis=0)\n",
    "    damp_low = np.append(damp_low, [(lowd)], axis=0)"
   ]
  },
  {
   "cell_type": "code",
   "execution_count": null,
   "metadata": {
    "collapsed": false
   },
   "outputs": [],
   "source": [
    "nat_freq_high_eigen_no_zero = nat_freq_high_eigen[1:]\n",
    "nat_freq_medium_eigen_no_zero = nat_freq_medium_eigen[1:]\n",
    "nat_freq_low_eigen_no_zero = nat_freq_low_eigen[1:]"
   ]
  },
  {
   "cell_type": "code",
   "execution_count": 26,
   "metadata": {
    "collapsed": false
   },
   "outputs": [],
   "source": [
    "# np.savetxt(\"nat_freq_high_eigen_no_zero.csv\", nat_freq_high_eigen_no_zero, delimiter=\",\")\n",
    "# np.savetxt(\"nat_freq_medium_eigen_no_zero.csv\", nat_freq_medium_eigen_no_zero, delimiter=\",\")\n",
    "# np.savetxt(\"nat_freq_low_eigen_no_zero.csv\", nat_freq_low_eigen_no_zero, delimiter=\",\")"
   ]
  },
  {
   "cell_type": "code",
   "execution_count": null,
   "metadata": {
    "collapsed": false
   },
   "outputs": [],
   "source": []
  },
  {
   "cell_type": "code",
   "execution_count": null,
   "metadata": {
    "collapsed": true
   },
   "outputs": [],
   "source": [
    "def eq_of_motion(w, t, p):\n",
    "    \"\"\"\n",
    "    Defines the differential equations for the coupled spring-mass system.\n",
    "\n",
    "    Arguments:\n",
    "        w :  vector of the state variables:\n",
    "                  w = [x, theta, x_dot, theta_dot]\n",
    "        t :  time\n",
    "        p :  vector of the parameters:\n",
    "                  p = [m1, m2, k, l, g, wf]\n",
    "    \n",
    "    Returns:\n",
    "        sysODE : An list representing the system of equations of motion as 1st order ODEs\n",
    "    \"\"\"\n",
    "    x, y, beta, x_dot, y_dot, beta_dot = w\n",
    "    m, k, g, H, c, D,t, Izz, k_beta, c_beta, L_1_init, L_2_init = p\n",
    "\n",
    "    # Create sysODE = (x', theta', x_dot', theta_dot'):\n",
    "    sysODE = [x_dot,\n",
    "              y_dot,\n",
    "              beta_dot,\n",
    "              (-D*m*sin(beta)*beta_dot**2/2 + D*m*(-D*g*m*sin(beta)/2 + D*(-D*m*sin(beta)*beta_dot**2/2 + c*(H - x)*(x_dot + y_dot)/sqrt((H - x)**2 + y**2) - c*(x_dot + y_dot)*x/sqrt(x**2 + y**2) - 1.0*k*(-H + x)*(-L_2_init + sqrt((H - x)**2 + y**2))/sqrt((H - x)**2 + y**2) - 1.0*k*(-L_1_init + sqrt(x**2 + y**2))*x/sqrt(x**2 + y**2))*cos(beta)/2 + D*(D*m*cos(beta)*beta_dot**2/2 - c*(x_dot + y_dot)*y/sqrt(x**2 + y**2) - c*(x_dot + y_dot)*y/sqrt((H - x)**2 + y**2) + g*m - 1.0*k*(-L_1_init + sqrt(x**2 + y**2))*y/sqrt(x**2 + y**2) - 1.0*k*(-L_2_init + sqrt((H - x)**2 + y**2))*y/sqrt((H - x)**2 + y**2))*sin(beta)/2 - c_beta*beta_dot - 1.0*k_beta*beta - m*(-D*(-sin(beta)*beta_dot*x_dot + cos(beta)*beta_dot*y_dot)/2 + D*sin(beta)*beta_dot*x_dot/2 - D*cos(beta)*beta_dot*y_dot/2)/2 + m*(-D*(-sin(beta)*x_dot + cos(beta)*y_dot)*beta_dot/2 + D*sin(beta)*beta_dot*x_dot/2 - D*cos(beta)*beta_dot*y_dot/2)/2)*cos(beta)/(2*(-D**2*m*sin(beta)**2/4 - D**2*m*cos(beta)**2/4 + D**2*m/4 + Izz)) + c*(H - x)*(x_dot + y_dot)/sqrt((H - x)**2 + y**2) - c*(x_dot + y_dot)*x/sqrt(x**2 + y**2) - 1.0*k*(-H + x)*(-L_2_init + sqrt((H - x)**2 + y**2))/sqrt((H - x)**2 + y**2) - 1.0*k*(-L_1_init + sqrt(x**2 + y**2))*x/sqrt(x**2 + y**2))/m,\n",
    "              (D*m*cos(beta)*beta_dot**2/2 + D*m*(-D*g*m*sin(beta)/2 + D*(-D*m*sin(beta)*beta_dot**2/2 + c*(H - x)*(x_dot + y_dot)/sqrt((H - x)**2 + y**2) - c*(x_dot + y_dot)*x/sqrt(x**2 + y**2) - 1.0*k*(-H + x)*(-L_2_init + sqrt((H - x)**2 + y**2))/sqrt((H - x)**2 + y**2) - 1.0*k*(-L_1_init + sqrt(x**2 + y**2))*x/sqrt(x**2 + y**2))*cos(beta)/2 + D*(D*m*cos(beta)*beta_dot**2/2 - c*(x_dot + y_dot)*y/sqrt(x**2 + y**2) - c*(x_dot + y_dot)*y/sqrt((H - x)**2 + y**2) + g*m - 1.0*k*(-L_1_init + sqrt(x**2 + y**2))*y/sqrt(x**2 + y**2) - 1.0*k*(-L_2_init + sqrt((H - x)**2 + y**2))*y/sqrt((H - x)**2 + y**2))*sin(beta)/2 - c_beta*beta_dot - 1.0*k_beta*beta - m*(-D*(-sin(beta)*beta_dot*x_dot + cos(beta)*beta_dot*y_dot)/2 + D*sin(beta)*beta_dot*x_dot/2 - D*cos(beta)*beta_dot*y_dot/2)/2 + m*(-D*(-sin(beta)*x_dot + cos(beta)*y_dot)*beta_dot/2 + D*sin(beta)*beta_dot*x_dot/2 - D*cos(beta)*beta_dot*y_dot/2)/2)*sin(beta)/(2*(-D**2*m*sin(beta)**2/4 - D**2*m*cos(beta)**2/4 + D**2*m/4 + Izz)) - c*(x_dot + y_dot)*y/sqrt(x**2 + y**2) - c*(x_dot + y_dot)*y/sqrt((H - x)**2 + y**2) + g*m - 1.0*k*(-L_1_init + sqrt(x**2 + y**2))*y/sqrt(x**2 + y**2) - 1.0*k*(-L_2_init + sqrt((H - x)**2 + y**2))*y/sqrt((H - x)**2 + y**2))/m,\n",
    "              (-D*g*m*sin(beta)/2 + D*(-D*m*sin(beta)*beta_dot**2/2 + c*(H - x)*(x_dot + y_dot)/sqrt((H - x)**2 + y**2) - c*(x_dot + y_dot)*x/sqrt(x**2 + y**2) - 1.0*k*(-H + x)*(-L_2_init + sqrt((H - x)**2 + y**2))/sqrt((H - x)**2 + y**2) - 1.0*k*(-L_1_init + sqrt(x**2 + y**2))*x/sqrt(x**2 + y**2))*cos(beta)/2 + D*(D*m*cos(beta)*beta_dot**2/2 - c*(x_dot + y_dot)*y/sqrt(x**2 + y**2) - c*(x_dot + y_dot)*y/sqrt((H - x)**2 + y**2) + g*m - 1.0*k*(-L_1_init + sqrt(x**2 + y**2))*y/sqrt(x**2 + y**2) - 1.0*k*(-L_2_init + sqrt((H - x)**2 + y**2))*y/sqrt((H - x)**2 + y**2))*sin(beta)/2 - c_beta*beta_dot - 1.0*k_beta*beta - m*(-D*(-sin(beta)*beta_dot*x_dot + cos(beta)*beta_dot*y_dot)/2 + D*sin(beta)*beta_dot*x_dot/2 - D*cos(beta)*beta_dot*y_dot/2)/2 + m*(-D*(-sin(beta)*x_dot + cos(beta)*y_dot)*beta_dot/2 + D*sin(beta)*beta_dot*x_dot/2 - D*cos(beta)*beta_dot*y_dot/2)/2)/(-D**2*m*sin(beta)**2/4 - D**2*m*cos(beta)**2/4 + D**2*m/4 + Izz)\n",
    "             ]\n",
    "    return sysODE"
   ]
  },
  {
   "cell_type": "code",
   "execution_count": null,
   "metadata": {
    "collapsed": false,
    "scrolled": true
   },
   "outputs": [],
   "source": [
    "from scipy.integrate import odeint\n",
    "import numpy as np\n",
    "from numpy import sin, cos, sqrt\n",
    "import seaborn as sns\n",
    "sns.set_context(\"notebook\", font_scale=1.5, rc={\"lines.linewidth\": 2.5})\n",
    "import matplotlib.pyplot as plt\n",
    "%matplotlib inline"
   ]
  },
  {
   "cell_type": "code",
   "execution_count": null,
   "metadata": {
    "collapsed": false,
    "scrolled": true
   },
   "outputs": [],
   "source": [
    "# nat_freq = np.array([(0)])\n",
    "nat_freq_high = np.array([(0)])\n",
    "nat_freq_medium = np.array([(0)])\n",
    "nat_freq_low = np.array([(0)])\n",
    "\n",
    "damping = np.array([(0)])\n",
    "\n",
    "for i in range(n):\n",
    "    # Set up simulation parameters \n",
    "    m = 1.0\n",
    "    k = 10.0 \n",
    "    # L = 1.0 \n",
    "    g = 9.81 \n",
    "    H = 20.0 \n",
    "    c = 1.0 \n",
    "    D = 1.0 \n",
    "    Izz = 0.3333\n",
    "    k_beta = 1.0\n",
    "    c_beta = 1.0\n",
    "    # L_1_init = 5.38343814\n",
    "    # L_2_init = 16.70273649\n",
    "    L_1_init = Lengths_no_zero[i,0]\n",
    "    L_2_init = Lengths_no_zero[i,1]\n",
    "\n",
    "    # ODE solver parameters\n",
    "    abserr = 1.0e-9\n",
    "    relerr = 1.0e-9\n",
    "    max_step = 0.01\n",
    "    stoptime = 50.0\n",
    "    numpoints = 10000\n",
    "\n",
    "    # Create the time samples for the output of the ODE solver\n",
    "    t = np.linspace(0.0, stoptime, numpoints)\n",
    "\n",
    "    # Initial conditions\n",
    "    x_init = dims_no_zero[i,0] + 0.5                        # initial position\n",
    "    # x_init = -6.25\n",
    "    x_dot_init = 0.0                    # initial velocity\n",
    "    y_init = dims_no_zero[i,1] + 0.5                  # initial angle\n",
    "    # y_init = 3.8625\n",
    "    y_dot_init = 0.0                # initial angular velocity\n",
    "    beta_init = 0.0                        # initial position\n",
    "    beta_dot_init = 0.0 \n",
    "\n",
    "    # wf = np.np.sqrt(k / m1)                # forcing function frequency\n",
    "    # Pack the parameters and initial conditions into arrays \n",
    "    p = [m, k, g, H, c, D, t, Izz, k_beta, c_beta, L_1_init, L_2_init]\n",
    "    x0 = [x_init, y_init, beta_init, x_dot_init, y_dot_init, beta_dot_init]\n",
    "    resp = odeint(eq_of_motion, x0, t, args=(p,), atol=abserr, rtol=relerr,  hmax=max_step)\n",
    "    freq, mag = CRAWLAB_fft(resp[:,2],t,False)\n",
    "#     freq_index = np.argmax(mag)\n",
    "    # Should return the zero crossings\n",
    "    zeros = get_zero_crossings(t, np.degrees(resp[:,2]))\n",
    "\n",
    "    # Get the peaks of the response\n",
    "    localMaxes, localMax_Times, localMins, localMin_Times = get_local_Extrema(t, np.degrees(resp[:,2]))\n",
    "\n",
    "    # Calculate the damping ratio from both the local maxes and the local minimums\n",
    "    zeta_maxes = log_dec(localMaxes[0],localMaxes[-1],len(localMaxes)-1)\n",
    "    zeta_mins = log_dec(localMins[0],localMins[-1],len(localMins)-1)\n",
    "\n",
    "    # Average the damping ratio from the positive and negative sides of the plot.\n",
    "    zeta_fromLogDec = np.mean([zeta_maxes, zeta_mins]) \n",
    "\n",
    "    damping = np.append(damping, [(zeta_fromLogDec)], axis=0)\n",
    "    \n",
    "#     nat_freq = np.append(nat_freq, [(freq[freq_index])], axis=0)\n",
    "    localMaxes, localMax_Times, localMins, localMin_Times = get_local_Extrema(freq,mag)\n",
    "    \n",
    "    first_max = np.argmax(localMaxes)\n",
    "    localMaxes[first_max] = 0\n",
    "    high_mode = localMax_Times[first_max]\n",
    "    nat_freq_high = np.append(nat_freq_high, [(high_mode)], axis=0)\n",
    "\n",
    "    second_max = np.argmax(localMaxes)\n",
    "    localMaxes[second_max] = 0\n",
    "    medium_mode = localMax_Times[second_max]\n",
    "    nat_freq_medium = np.append(nat_freq_medium, [(medium_mode)], axis=0)\n",
    "\n",
    "    third_max = np.argmax(localMaxes)\n",
    "    low_mode = localMax_Times[third_max]\n",
    "    nat_freq_low = np.append(nat_freq_low, [(low_mode)], axis=0)\n",
    "    print(i)\n",
    "#     print('High Mode:{}'.format(high_mode))\n",
    "#     print('Medium Mode:{}'.format(medium_mode))\n",
    "#     print('Low Mode:{}'.format(low_mode))"
   ]
  },
  {
   "cell_type": "code",
   "execution_count": null,
   "metadata": {
    "collapsed": false,
    "scrolled": false
   },
   "outputs": [],
   "source": [
    "nat_freq_high_no_zero = nat_freq_high[1:]\n",
    "nat_freq_medium_no_zero = nat_freq_medium[1:]\n",
    "nat_freq_low_no_zero = nat_freq_low[1:]\n",
    "damping_no_zero = damping[1:]\n",
    "# nat_freq_no_zero\n",
    "# damping_no_zero"
   ]
  },
  {
   "cell_type": "code",
   "execution_count": null,
   "metadata": {
    "collapsed": true
   },
   "outputs": [],
   "source": [
    "np.savetxt(\"nat_freq_high.csv\", nat_freq_high_no_zero, delimiter=\",\")\n",
    "np.savetxt(\"nat_freq_medium.csv\", nat_freq_medium_no_zero, delimiter=\",\")\n",
    "np.savetxt(\"nat_freq_low.csv\", nat_freq_low_no_zero, delimiter=\",\")"
   ]
  },
  {
   "cell_type": "code",
   "execution_count": null,
   "metadata": {
    "collapsed": false
   },
   "outputs": [],
   "source": [
    "sns.set(context=\"paper\", font=\"monospace\")\n",
    "from mpl_toolkits.mplot3d import Axes3D\n",
    "from matplotlib import cm"
   ]
  },
  {
   "cell_type": "code",
   "execution_count": null,
   "metadata": {
    "collapsed": false
   },
   "outputs": [],
   "source": [
    "plt.figure(0)\n",
    "Heat1 = np.hstack((np.fliplr(dims_no_zero), np.reshape(nat_freq_high_no_zero,(n,1))))\n",
    "df = pd.DataFrame(Heat1, columns=list('YXF'))\n",
    "Heats1 = df.pivot(\"Y\", \"X\", \"F\")\n",
    "# Draw a heatmap with the numeric values in each cell\n",
    "sns.heatmap(Heats1, annot=False, fmt=\"d\", linewidths=0, cmap=\"inferno\", xticklabels=False, yticklabels=False,\n",
    "           vmin=0, vmax=1.5)\n",
    "plt.title('Low Mode Natural Frequency Across Workspace', y = 1.05)\n",
    "plt.savefig(\"Low_Mode_Natural_Frequency.pdf\")\n",
    "print(\"The average is: {}\".format(np.average(nat_freq_high_no_zero)))"
   ]
  },
  {
   "cell_type": "code",
   "execution_count": null,
   "metadata": {
    "collapsed": false
   },
   "outputs": [],
   "source": [
    "nat_freq_high_no_zero\n",
    "nat_freq_low_no_zero[10]"
   ]
  },
  {
   "cell_type": "code",
   "execution_count": null,
   "metadata": {
    "collapsed": false
   },
   "outputs": [],
   "source": [
    "fig1 = plt.figure(1)\n",
    "ax1 = fig1.gca(projection='3d')         # set the 3d axes\n",
    "\n",
    "\n",
    "ax1.plot_trisurf(dims_no_zero[:,0], dims_no_zero[:,1], nat_freq_high_no_zero, cmap=\"YlGnBu\", \n",
    "                linewidth=0.0)\n",
    "ax1.set_axis_bgcolor('white')\n",
    "plt.title('Low Mode Natural Frequency Across Workspace')\n",
    "# plt.savefig(\"Low_Mode_Natural_Frequency.pdf\")"
   ]
  },
  {
   "cell_type": "code",
   "execution_count": null,
   "metadata": {
    "collapsed": false
   },
   "outputs": [],
   "source": [
    "plt.figure(2)\n",
    "Heat2 = np.hstack((np.fliplr(dims_no_zero), np.reshape(nat_freq_medium_no_zero,(n,1))))\n",
    "df = pd.DataFrame(Heat2, columns=list('YXF'))\n",
    "\n",
    "Heats2 = df.pivot(\"Y\", \"X\", \"F\")\n",
    "\n",
    "# Draw a heatmap with the numeric values in each cell\n",
    "sns.heatmap(Heats2, annot=False, fmt=\"d\", linewidths=0, cmap=\"inferno\", xticklabels=False, yticklabels=False,\n",
    "           vmin=0, vmax=1.5)\n",
    "plt.title('Medium Mode Natural Frequency Across Workspace', y = 1.05)\n",
    "plt.savefig(\"Medium_Mode_Natural_Frequency.pdf\")\n",
    "print(\"The average is: {}\".format(np.average(nat_freq_medium_no_zero)))"
   ]
  },
  {
   "cell_type": "code",
   "execution_count": null,
   "metadata": {
    "collapsed": false
   },
   "outputs": [],
   "source": [
    "fig3 = plt.figure(3)\n",
    "ax3 = fig3.gca(projection='3d')\n",
    "\n",
    "ax3.set_axis_bgcolor('white')\n",
    "ax3.plot_trisurf(dims_no_zero[:,0], dims_no_zero[:,1], nat_freq_medium_no_zero, cmap=\"YlGnBu\", linewidth=0.0)\n",
    "plt.title('Medium Mode Natural Frequency Across Workspace')\n",
    "# plt.savefig(\"Medium_Mode_Natural_Frequency.pdf\")"
   ]
  },
  {
   "cell_type": "code",
   "execution_count": null,
   "metadata": {
    "collapsed": false
   },
   "outputs": [],
   "source": [
    "plt.figure(4)\n",
    "Heat3 = np.hstack((np.fliplr(dims_no_zero), np.reshape(nat_freq_low_no_zero,(n,1))))\n",
    "df = pd.DataFrame(Heat3, columns=list('YXF'))\n",
    "\n",
    "Heats3 = df.pivot(\"Y\", \"X\", \"F\")\n",
    "\n",
    "# Draw a heatmap with the numeric values in each cell\n",
    "sns.heatmap(Heats3, annot=False, fmt=\"d\", linewidths=0, cmap=\"inferno\", xticklabels=False, yticklabels=False,\n",
    "           vmin=0, vmax=1.5)\n",
    "plt.title('High Mode Natural Frequency Across Workspace', y = 1.05)\n",
    "plt.savefig(\"High_Mode_Natural_Frequency.pdf\")\n",
    "print(\"The average is: {}\".format(np.average(nat_freq_low_no_zero)))"
   ]
  },
  {
   "cell_type": "code",
   "execution_count": null,
   "metadata": {
    "collapsed": false
   },
   "outputs": [],
   "source": [
    "fig5 = plt.figure(5)\n",
    "ax5 = fig5.gca(projection='3d')\n",
    "\n",
    "ax5.set_axis_bgcolor('white')\n",
    "ax5.plot_trisurf(dims_no_zero[:,0], dims_no_zero[:,1], nat_freq_low_no_zero, \n",
    "                cmap=\"YlGnBu\", linewidth=0.0)"
   ]
  },
  {
   "cell_type": "code",
   "execution_count": null,
   "metadata": {
    "collapsed": false
   },
   "outputs": [],
   "source": [
    "plt.figure(6)\n",
    "Heatd = np.hstack((np.fliplr(dims_no_zero), np.reshape(damping_no_zero,(n,1))))\n",
    "dfd = pd.DataFrame(Heatd, columns=list('YXD'))\n",
    "\n",
    "Heatsd = dfd.pivot(\"Y\", \"X\", \"D\")\n",
    "\n",
    "# Draw a heatmap with the numeric values in each cell\n",
    "sns.heatmap(Heatsd, annot=False, fmt=\"d\", linewidths=0, cmap=\"YlGnBu\", xticklabels=False, yticklabels=False)\n",
    "plt.title('Damping Ratio Across Workspace', y = 1.05)\n",
    "plt.savefig(\"Damping_Ratio.pdf\")\n",
    "print(\"The average is: {}\".format(np.nanmean(damping_no_zero)))"
   ]
  },
  {
   "cell_type": "code",
   "execution_count": null,
   "metadata": {
    "collapsed": false
   },
   "outputs": [],
   "source": [
    "fig7 = plt.figure(7)\n",
    "ax7 = fig7.gca(projection='3d')\n",
    "\n",
    "ax7.set_axis_bgcolor('white')\n",
    "ax7.plot_trisurf(dims_no_zero[:,0], dims_no_zero[:,1], damping_no_zero, \n",
    "                cmap=\"YlGnBu\", linewidth=0.1)"
   ]
  },
  {
   "cell_type": "code",
   "execution_count": null,
   "metadata": {
    "collapsed": false
   },
   "outputs": [],
   "source": [
    "plt.figure(0)\n",
    "Heat4 = np.hstack((np.fliplr(dims_no_zero), np.reshape(nat_freq_high_eigen_no_zero,(n,1))))\n",
    "df = pd.DataFrame(Heat4, columns=list('YXF'))\n",
    "Heats4 = df.pivot(\"Y\", \"X\", \"F\")\n",
    "# Draw a heatmap with the numeric values in each cell\n",
    "sns.heatmap(Heats4, annot=False, fmt=\"d\", linewidths=0, cmap=\"inferno\", xticklabels=False, yticklabels=False,\n",
    "           )\n",
    "plt.title('Low Mode Natural Frequency Across Workspace Eigenvalue', y = 1.05)\n",
    "# plt.savefig(\"Low_Mode_Natural_Frequency_eigen.pdf\")\n",
    "print(\"The average is: {}\".format(np.average(nat_freq_high_eigen_no_zero)))"
   ]
  },
  {
   "cell_type": "code",
   "execution_count": null,
   "metadata": {
    "collapsed": false
   },
   "outputs": [],
   "source": [
    "plt.figure(0)\n",
    "Heat5 = np.hstack((np.fliplr(dims_no_zero), np.reshape(nat_freq_medium_eigen_no_zero,(n,1))))\n",
    "df = pd.DataFrame(Heat5, columns=list('YXF'))\n",
    "Heats5 = df.pivot(\"Y\", \"X\", \"F\")\n",
    "# Draw a heatmap with the numeric values in each cell\n",
    "sns.heatmap(Heats5, annot=False, fmt=\"d\", linewidths=0, cmap=\"inferno\", xticklabels=False, yticklabels=False)\n",
    "plt.title('Medium Mode Natural Frequency Across Workspace Eigenvalue', y = 1.05)\n",
    "# plt.savefig(\"Medium_Mode_Natural_Frequency_eigen.pdf\")\n",
    "print(\"The average is: {}\".format(np.average(nat_freq_medium_eigen_no_zero)))"
   ]
  },
  {
   "cell_type": "code",
   "execution_count": null,
   "metadata": {
    "collapsed": false
   },
   "outputs": [],
   "source": [
    "plt.figure(0)\n",
    "Heat6 = np.hstack((np.fliplr(dims_no_zero), np.reshape(nat_freq_low_eigen_no_zero,(n,1))))\n",
    "df = pd.DataFrame(Heat6, columns=list('YXF'))\n",
    "Heats6 = df.pivot(\"Y\", \"X\", \"F\")\n",
    "# Draw a heatmap with the numeric values in each cell\n",
    "sns.heatmap(Heats6, annot=False, fmt=\"d\", linewidths=0, cmap=\"inferno\", xticklabels=False, yticklabels=False)\n",
    "plt.title('High Mode Natural Frequency Across Workspace Eigenvalue', y = 1.05)\n",
    "# plt.savefig(\"High_Mode_Natural_Frequency_eigen.pdf\")\n",
    "print(\"The average is: {}\".format(np.average(nat_freq_low_eigen_no_zero)))"
   ]
  },
  {
   "cell_type": "code",
   "execution_count": null,
   "metadata": {
    "collapsed": true
   },
   "outputs": [],
   "source": [
    "def CRAWLAB_fft(data,time,plotflag):\n",
    "    ''' Function to get the FFT for a response\n",
    "    #\n",
    "    # Inputs:\n",
    "    #   time = time array corresponding to the data\n",
    "    #   data = the response data array (only pass a single dimension/state at at time)\n",
    "    #   plotflag = will plot the FFT if nonzero\n",
    "    #   \n",
    "    # Output:\n",
    "    #   fft_freq = an array of the freqs used in the FFT\n",
    "    #   fft_mag = an array of the amplitude of the FFT at each freq in fft_freq\n",
    "    #\n",
    "    # Created: 03/28/14\n",
    "    #   - Joshua Vaughan\n",
    "    #   - joshua.vaughan@louisiana.edu\n",
    "    #   - http://www.ucs.louisiana.edu/~jev9637\n",
    "    ######################################################################################\n",
    "    '''\n",
    "    \n",
    "    from scipy.fftpack import fft\n",
    "    \n",
    "    # correct for any DC offset\n",
    "    offset = np.mean(data) \n",
    "\n",
    "    # Get the natural frequency\n",
    "    sample_time = time[1] - time[0]\n",
    "    n = len(data)\n",
    "\n",
    "    fft_mag = fft((data - offset)*np.hanning(len(data)))\n",
    "    fft_freq = np.linspace(0.0, 1.0/(2.0*sample_time), n/2)\n",
    "    \n",
    "    # Only return the \"useful\" part of the fft\n",
    "    fft_mag = 2.0/n * np.abs(fft_mag[0:n/2])\n",
    "    \n",
    "    if plotflag:\n",
    "        # Plot the relationshiop\n",
    "        #   Many of these setting could also be made default by the .matplotlibrc file\n",
    "        fig = plt.figure(figsize=(6,4))\n",
    "        ax = plt.gca()\n",
    "        plt.subplots_adjust(bottom=0.17,left=0.17,top=0.96,right=0.96)\n",
    "        plt.setp(ax.get_ymajorticklabels(),fontsize=18)\n",
    "        plt.setp(ax.get_xmajorticklabels(),fontsize=18)\n",
    "        ax.spines['right'].set_color('none')\n",
    "        ax.spines['top'].set_color('none')\n",
    "        ax.xaxis.set_ticks_position('bottom')\n",
    "        ax.yaxis.set_ticks_position('left')\n",
    "        ax.grid(True,linestyle=':',color='0.75')\n",
    "        ax.set_axisbelow(True)\n",
    "\n",
    "        plt.xlabel('Frequency (Hz)',fontsize=22,labelpad=8)\n",
    "        plt.ylabel('FFT magnitude',fontsize=22,labelpad=10)\n",
    "    \n",
    "        plt.plot(fft_freq, fft_mag, linewidth=2, linestyle='-')\n",
    "        \n",
    "        # Adjust the page layout filling the page using the new tight_layout command\n",
    "        plt.tight_layout(pad=0.5)\n",
    "        plt.show()\n",
    "    \n",
    "    return fft_freq, fft_mag"
   ]
  },
  {
   "cell_type": "code",
   "execution_count": null,
   "metadata": {
    "collapsed": true
   },
   "outputs": [],
   "source": [
    "# First define all the functions we'll need.\n",
    "def log_dec(peak1,peak2,num_cycles):\n",
    "    '''##########################################################################################\n",
    "    # log_dec.py\n",
    "    #\n",
    "    # Script to compute damping ratio using log dec method\n",
    "    #\n",
    "    # Inputs:\n",
    "    #   peak1 = the amplitude of the first peak\n",
    "    #   peak2 = the amplitude of the Nth peak\n",
    "    #   num_cycles = the number of periods between two peaks\n",
    "    # \n",
    "    # Output:\n",
    "    #   zeta = the damping ratio\n",
    "    #\n",
    "    # NOTE: Plotting is set up for output, not viewing on screen.\n",
    "    #       So, it will likely be ugly on screen. The saved PDFs should look\n",
    "    #       better.\n",
    "    #\n",
    "    # Created: 03/28/14\n",
    "    #   - Joshua Vaughan\n",
    "    #   - joshua.vaughan@louisiana.edu\n",
    "    #   - http://www.ucs.louisiana.edu/~jev9637\n",
    "    #\n",
    "    # Modified:\n",
    "    #   *\n",
    "    #\n",
    "    ######################################################################################\n",
    "    '''\n",
    "    import numpy as np\n",
    "\n",
    "    delta = 1./num_cycles*np.log(peak1 / peak2)\n",
    "\n",
    "    zeta = 1./np.sqrt(1 + (2 * np.pi/delta)**2)\n",
    "    \n",
    "    return zeta\n",
    "    \n",
    "\n",
    "def get_local_Extrema(time,data):\n",
    "    ''' # Function to get the local extrema for a response\n",
    "    #\n",
    "    # Inputs:\n",
    "    #   time = time array corresponding to the data\n",
    "    #   data = the response data array (only pass a single dimension/state at at time)\n",
    "    #\n",
    "    # Output:\n",
    "    #   localMaxes = the amplitude of the local maxes\n",
    "    #   localMax_Times = the times of the local maxes\n",
    "    #\n",
    "    # Created: 03/28/14\n",
    "    #   - Joshua Vaughan\n",
    "    #   - joshua.vaughan@louisiana.edu\n",
    "    #   - http://www.ucs.louisiana.edu/~jev9637\n",
    "    ######################################################################################\n",
    "    '''\n",
    "    from scipy import signal\n",
    "    \n",
    "    # Get local maximums\n",
    "    localMax_indexes = signal.argrelextrema(data, np.greater)\n",
    "    localMaxes = data[localMax_indexes]\n",
    "    localMax_Times = time[localMax_indexes]\n",
    "\n",
    "    # Get local minimums\n",
    "    localMin_indexes = signal.argrelextrema(data, np.less)\n",
    "    localMins = data[localMin_indexes]\n",
    "    localMin_Times = time[localMin_indexes]\n",
    "    \n",
    "    return localMaxes, localMax_Times, localMins, localMin_Times\n",
    "    \n",
    "\n",
    "def get_zero_crossings(time,data):\n",
    "    ''' Function to get the local extrema for a response\n",
    "    #\n",
    "    # Inputs:\n",
    "    #   time = time array corresponding to the data\n",
    "    #   data = the response data array (only pass a single dimension/state at at time)\n",
    "    #   \n",
    "    # Output:\n",
    "    #   zeros = an array of the times of the zero crossings\n",
    "    #\n",
    "    # Created: 03/28/14\n",
    "    #   - Joshua Vaughan\n",
    "    #   - joshua.vaughan@louisiana.edu\n",
    "    #   - http://www.ucs.louisiana.edu/~jev9637\n",
    "    ######################################################################################\n",
    "    '''\n",
    "    \n",
    "    # create an empty zeros array\n",
    "    zeros = []\n",
    "    \n",
    "    for index in range(len(time)-1):\n",
    "        if np.sign(data[index]) != np.sign(data[index + 1]):\n",
    "            zeros.append(time[index])\n",
    "    \n",
    "    return zeros"
   ]
  },
  {
   "cell_type": "code",
   "execution_count": null,
   "metadata": {
    "collapsed": false
   },
   "outputs": [],
   "source": [
    "freq, mag = CRAWLAB_fft(resp[:,2],t,False)"
   ]
  },
  {
   "cell_type": "code",
   "execution_count": null,
   "metadata": {
    "collapsed": false
   },
   "outputs": [],
   "source": [
    "plt.figure(6)\n",
    "plt.plot(freq, mag)\n",
    "plt.title('FFT')\n",
    "plt.xlabel('frequency')\n",
    "plt.ylabel('Magnitude')\n",
    "plt.xlim(0, 5)\n",
    "freq_index = np.argmax(mag)\n",
    "print freq[freq_index]"
   ]
  },
  {
   "cell_type": "code",
   "execution_count": null,
   "metadata": {
    "collapsed": false
   },
   "outputs": [],
   "source": [
    "localMaxes, localMax_Times, localMins, localMin_Times = get_local_Extrema(freq,mag)"
   ]
  },
  {
   "cell_type": "code",
   "execution_count": null,
   "metadata": {
    "collapsed": false
   },
   "outputs": [],
   "source": [
    "first_max = np.argmax(localMaxes)\n",
    "localMaxes[first_max] = 0\n",
    "high_mode = localMax_Times[first_max]\n",
    "nat_freq_high = np.append(nat_freq_high, [(high_mode)], axis=0)\n",
    "\n",
    "second_max = np.argmax(localMaxes)\n",
    "localMaxes[second_max] = 0\n",
    "medium_mode = localMax_Times[second_max]\n",
    "nat_freq_medium = np.append(nat_freq_medium, [(medium_mode)], axis=0)\n",
    "\n",
    "third_max = np.argmax(localMaxes)\n",
    "low_mode = localMax_Times[third_max]\n",
    "nat_freq_low = np.append(nat_freq_low, [(low_mode)], axis=0)\n",
    "\n",
    "# print(high_mode, medium_mode, low_mode)"
   ]
  },
  {
   "cell_type": "code",
   "execution_count": null,
   "metadata": {
    "collapsed": false
   },
   "outputs": [],
   "source": [
    "FFT_maxes = np.hstack((np.reshape(localMaxes, (12,1)), np.reshape(localMax_Times, (12,1))))"
   ]
  },
  {
   "cell_type": "code",
   "execution_count": null,
   "metadata": {
    "collapsed": false
   },
   "outputs": [],
   "source": []
  },
  {
   "cell_type": "code",
   "execution_count": null,
   "metadata": {
    "collapsed": false
   },
   "outputs": [],
   "source": []
  },
  {
   "cell_type": "code",
   "execution_count": null,
   "metadata": {
    "collapsed": false
   },
   "outputs": [],
   "source": []
  },
  {
   "cell_type": "code",
   "execution_count": null,
   "metadata": {
    "collapsed": true
   },
   "outputs": [],
   "source": []
  }
 ],
 "metadata": {
  "kernelspec": {
   "display_name": "Python 3",
   "language": "python",
   "name": "python3"
  },
  "language_info": {
   "codemirror_mode": {
    "name": "ipython",
    "version": 3
   },
   "file_extension": ".py",
   "mimetype": "text/x-python",
   "name": "python",
   "nbconvert_exporter": "python",
   "pygments_lexer": "ipython3",
   "version": "3.5.1"
  }
 },
 "nbformat": 4,
 "nbformat_minor": 0
}

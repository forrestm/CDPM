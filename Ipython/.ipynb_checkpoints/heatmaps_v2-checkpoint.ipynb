{
 "cells": [
  {
   "cell_type": "code",
   "execution_count": 70,
   "metadata": {
    "collapsed": true
   },
   "outputs": [],
   "source": [
    "import matplotlib.pyplot as plt\n",
    "import numpy as np\n",
    "%matplotlib inline\n",
    "whole = np.genfromtxt ('/Users/forrest/Desktop/XY_L1L2_natflmh_damplmh.csv', delimiter=\",\")"
   ]
  },
  {
   "cell_type": "code",
   "execution_count": 82,
   "metadata": {
    "collapsed": false
   },
   "outputs": [
    {
     "name": "stdout",
     "output_type": "stream",
     "text": [
      "& 1.076 & 1.076 & 1.073 & 1.078 & 0.465 & 0.001\n"
     ]
    }
   ],
   "source": [
    "stats = (whole[:,4]/(2*np.pi))\n",
    "mean = round(np.mean(stats), 3)\n",
    "median = round(np.median(stats), 3)\n",
    "npmin = round(np.min(stats), 3)\n",
    "npmax = round(np.max(stats), 3)\n",
    "percent = round((np.abs(npmax-npmin) / (0.5*(npmax+npmin)))*100, 3)\n",
    "std = round(np.std(stats), 3)\n",
    "print('& {} & {} & {} & {} & {} & {}'.format(mean, median,npmin,npmax,percent,std))"
   ]
  },
  {
   "cell_type": "code",
   "execution_count": 88,
   "metadata": {
    "collapsed": false
   },
   "outputs": [
    {
     "data": {
      "text/plain": [
       "<matplotlib.text.Text at 0x115d26588>"
      ]
     },
     "execution_count": 88,
     "metadata": {},
     "output_type": "execute_result"
    },
    {
     "data": {
      "image/png": "[encoded data removed]",
      "text/plain": [
       "<matplotlib.figure.Figure at 0x115b622b0>"
      ]
     },
     "metadata": {},
     "output_type": "display_data"
    }
   ],
   "source": [
    "fig, ax = plt.subplots()\n",
    "x = whole[:,0]\n",
    "y = whole[:,1]\n",
    "z = whole[:,4]/(2*np.pi)\n",
    "x=np.unique(x)\n",
    "y=np.unique(y)\n",
    "Y,X = np.meshgrid(y,x)\n",
    "\n",
    "Z=z.reshape(len(y),len(x))\n",
    "\n",
    "plt.pcolormesh(X,Y,Z)\n",
    "ax.invert_yaxis()\n",
    "ax.axis('image')\n",
    "\n",
    "cbar = plt.colorbar()\n",
    "cbar.ax.set_title('Hz')\n",
    "plt.xlabel('Horizontal Motion')\n",
    "plt.ylabel('Vertical Motion')\n",
    "# plt.show()"
   ]
  },
  {
   "cell_type": "code",
   "execution_count": 3,
   "metadata": {
    "collapsed": false
   },
   "outputs": [],
   "source": [
    "# fig, ax = plt.subplots()\n",
    "# heatmap = ax.pcolor(data, cmap=plt.cm.Blues)\n",
    "\n",
    "# put the major ticks at the middle of each cell\n",
    "# ax.set_xticks(np.arange(data.shape[0])+0.5, minor=False)\n",
    "# ax.set_yticks(np.arange(data.shape[1])+0.5, minor=False)\n",
    "\n",
    "# want a more natural, table-like display\n",
    "# ax.invert_yaxis()\n",
    "# ax.xaxis.tick_top()\n",
    "\n",
    "# ax.set_xticklabels(row_labels, minor=False)\n",
    "# ax.set_yticklabels(column_labels, minor=False)\n",
    "# plt.show()"
   ]
  },
  {
   "cell_type": "code",
   "execution_count": null,
   "metadata": {
    "collapsed": true
   },
   "outputs": [],
   "source": []
  }
 ],
 "metadata": {
  "kernelspec": {
   "display_name": "Python 3",
   "language": "python",
   "name": "python3"
  },
  "language_info": {
   "codemirror_mode": {
    "name": "ipython",
    "version": 3
   },
   "file_extension": ".py",
   "mimetype": "text/x-python",
   "name": "python",
   "nbconvert_exporter": "python",
   "pygments_lexer": "ipython3",
   "version": "3.5.2"
  }
 },
 "nbformat": 4,
 "nbformat_minor": 0
}

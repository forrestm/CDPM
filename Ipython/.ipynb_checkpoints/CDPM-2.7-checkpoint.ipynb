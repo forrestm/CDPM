{
 "cells": [
  {
   "cell_type": "code",
   "execution_count": 1,
   "metadata": {
    "collapsed": false,
    "scrolled": true
   },
   "outputs": [
    {
     "name": "stderr",
     "output_type": "stream",
     "text": [
      "//anaconda/lib/python3.5/site-packages/matplotlib/__init__.py:872: UserWarning: axes.color_cycle is deprecated and replaced with axes.prop_cycle; please use the latter.\n",
      "  warnings.warn(self.msg_depr % (key, alt_key))\n"
     ]
    }
   ],
   "source": [
    "from sympy import symbols, init_printing\n",
    "import sympy\n",
    "import sympy.physics.mechanics as me\n",
    "init_printing(use_latex='mathjax')\n",
    "import seaborn as sns\n",
    "# sns.set_context(\"notebook\", font_scale=1.5, rc={\"lines.linewidth\": 2.5})\n",
    "import matplotlib.pyplot as plt\n",
    "from scipy.integrate import ode, odeint\n",
    "import numpy as np\n",
    "%matplotlib inline\n",
    "import InputShaping as shaping"
   ]
  },
  {
   "cell_type": "code",
   "execution_count": 2,
   "metadata": {
    "collapsed": false,
    "scrolled": true
   },
   "outputs": [],
   "source": [
    "# Create the variables\n",
    "x, y, beta = me.dynamicsymbols('x, y, beta')\n",
    "\n",
    "# Create the velocities\n",
    "x_dot, y_dot, beta_dot = me.dynamicsymbols('x, y, beta', 1)\n",
    "\n",
    "# Create the constants\n",
    "m, k, L, g, H, c, D,t, Izz, k_beta, c_beta = sympy.symbols('m k L g H c D t Izz k_beta c_beta')\n",
    "L_1_init, L_2_init = sympy.symbols('L_1_init L_2_init')\n",
    "# m = mass\n",
    "# k = spring k\n",
    "# L = spring equilibrium length\n",
    "# g = gravity\n",
    "# c = spring c\n",
    "# c_beta = rotational c\n",
    "# k_beta = rotational k\n",
    "# D = rod length\n",
    "# Izz = moment of Inertia about the end of a rod"
   ]
  },
  {
   "cell_type": "code",
   "execution_count": null,
   "metadata": {
    "collapsed": false
   },
   "outputs": [],
   "source": []
  },
  {
   "cell_type": "code",
   "execution_count": 3,
   "metadata": {
    "collapsed": false,
    "scrolled": true
   },
   "outputs": [],
   "source": [
    "# Create the world frame\n",
    "N = me.ReferenceFrame('N')\n",
    "\n",
    "# Create the rod frame\n",
    "B = N.orientnew('B', 'axis', [beta, N.z])\n",
    "\n",
    "# Set the rotation of the rod frame\n",
    "B.set_ang_vel(N, beta_dot * N.z)\n",
    "\n",
    "# Create the Origin\n",
    "O1 = me.Point('O_1')\n",
    "\n",
    "# Set origin velocity to zero\n",
    "O1.set_vel(N, 0 * N.x)\n",
    "\n",
    "# Create the second attachment point\n",
    "O2 = O1.locatenew('O_2', H * N.x)\n",
    "O2.set_vel(N, 0 * N.x)\n",
    "\n",
    "# Locate the point in the N frame\n",
    "# P = me.Point('pen')\n",
    "# P = O1.locatenew('P', x * N.x + y * N.y)\n",
    "P = me.Point('P')\n",
    "P.set_pos(O1, x * N.x + y * N.y)\n",
    "P.set_pos(O2, (H - x) * N.x + y * N.y)\n",
    "\n",
    "# P.set_pos(O1, x * N.x + y * N.y)\n",
    "\n",
    "# Set the point's velocity\n",
    "P.set_vel(N, x_dot * N.x + y_dot * N.y)\n",
    "\n",
    "# Create the rod center of mass\n",
    "G = P.locatenew('G', D/2 * B.y)\n",
    "\n",
    "# Set the velocity of G\n",
    "G.v2pt_theory(P, N, B)\n",
    "\n",
    "# Create the rod\n",
    "I_rod = me.inertia(B, 0, 0, Izz)\n",
    "rod = me.RigidBody('rod', G, B, m, (I_rod, G))\n",
    "\n",
    "# Create the distance from the point to each attachment point\n",
    "L1 = O1.pos_from(P).magnitude\n",
    "L2 = O2.pos_from(P).magnitude\n",
    "L1_vector = O1.pos_from(P).normalize\n",
    "L2_vector = O2.pos_from(P).normalize\n",
    "\n",
    "# Create the height from the center of gravity to the datum\n",
    "h = G.pos_from(O1) & N.y\n",
    "\n",
    "# The forces at the connection point\n",
    "forceP = c * (x_dot + y_dot) * L1_vector() + c * (x_dot + y_dot) * L2_vector()\n",
    "\n",
    "# The forces on the beta frame\n",
    "forceB = -c_beta * beta_dot * N.z\n",
    "\n",
    "rod.potential_energy = (-m * g * h + 0.5 * k * (L1() - L_1_init)**2 + 0.5 * k *(L2() - \n",
    "                        L_2_init)**2 + 0.5 * k_beta * beta**2)\n",
    "\n",
    "Lag = me.Lagrangian(N, rod)"
   ]
  },
  {
   "cell_type": "code",
   "execution_count": 4,
   "metadata": {
    "collapsed": false
   },
   "outputs": [],
   "source": [
    "# x_eq = ((sympy.diff(sympy.diff(Lag, x_dot), t) + sympy.diff(-0.5 * c * x_dot**2, x_dot) - \n",
    "# sympy.diff(Lag, x)))"
   ]
  },
  {
   "cell_type": "code",
   "execution_count": 5,
   "metadata": {
    "collapsed": false
   },
   "outputs": [],
   "source": [
    "# y_eq = ((sympy.diff(sympy.diff(Lag, y_dot), t) + sympy.diff(0.5 * c * y_dot**2, y_dot) - \n",
    "# sympy.diff(Lag, y)))\n"
   ]
  },
  {
   "cell_type": "code",
   "execution_count": 6,
   "metadata": {
    "collapsed": false
   },
   "outputs": [],
   "source": [
    "# beta_eq = (sympy.diff(sympy.diff(Lag, beta_dot), t) + \n",
    "#              sympy.diff(0.5 * c_beta * beta_dot**2, beta_dot) - sympy.diff(Lag, beta))"
   ]
  },
  {
   "cell_type": "code",
   "execution_count": 7,
   "metadata": {
    "collapsed": false
   },
   "outputs": [],
   "source": [
    "# print(Lag)"
   ]
  },
  {
   "cell_type": "code",
   "execution_count": null,
   "metadata": {
    "collapsed": false
   },
   "outputs": [],
   "source": []
  },
  {
   "cell_type": "code",
   "execution_count": 8,
   "metadata": {
    "collapsed": false,
    "scrolled": false
   },
   "outputs": [],
   "source": [
    "LM = me.LagrangesMethod(Lag, [x, y, beta], forcelist=[(P, forceP), (B, forceB)], frame=N)"
   ]
  },
  {
   "cell_type": "code",
   "execution_count": 9,
   "metadata": {
    "collapsed": false,
    "scrolled": false
   },
   "outputs": [],
   "source": [
    "EqMotion = LM.form_lagranges_equations()\n",
    "# sympy.simplify(EqMotion)"
   ]
  },
  {
   "cell_type": "code",
   "execution_count": 10,
   "metadata": {
    "collapsed": false
   },
   "outputs": [
    {
     "data": {
      "text/latex": [
       "$$\\left[\\begin{matrix}m & 0 & - \\frac{D m}{2} \\cos{\\left (\\beta{\\left (t \\right )} \\right )}\\\\0 & m & - \\frac{D m}{2} \\sin{\\left (\\beta{\\left (t \\right )} \\right )}\\\\- \\frac{D m}{2} \\cos{\\left (\\beta{\\left (t \\right )} \\right )} & - \\frac{D m}{2} \\sin{\\left (\\beta{\\left (t \\right )} \\right )} & \\frac{D^{2} m}{4} + Izz\\end{matrix}\\right]$$"
      ],
      "text/plain": [
       "⎡                                  -D⋅m⋅cos(β(t)) ⎤\n",
       "⎢       m                0         ───────────────⎥\n",
       "⎢                                         2       ⎥\n",
       "⎢                                                 ⎥\n",
       "⎢                                  -D⋅m⋅sin(β(t)) ⎥\n",
       "⎢       0                m         ───────────────⎥\n",
       "⎢                                         2       ⎥\n",
       "⎢                                                 ⎥\n",
       "⎢                                     2           ⎥\n",
       "⎢-D⋅m⋅cos(β(t))   -D⋅m⋅sin(β(t))     D ⋅m         ⎥\n",
       "⎢───────────────  ───────────────    ──── + Izz   ⎥\n",
       "⎣       2                2            4           ⎦"
      ]
     },
     "execution_count": 10,
     "metadata": {},
     "output_type": "execute_result"
    }
   ],
   "source": [
    "lrhs = LM.rhs()\n",
    "LM.mass_matrix"
   ]
  },
  {
   "cell_type": "code",
   "execution_count": 11,
   "metadata": {
    "collapsed": false
   },
   "outputs": [],
   "source": [
    "linearizer = LM.to_linearizer([x, y, beta], [x_dot, y_dot, beta_dot])\n",
    "M, A, B = linearizer.linearize()\n",
    "op_point = {x: 10.0, y: 10.0, beta:0.0, x_dot: 0.0, y_dot: 0.0, beta_dot:0.0}\n",
    "constants = {m : 1.0,\n",
    "              g : 9.81,\n",
    "              k : 10.0,\n",
    "              L_1_init: 15,\n",
    "              L_2_init: 15,\n",
    "              H : 20.0,\n",
    "              c : 1.0,\n",
    "              D : 1.0,\n",
    "              Izz: 0.33333,\n",
    "              k_beta: 1.0,\n",
    "              c_beta: 1.0}\n",
    "\n",
    "M_op = me.msubs(M, op_point)\n",
    "A_op = me.msubs(A, op_point)\n",
    "# B_op = me.msubs(B, op_point)\n",
    "perm_mat = linearizer.perm_mat\n",
    "A_lin = perm_mat.T * M_op.LUsolve(A_op)\n",
    "A_lin_constants = me.msubs(A_lin, constants)\n",
    "A_sol = A_lin_constants.subs(op_point).doit()\n",
    "\n",
    "A = np.array(np.array(A_sol), np.float)"
   ]
  },
  {
   "cell_type": "code",
   "execution_count": 12,
   "metadata": {
    "collapsed": false
   },
   "outputs": [
    {
     "name": "stdout",
     "output_type": "stream",
     "text": [
      "The fundamental damp is: 0.09297008351095394\n",
      "The second damp is: 0.23071383259937508\n",
      "The third damp is: 0.24515681119081448\n",
      "The fundamental frequency is: 2.4937317388648594\n",
      "The second frequency is: 3.064865132791617\n",
      "The third frequency is: 5.17290360391722\n"
     ]
    }
   ],
   "source": [
    "eigenvals, eigenvects = np.linalg.eig(A)\n",
    "\n",
    "eigen = eigenvals[0:5:2]\n",
    "eigen_abs = np.abs(eigen)\n",
    "\n",
    "damp = np.abs(np.real(eigen)/eigen_abs)\n",
    "damp_index = np.argsort(damp)\n",
    "highd, middled, lowd = damp[damp_index][::-1][:3][0:3]\n",
    "print('The fundamental damp is: {}'.format(lowd))\n",
    "print('The second damp is: {}'.format(middled))\n",
    "print('The third damp is: {}'.format(highd))\n",
    "\n",
    "eigen_index = np.argsort(eigen_abs)\n",
    "high,middle, low = eigen_abs[eigen_index][::-1][:3][0:3]\n",
    "print('The fundamental frequency is: {}'.format(low))\n",
    "print('The second frequency is: {}'.format(middle))\n",
    "print('The third frequency is: {}'.format(high))"
   ]
  },
  {
   "cell_type": "code",
   "execution_count": 13,
   "metadata": {
    "collapsed": false
   },
   "outputs": [],
   "source": [
    "ODE = lrhs.subs({x:'x',y:'y', beta:'b', x_dot:'x_dot', \n",
    "                    y_dot:'y_dot',beta_dot:'beta_dot'})"
   ]
  },
  {
   "cell_type": "code",
   "execution_count": 14,
   "metadata": {
    "collapsed": false
   },
   "outputs": [],
   "source": [
    "points_x = np.array([[6.5], [6.5], [6.5], [6.5], [6.5], [6.5], [6.5], [6.5],[7.5], [8.5],\n",
    "                     [9.5],[10.5],[11.5],[12.5],[13.5],[14],[14],[14],[14],[14],[14],[14],\n",
    "                     [14],[13.5],[12.5],[11.5],[10.5],[9.5],[8.5],[7.5]])\n",
    "\n",
    "points_y = np.array([[5],[6],[7],[8],[9],[10],[11],[12],[12],[12],[12],[12],[12],[12],[12],\n",
    "                     [12],[11],[10],[9],[8],[7],[6],[5],[4.5],[4.5],[4.5],[4.5],[4.5],[4.5],\n",
    "                     [4.5]])\n",
    "points = np.hstack([points_x, points_y])"
   ]
  },
  {
   "cell_type": "code",
   "execution_count": null,
   "metadata": {
    "collapsed": false
   },
   "outputs": [],
   "source": []
  },
  {
   "cell_type": "code",
   "execution_count": 15,
   "metadata": {
    "collapsed": false
   },
   "outputs": [],
   "source": [
    "# def Length1(t):\n",
    "#     # This is essentially a step input with a linear rise time\n",
    "#     # set the velocity\n",
    "#     v = 1\n",
    "    \n",
    "#     # set the inital cable lengths\n",
    "#     init_length = 10.0\n",
    "    \n",
    "#     # set begin motion time\n",
    "#     time1 = 2\n",
    "#     time2 = 6\n",
    "#     move = v*t\n",
    "    \n",
    "#     return (((((t>=time1) * (t<=time2)) * (init_length + move)) + (t<time1)*init_length) + \n",
    "#              (t>time2)*(init_length + v*time2))"
   ]
  },
  {
   "cell_type": "code",
   "execution_count": 16,
   "metadata": {
    "collapsed": true
   },
   "outputs": [],
   "source": [
    "# def Length2(t):\n",
    "#     # This is essentially a step input with a linear rise time\n",
    "#     # set the velocity\n",
    "#     v = 0.5\n",
    "    \n",
    "#     # set the inital cable lengths\n",
    "#     init_length = 15.0\n",
    "    \n",
    "#     # set begin motion time\n",
    "#     time1 = 2\n",
    "#     time2 = 6\n",
    "#     move = v*t\n",
    "    \n",
    "#     return (((((t>=time1) * (t<=time2)) * (init_length - move)) + (t<time1)*init_length) + \n",
    "#              (t>time2)*(init_length - v*time2))"
   ]
  },
  {
   "cell_type": "code",
   "execution_count": 11,
   "metadata": {
    "collapsed": true
   },
   "outputs": [],
   "source": [
    "def s_curve(CurrTime, Begin, Amp, RiseTime, StartTime):\n",
    "    \"\"\"\n",
    "    This was copied from Dr Vaughan's Input shaping Library\n",
    "    I edited it to allow for a beginning value\n",
    "    \n",
    "    Function to generate an s-curve command\n",
    "    \n",
    "    Arguments:\n",
    "      CurrTime : The current timestep or an array of times\n",
    "      Amp : The magnitude of the s-curve (or final setpoint)\n",
    "      RiseTime : The rise time of the curve\n",
    "      StartTime : The time that the command should StartTime\n",
    "      Begin : The beginnning value\n",
    "      \n",
    "    Returns :\n",
    "      The command at the current timestep or an array representing the command\n",
    "      over the times given (if CurrTime was an array)\n",
    "    \"\"\"\n",
    "\n",
    "    Amp = Amp - Begin\n",
    "    scurve = 2.0 * ((CurrTime - StartTime)/RiseTime)**2 * (CurrTime-StartTime >= 0) * (CurrTime-StartTime < RiseTime/2) \\\n",
    "            +(-2.0 * ((CurrTime - StartTime)/RiseTime)**2 + 4.0 * ((CurrTime - StartTime)/RiseTime) - 1.0) * (CurrTime-StartTime >= RiseTime/2) * (CurrTime-StartTime < RiseTime) \\\n",
    "            + 1.0 * (CurrTime-StartTime >= RiseTime)\n",
    "    \n",
    "    return (Amp * scurve) + Begin"
   ]
  },
  {
   "cell_type": "code",
   "execution_count": 12,
   "metadata": {
    "collapsed": false
   },
   "outputs": [],
   "source": [
    "# Going with 500rpm\n",
    "# example_shaper = shaping.EI(0.329, 0.101)\n",
    "# example_shaper = shaping.ZVD(0.32, 0.032272678421545214)\n",
    "example_shaper = shaping.ZVD(0.403233454118, 0.032272678421545214)\n",
    "# example_shaper = shaping.ZV_EI_2mode(.466053, 0.032272, .466053, 0.032272)\n",
    "# example_shaper = shaping.UMZVD(.46605358040201028, 0.032272678421545214)\n",
    "# example_shaper = shaping.ZVD_2mode(0.40160804, 0.07159188, 0.047746, 0.0)\n",
    "Shaper = example_shaper.shaper\n",
    "\n",
    "# a = shaping.shaped_input(s_curve, t, Shaper, 10.0,13.0,5.0,3.0)"
   ]
  },
  {
   "cell_type": "code",
   "execution_count": 13,
   "metadata": {
    "collapsed": false
   },
   "outputs": [],
   "source": [
    "length_of_rod = 1.0\n",
    "mass = 1.0\n",
    "inertia = length_of_rod * (1.0/3.0) * mass"
   ]
  },
  {
   "cell_type": "code",
   "execution_count": 14,
   "metadata": {
    "collapsed": true
   },
   "outputs": [],
   "source": [
    "L1t = 11.6825\n",
    "L2t = 11.6825\n"
   ]
  },
  {
   "cell_type": "code",
   "execution_count": 15,
   "metadata": {
    "collapsed": false,
    "scrolled": false
   },
   "outputs": [],
   "source": [
    "# Define the states and state vector\n",
    "w1, w2, w3, w4, w5, w6 = sympy.symbols('w1 w2 w3 w4 w5 w6', cls=sympy.Function)\n",
    "w = [w1(t), w2(t), w3(t), w4(t), w5(t), w6(t)]\n",
    "\n",
    "# Set up the state definitions and parameter substitution\n",
    "sub_params = {x : w1(t),\n",
    "              y : w2(t),\n",
    "              beta: w3(t),\n",
    "              x_dot: w4(t),\n",
    "              y_dot: w5(t),\n",
    "              beta_dot: w6(t),\n",
    "              m : mass,\n",
    "              g : 9.81,\n",
    "              k : 10.0,\n",
    "              L_1_init: shaping.shaped_input(s_curve, t, Shaper, 15.62,25,9.0,3.0),\n",
    "              L_2_init: shaping.shaped_input(s_curve, t, Shaper, 15.62,20.61,9.0,3.0),\n",
    "#               L_1_init:s_curve(t, 15.62, 25.0, 9.0, 3.0),\n",
    "#               L_2_init:s_curve(t, 15.62, 20.61, 9.0, 3.0),\n",
    "#               L_1_init: 15,\n",
    "#               L_2_init: 15,\n",
    "              H : 20.0,\n",
    "              c : 1.0,\n",
    "              D : length_of_rod,\n",
    "              Izz: inertia,\n",
    "              k_beta: 1.0,\n",
    "              c_beta: 1.0}\n",
    "\n",
    "# set this parameter to enable array output from sympy.lambdify\n",
    "mat2array = [{'ImmutableMatrix': np.array}, 'numpy']\n",
    "\n",
    "# Create a function from the equations of motion\n",
    "# Here, we substitude the states and parameters as appropriate prior to the lamdification\n",
    "eq_of_motion = sympy.lambdify((t, w), \n",
    "                              lrhs.subs(sub_params), \n",
    "                              modules = mat2array)"
   ]
  },
  {
   "cell_type": "code",
   "execution_count": 16,
   "metadata": {
    "collapsed": false,
    "scrolled": true
   },
   "outputs": [],
   "source": [
    "end_time = 60.0\n",
    "\n",
    "x0 = [10, 12, 0.0, 0.0, 0.0, 0.0]\n",
    "\n",
    "# Positive beta is to the left when facing the structure\n",
    "sim_time = np.linspace(0.0, end_time, 1000)"
   ]
  },
  {
   "cell_type": "code",
   "execution_count": 17,
   "metadata": {
    "collapsed": false,
    "scrolled": true
   },
   "outputs": [],
   "source": [
    "# Set up the initial point for the ode solver\n",
    "r = ode(eq_of_motion).set_initial_value(x0, sim_time[0])\n",
    " \n",
    "# define the sample time\n",
    "dt = sim_time[1] - sim_time[0]   \n",
    "\n",
    "# pre-populate the response array with zeros\n",
    "response = np.zeros((len(sim_time), len(x0)))\n",
    "\n",
    "# Set the initial index to 0\n",
    "index = 0\n",
    "\n",
    "# Now, numerically integrate the ODE while:\n",
    "#   1. the last step was successful\n",
    "#   2. the current time is less than the desired simluation end time\n",
    "while r.successful() and r.t < sim_time[-1]:\n",
    "    response[index, :] = r.y\n",
    "    r.integrate(r.t + dt)\n",
    "    index += 1\n",
    "    \n",
    "# np.savetxt(\"response.csv\", response, delimiter=\",\")\n",
    "# np.savetxt(\"response_shaped.csv\", response2, delimiter=\",\")\n",
    "# np.savetxt(\"sim_time.csv\", sim_time, delimiter=\",\")"
   ]
  },
  {
   "cell_type": "code",
   "execution_count": 19,
   "metadata": {
    "collapsed": false
   },
   "outputs": [
    {
     "data": {
      "text/latex": [
       "$$\\left ( 1000, \\quad 6\\right )$$"
      ],
      "text/plain": [
       "(1000, 6)"
      ]
     },
     "execution_count": 19,
     "metadata": {},
     "output_type": "execute_result"
    }
   ],
   "source": [
    "np.shape(response)"
   ]
  },
  {
   "cell_type": "code",
   "execution_count": 19,
   "metadata": {
    "collapsed": false,
    "scrolled": false
   },
   "outputs": [
    {
     "name": "stderr",
     "output_type": "stream",
     "text": [
      "//anaconda/lib/python3.5/site-packages/matplotlib/__init__.py:872: UserWarning: axes.color_cycle is deprecated and replaced with axes.prop_cycle; please use the latter.\n",
      "  warnings.warn(self.msg_depr % (key, alt_key))\n"
     ]
    },
    {
     "data": {
      "text/plain": [
       "[<matplotlib.lines.Line2D at 0x114162b70>]"
      ]
     },
     "execution_count": 19,
     "metadata": {},
     "output_type": "execute_result"
    },
    {
     "data": {
      "image/png": "[encoded data removed]",
      "text/plain": [
       "<matplotlib.figure.Figure at 0x111a89ac8>"
      ]
     },
     "metadata": {},
     "output_type": "display_data"
    },
    {
     "data": {
      "image/png": "[encoded data removed]",
      "text/plain": [
       "<matplotlib.figure.Figure at 0x114041f60>"
      ]
     },
     "metadata": {},
     "output_type": "display_data"
    },
    {
     "data": {
      "image/png": "[encoded data removed]",
      "text/plain": [
       "<matplotlib.figure.Figure at 0x11409b390>"
      ]
     },
     "metadata": {},
     "output_type": "display_data"
    },
    {
     "data": {
      "image/png": "[encoded data removed]",
      "text/plain": [
       "<matplotlib.figure.Figure at 0x1140fc5f8>"
      ]
     },
     "metadata": {},
     "output_type": "display_data"
    },
    {
     "data": {
      "image/png": "[encoded data removed]",
      "text/plain": [
       "<matplotlib.figure.Figure at 0x1141622b0>"
      ]
     },
     "metadata": {},
     "output_type": "display_data"
    }
   ],
   "source": [
    "sns.set_palette(\"Paired\")\n",
    "sns.set_context(\"talk\", font_scale=1.2)\n",
    "sns.set_style(\"darkgrid\")\n",
    "\n",
    "plt.figure(0)\n",
    "# plt.subplot(211)\n",
    "plt.plot(sim_time, response[:,1], label='Unshaped')\n",
    "plt.plot(sim_time, response2[:,1], label ='Shaped')\n",
    "plt.ylim(25,0)\n",
    "plt.legend()\n",
    "plt.title('Y Motion')\n",
    "plt.xlabel('time (s)')\n",
    "plt.ylabel('meters')\n",
    "\n",
    "plt.figure(1)\n",
    "# plt.subplot(211)\n",
    "plt.plot(sim_time, response[:,0], label='Unshaped')\n",
    "plt.plot(sim_time, response2[:,0], label ='Shaped')\n",
    "plt.legend()\n",
    "plt.title('X Motion')\n",
    "plt.xlabel('time (s)')\n",
    "plt.ylabel('meters')\n",
    "\n",
    "plt.figure(2)\n",
    "# plt.subplot(211)\n",
    "plt.plot(sim_time, np.degrees(response[:,2]), label='Unshaped')\n",
    "plt.plot(sim_time, np.degrees(response2[:,2]), label ='Shaped')\n",
    "plt.legend()\n",
    "# plt.plot(sim_time, np.degrees(response2[:,2]))\n",
    "plt.ylim(-15,15)\n",
    "plt.xlim(0,60)\n",
    "plt.title('Beta Motion')\n",
    "plt.xlabel('time (s)')\n",
    "plt.ylabel('Degrees')\n",
    "# plt.savefig(\"Beta_Motion.pdf\")\n",
    "\n",
    "plt.figure(3)\n",
    "# plt.subplot(212)\n",
    "plt.plot(response[:,0], response[:,1])\n",
    "plt.plot(response[:,0] + 0.5/2 * np.sin(response[:,2]) , response[:,1] + 0.5/2 * np.cos(response[:,2]), label='Unshaped')\n",
    "plt.plot(response[:,0] + 1/2 * np.sin(response[:,2]) , response[:,1] + 1/2 * np.cos(response[:,2]), label='Unshaped')\n",
    "\n",
    "plt.plot(response2[:,0], response2[:,1])\n",
    "plt.plot(response2[:,0] + 0.5/2 * np.sin(response2[:,2]) , response2[:,1] + 0.5/2 * np.cos(response2[:,2]), label ='Shaped')\n",
    "plt.plot(response2[:,0] + 1/2 * np.sin(response2[:,2]) , response2[:,1] + 1/2 * np.cos(response2[:,2]), label ='Shaped')\n",
    "\n",
    "plt.legend()\n",
    "plt.title('Front View Motion')\n",
    "# plt.ylim(25,0)\n",
    "plt.ylim(25,0)\n",
    "# plt.xlim(0,20)\n",
    "plt.xlim(0,20)\n",
    "plt.xlabel('X')\n",
    "plt.ylabel('Y')\n",
    "# plt.show()\n",
    "\n",
    "plt.figure(4)\n",
    "plt.plot(sim_time, s_curve(sim_time, 15.62, 20.61, 9.0, 3.0))\n",
    "plt.plot(sim_time, shaping.shaped_input(s_curve, sim_time, Shaper, 15.62,20.61,9.0,3.0))"
   ]
  },
  {
   "cell_type": "code",
   "execution_count": null,
   "metadata": {
    "collapsed": false
   },
   "outputs": [],
   "source": [
    "# shaped_arr = np.array(shaping.shaped_input(s_curve, sim_time, Shaper, 15.62,20.61,9.0,3.0))\n",
    "# 20.6099\n",
    "# 226\n",
    "# print(sim_time[226])\n",
    "from mpl_toolkits.mplot3d import Axes3D\n",
    "from matplotlib import cm\n",
    "\n",
    "X = response[:,0][226:]\n",
    "Y = response[:,1][226:]\n",
    "BETA = abs(response[:,2][226:])\n",
    "\n",
    "fig1 = plt.figure(5)\n",
    "ax1 = fig1.gca(projection='3d')         # set the 3d axes\n",
    "\n",
    "\n",
    "ax1.plot_trisurf(X, Y, BETA, cmap=\"YlGnBu\", \n",
    "                linewidth=0.0)\n",
    "ax1.set_axis_bgcolor('white')\n",
    "plt.title('Resedual Vibration Across Workspace')\n",
    "# plt.savefig(\"Low_Mode_Natural_Frequency.pdf\")"
   ]
  },
  {
   "cell_type": "code",
   "execution_count": 179,
   "metadata": {
    "collapsed": false
   },
   "outputs": [],
   "source": [
    "# # Set the plot size - 3x2 aspect ratio is best\n",
    "# fig = plt.figure(4, figsize=(6, 4))\n",
    "# ax = plt.gca()\n",
    "# plt.subplots_adjust(bottom=0.17, left=0.17, top=0.96, right=0.96)\n",
    "\n",
    "# # Change the axis units to serif\n",
    "# plt.setp(ax.get_ymajorticklabels(), family='serif', fontsize=18)\n",
    "# plt.setp(ax.get_xmajorticklabels(), family='serif', fontsize=18)\n",
    "\n",
    "# # Remove top and right axes border\n",
    "# ax.spines['right'].set_color('none')\n",
    "# ax.spines['top'].set_color('none')\n",
    "\n",
    "# # Only show axes ticks on the bottom and left axes\n",
    "# ax.xaxis.set_ticks_position('bottom')\n",
    "# ax.yaxis.set_ticks_position('left')\n",
    "\n",
    "# # Turn on the plot grid and set appropriate linestyle and color\n",
    "# ax.grid(True,linestyle=':', color='0.75')\n",
    "# ax.set_axisbelow(True)\n",
    "\n",
    "# # Define the X and Y axis labels\n",
    "# plt.xlabel('Time (s)', family='sans-serif', fontsize=22, weight='bold', labelpad=5)\n",
    "# plt.ylabel('Displacement (m)', family='serif', fontsize=22, weight='bold', labelpad=10)\n",
    "\n",
    "# # Plot the data\n",
    "# plt.plot(sim_time, response[:, 0], linewidth=2, linestyle='-', label = r'$xy$')\n",
    "# # plt.plot(sim_time, response[:, 1], linewidth=2, linestyle='--', label = r'$R$')\n",
    "\n",
    "# # uncomment below and set limits if needed\n",
    "# # plt.xlim(0, 5)\n",
    "# # plt.ylim(-1, 5)\n",
    "\n",
    "# # Create the legend, then fix the fontsize\n",
    "# leg = plt.legend(loc='upper right', ncol = 2, fancybox=True)\n",
    "# ltext  = leg.get_texts()\n",
    "# plt.setp(ltext, family='serif', fontsize=20)\n",
    "\n",
    "# # Adjust the page layout filling the page using the new tight_layout command\n",
    "# plt.tight_layout(pad=0.5)\n",
    "\n",
    "# # Uncomment to save the figure as a high-res pdf in the current folder\n",
    "# # It's saved at the original 6x4 size\n",
    "# # plt.savefig('SpringBar_Pendulum_InitCondResponse_CartAndRadial.pdf')\n",
    "\n",
    "# fig.set_size_inches(9, 6) # Resize the figure for better display in the notebook"
   ]
  },
  {
   "cell_type": "code",
   "execution_count": 21,
   "metadata": {
    "collapsed": true
   },
   "outputs": [],
   "source": [
    "def eq_of_motion(w, t, p):\n",
    "    \"\"\"\n",
    "    Defines the differential equations for the coupled spring-mass system.\n",
    "\n",
    "    Arguments:\n",
    "        w :  vector of the state variables:\n",
    "                  w = [x, theta, x_dot, theta_dot]\n",
    "        t :  time\n",
    "        p :  vector of the parameters:\n",
    "                  p = [m1, m2, k, l, g, wf]\n",
    "    \n",
    "    Returns:\n",
    "        sysODE : An list representing the system of equations of motion as 1st order ODEs\n",
    "    \"\"\"\n",
    "    x, y, beta, x_dot, y_dot, beta_dot = w\n",
    "    m, k, L, g, H, c, D, t, Izz, k_beta, c_beta, L_1_init, L_2_init = p\n",
    "\n",
    "    # Create sysODE = (x', theta', x_dot', theta_dot'):\n",
    "    sysODE = [x_dot,\n",
    "              y_dot,\n",
    "              beta_dot,\n",
    "              (-D*m*sin(beta)*beta_dot**2/2 + D*m*(-D*g*m*sin(beta)/2 + D*(-D*m*sin(beta)*beta_dot**2/2 + c*(H - x)*(x_dot + y_dot)/sqrt((H - x)**2 + y**2) - c*(x_dot + y_dot)*x/sqrt(x**2 + y**2) - 1.0*k*(-H + x)*(-L_2_init + sqrt((H - x)**2 + y**2))/sqrt((H - x)**2 + y**2) - 1.0*k*(-L_1_init + sqrt(x**2 + y**2))*x/sqrt(x**2 + y**2))*cos(beta)/2 + D*(D*m*cos(beta)*beta_dot**2/2 - c*(x_dot + y_dot)*y/sqrt(x**2 + y**2) - c*(x_dot + y_dot)*y/sqrt((H - x)**2 + y**2) + g*m - 1.0*k*(-L_1_init + sqrt(x**2 + y**2))*y/sqrt(x**2 + y**2) - 1.0*k*(-L_2_init + sqrt((H - x)**2 + y**2))*y/sqrt((H - x)**2 + y**2))*sin(beta)/2 - c_beta*beta_dot - 1.0*k_beta*beta - m*(-D*(-sin(beta)*beta_dot*x_dot + cos(beta)*beta_dot*y_dot)/2 + D*sin(beta)*beta_dot*x_dot/2 - D*cos(beta)*beta_dot*y_dot/2)/2 + m*(-D*(-sin(beta)*x_dot + cos(beta)*y_dot)*beta_dot/2 + D*sin(beta)*beta_dot*x_dot/2 - D*cos(beta)*beta_dot*y_dot/2)/2)*cos(beta)/(2*(-D**2*m*sin(beta)**2/4 - D**2*m*cos(beta)**2/4 + D**2*m/4 + Izz)) + c*(H - x)*(x_dot + y_dot)/sqrt((H - x)**2 + y**2) - c*(x_dot + y_dot)*x/sqrt(x**2 + y**2) - 1.0*k*(-H + x)*(-L_2_init + sqrt((H - x)**2 + y**2))/sqrt((H - x)**2 + y**2) - 1.0*k*(-L_1_init + sqrt(x**2 + y**2))*x/sqrt(x**2 + y**2))/m,\n",
    "              (D*m*cos(beta)*beta_dot**2/2 + D*m*(-D*g*m*sin(beta)/2 + D*(-D*m*sin(beta)*beta_dot**2/2 + c*(H - x)*(x_dot + y_dot)/sqrt((H - x)**2 + y**2) - c*(x_dot + y_dot)*x/sqrt(x**2 + y**2) - 1.0*k*(-H + x)*(-L_2_init + sqrt((H - x)**2 + y**2))/sqrt((H - x)**2 + y**2) - 1.0*k*(-L_1_init + sqrt(x**2 + y**2))*x/sqrt(x**2 + y**2))*cos(beta)/2 + D*(D*m*cos(beta)*beta_dot**2/2 - c*(x_dot + y_dot)*y/sqrt(x**2 + y**2) - c*(x_dot + y_dot)*y/sqrt((H - x)**2 + y**2) + g*m - 1.0*k*(-L_1_init + sqrt(x**2 + y**2))*y/sqrt(x**2 + y**2) - 1.0*k*(-L_2_init + sqrt((H - x)**2 + y**2))*y/sqrt((H - x)**2 + y**2))*sin(beta)/2 - c_beta*beta_dot - 1.0*k_beta*beta - m*(-D*(-sin(beta)*beta_dot*x_dot + cos(beta)*beta_dot*y_dot)/2 + D*sin(beta)*beta_dot*x_dot/2 - D*cos(beta)*beta_dot*y_dot/2)/2 + m*(-D*(-sin(beta)*x_dot + cos(beta)*y_dot)*beta_dot/2 + D*sin(beta)*beta_dot*x_dot/2 - D*cos(beta)*beta_dot*y_dot/2)/2)*sin(beta)/(2*(-D**2*m*sin(beta)**2/4 - D**2*m*cos(beta)**2/4 + D**2*m/4 + Izz)) - c*(x_dot + y_dot)*y/sqrt(x**2 + y**2) - c*(x_dot + y_dot)*y/sqrt((H - x)**2 + y**2) + g*m - 1.0*k*(-L_1_init + sqrt(x**2 + y**2))*y/sqrt(x**2 + y**2) - 1.0*k*(-L_2_init + sqrt((H - x)**2 + y**2))*y/sqrt((H - x)**2 + y**2))/m,\n",
    "              (-D*g*m*sin(beta)/2 + D*(-D*m*sin(beta)*beta_dot**2/2 + c*(H - x)*(x_dot + y_dot)/sqrt((H - x)**2 + y**2) - c*(x_dot + y_dot)*x/sqrt(x**2 + y**2) - 1.0*k*(-H + x)*(-L_2_init + sqrt((H - x)**2 + y**2))/sqrt((H - x)**2 + y**2) - 1.0*k*(-L_1_init + sqrt(x**2 + y**2))*x/sqrt(x**2 + y**2))*cos(beta)/2 + D*(D*m*cos(beta)*beta_dot**2/2 - c*(x_dot + y_dot)*y/sqrt(x**2 + y**2) - c*(x_dot + y_dot)*y/sqrt((H - x)**2 + y**2) + g*m - 1.0*k*(-L_1_init + sqrt(x**2 + y**2))*y/sqrt(x**2 + y**2) - 1.0*k*(-L_2_init + sqrt((H - x)**2 + y**2))*y/sqrt((H - x)**2 + y**2))*sin(beta)/2 - c_beta*beta_dot - 1.0*k_beta*beta - m*(-D*(-sin(beta)*beta_dot*x_dot + cos(beta)*beta_dot*y_dot)/2 + D*sin(beta)*beta_dot*x_dot/2 - D*cos(beta)*beta_dot*y_dot/2)/2 + m*(-D*(-sin(beta)*x_dot + cos(beta)*y_dot)*beta_dot/2 + D*sin(beta)*beta_dot*x_dot/2 - D*cos(beta)*beta_dot*y_dot/2)/2)/(-D**2*m*sin(beta)**2/4 - D**2*m*cos(beta)**2/4 + D**2*m/4 + Izz)\n",
    "             ]\n",
    "    return sysODE"
   ]
  },
  {
   "cell_type": "code",
   "execution_count": 22,
   "metadata": {
    "collapsed": false
   },
   "outputs": [],
   "source": [
    "from scipy.integrate import odeint\n",
    "import numpy as np\n",
    "from numpy import sin, cos, sqrt\n",
    "import seaborn as sns\n",
    "sns.set_context(\"notebook\", font_scale=1.5, rc={\"lines.linewidth\": 2.5})\n",
    "import matplotlib.pyplot as plt\n",
    "# %matplotlib notebook"
   ]
  },
  {
   "cell_type": "code",
   "execution_count": 23,
   "metadata": {
    "collapsed": false
   },
   "outputs": [],
   "source": [
    "# Set up simulation parameters \n",
    "m = 1.0\n",
    "k = 10.0 \n",
    "# L = 1.0 \n",
    "g = 9.81 \n",
    "H = 20.0 \n",
    "c = 0.1 \n",
    "D = 1.0 \n",
    "Izz = 0.3333\n",
    "k_beta = 1.0\n",
    "c_beta = 1.0\n",
    "L_1_init = 7.34720397  \n",
    "L_2_init = 14.28220593\n",
    "\n",
    "# ODE solver parameters\n",
    "abserr = 1.0e-9\n",
    "relerr = 1.0e-9\n",
    "max_step = 0.01\n",
    "stoptime = 25.0\n",
    "numpoints = 1000\n",
    "\n",
    "# Create the time samples for the output of the ODE solver\n",
    "t = np.linspace(0.0, stoptime, numpoints)\n",
    "\n",
    "# Initial conditions\n",
    "x_init = -3.75                             # initial position\n",
    "x_dot_init = 0.0                    # initial velocity\n",
    "y_init = 3.8625                    # initial angle\n",
    "y_dot_init = 0.0                # initial angular velocity\n",
    "beta_init = 0.0                        # initial position\n",
    "beta_dot_init = 0.0 \n",
    "\n",
    "# wf = np.np.sqrt(k / m1)                # forcing function frequency\n",
    "\n",
    "# Pack the parameters and initial conditions into arrays \n",
    "p = [m, k, L, g, H, c, D, t, Izz, k_beta, c_beta, L_1_init, L_2_init]\n",
    "x0 = [x_init, y_init, beta_init, x_dot_init, y_dot_init, beta_dot_init]\n",
    "resp = odeint(eq_of_motion, x0, t, args=(p,), atol=abserr, rtol=relerr,  hmax=max_step)"
   ]
  },
  {
   "cell_type": "code",
   "execution_count": 26,
   "metadata": {
    "collapsed": false
   },
   "outputs": [
    {
     "ename": "NameError",
     "evalue": "name 'resp' is not defined",
     "output_type": "error",
     "traceback": [
      "\u001b[0;31m---------------------------------------------------------------------------\u001b[0m",
      "\u001b[0;31mNameError\u001b[0m                                 Traceback (most recent call last)",
      "\u001b[0;32m<ipython-input-26-ef8edc5b83d1>\u001b[0m in \u001b[0;36m<module>\u001b[0;34m()\u001b[0m\n\u001b[1;32m      1\u001b[0m \u001b[0mplt\u001b[0m\u001b[0;34m.\u001b[0m\u001b[0mfigure\u001b[0m\u001b[0;34m(\u001b[0m\u001b[0;36m6\u001b[0m\u001b[0;34m)\u001b[0m\u001b[0;34m\u001b[0m\u001b[0m\n\u001b[1;32m      2\u001b[0m \u001b[0;31m# plt.subplot(211)\u001b[0m\u001b[0;34m\u001b[0m\u001b[0;34m\u001b[0m\u001b[0m\n\u001b[0;32m----> 3\u001b[0;31m \u001b[0mplt\u001b[0m\u001b[0;34m.\u001b[0m\u001b[0mplot\u001b[0m\u001b[0;34m(\u001b[0m\u001b[0mt\u001b[0m\u001b[0;34m,\u001b[0m \u001b[0mnp\u001b[0m\u001b[0;34m.\u001b[0m\u001b[0mdegrees\u001b[0m\u001b[0;34m(\u001b[0m\u001b[0mresp\u001b[0m\u001b[0;34m[\u001b[0m\u001b[0;34m:\u001b[0m\u001b[0;34m,\u001b[0m\u001b[0;36m2\u001b[0m\u001b[0;34m]\u001b[0m\u001b[0;34m)\u001b[0m\u001b[0;34m)\u001b[0m\u001b[0;34m\u001b[0m\u001b[0m\n\u001b[0m\u001b[1;32m      4\u001b[0m \u001b[0;31m# plt.plot(t,resp[:,0])\u001b[0m\u001b[0;34m\u001b[0m\u001b[0;34m\u001b[0m\u001b[0m\n\u001b[1;32m      5\u001b[0m \u001b[0mplt\u001b[0m\u001b[0;34m.\u001b[0m\u001b[0mtitle\u001b[0m\u001b[0;34m(\u001b[0m\u001b[0;34m'Beta Motion'\u001b[0m\u001b[0;34m)\u001b[0m\u001b[0;34m\u001b[0m\u001b[0m\n",
      "\u001b[0;31mNameError\u001b[0m: name 'resp' is not defined"
     ]
    },
    {
     "data": {
      "text/plain": [
       "<matplotlib.figure.Figure at 0x1122b7978>"
      ]
     },
     "metadata": {},
     "output_type": "display_data"
    }
   ],
   "source": [
    "plt.figure(6)\n",
    "# plt.subplot(211)\n",
    "plt.plot(t, np.degrees(resp[:,2]))\n",
    "# plt.plot(t,resp[:,0])\n",
    "plt.title('Beta Motion')\n",
    "plt.xlabel('time (s)')\n",
    "plt.ylabel('Degrees')"
   ]
  },
  {
   "cell_type": "code",
   "execution_count": null,
   "metadata": {
    "collapsed": true
   },
   "outputs": [],
   "source": [
    "def CRAWLAB_fft(data,time,plotflag):\n",
    "    ''' Function to get the FFT for a response\n",
    "    #\n",
    "    # Inputs:\n",
    "    #   time = time array corresponding to the data\n",
    "    #   data = the response data array (only pass a single dimension/state at at time)\n",
    "    #   plotflag = will plot the FFT if nonzero\n",
    "    #   \n",
    "    # Output:\n",
    "    #   fft_freq = an array of the freqs used in the FFT\n",
    "    #   fft_mag = an array of the amplitude of the FFT at each freq in fft_freq\n",
    "    #\n",
    "    # Created: 03/28/14\n",
    "    #   - Joshua Vaughan\n",
    "    #   - joshua.vaughan@louisiana.edu\n",
    "    #   - http://www.ucs.louisiana.edu/~jev9637\n",
    "    ######################################################################################\n",
    "    '''\n",
    "    \n",
    "    from scipy.fftpack import fft\n",
    "    \n",
    "    # correct for any DC offset\n",
    "    offset = np.mean(data) \n",
    "\n",
    "    # Get the natural frequency\n",
    "    sample_time = time[1] - time[0]\n",
    "    n = len(data)\n",
    "\n",
    "    fft_mag = fft((data - offset)*np.hanning(len(data)))\n",
    "    fft_freq = np.linspace(0.0, 1.0/(2.0*sample_time), n/2)\n",
    "    \n",
    "    # Only return the \"useful\" part of the fft\n",
    "    fft_mag = 2.0/n * np.abs(fft_mag[0:n/2])\n",
    "    \n",
    "    if plotflag:\n",
    "        # Plot the relationshiop\n",
    "        #   Many of these setting could also be made default by the .matplotlibrc file\n",
    "        fig = plt.figure(figsize=(6,4))\n",
    "        ax = plt.gca()\n",
    "        plt.subplots_adjust(bottom=0.17,left=0.17,top=0.96,right=0.96)\n",
    "        plt.setp(ax.get_ymajorticklabels(),fontsize=18)\n",
    "        plt.setp(ax.get_xmajorticklabels(),fontsize=18)\n",
    "        ax.spines['right'].set_color('none')\n",
    "        ax.spines['top'].set_color('none')\n",
    "        ax.xaxis.set_ticks_position('bottom')\n",
    "        ax.yaxis.set_ticks_position('left')\n",
    "        ax.grid(True,linestyle=':',color='0.75')\n",
    "        ax.set_axisbelow(True)\n",
    "\n",
    "        plt.xlabel('Frequency (Hz)',fontsize=22,labelpad=8)\n",
    "        plt.ylabel('FFT magnitude',fontsize=22,labelpad=10)\n",
    "    \n",
    "        plt.plot(fft_freq, fft_mag, linewidth=2, linestyle='-')\n",
    "        \n",
    "        # Adjust the page layout filling the page using the new tight_layout command\n",
    "        plt.tight_layout(pad=0.5)\n",
    "        plt.show()\n",
    "    \n",
    "    return fft_freq, fft_mag"
   ]
  },
  {
   "cell_type": "code",
   "execution_count": null,
   "metadata": {
    "collapsed": false
   },
   "outputs": [],
   "source": [
    "freq, mag = CRAWLAB_fft(resp[:,2][800:], t[800:],False)"
   ]
  },
  {
   "cell_type": "code",
   "execution_count": null,
   "metadata": {
    "collapsed": false
   },
   "outputs": [],
   "source": [
    "plt.figure(7)\n",
    "plt.plot(freq, mag)\n",
    "plt.title('FFT')\n",
    "plt.xlabel('frequency')\n",
    "plt.ylabel('Magnitude')\n",
    "plt.xlim(0, 5)\n",
    "freq_index = np.argmax(mag)\n",
    "print freq[freq_index]"
   ]
  },
  {
   "cell_type": "code",
   "execution_count": null,
   "metadata": {
    "collapsed": false
   },
   "outputs": [],
   "source": [
    "np.size(response[:,2][400:])\n",
    "np.size(sim_time[400:])"
   ]
  },
  {
   "cell_type": "code",
   "execution_count": null,
   "metadata": {
    "collapsed": false
   },
   "outputs": [],
   "source": []
  },
  {
   "cell_type": "code",
   "execution_count": null,
   "metadata": {
    "collapsed": true
   },
   "outputs": [],
   "source": []
  }
 ],
 "metadata": {
  "kernelspec": {
   "display_name": "Python 3",
   "language": "python",
   "name": "python3"
  },
  "language_info": {
   "codemirror_mode": {
    "name": "ipython",
    "version": 3
   },
   "file_extension": ".py",
   "mimetype": "text/x-python",
   "name": "python",
   "nbconvert_exporter": "python",
   "pygments_lexer": "ipython3",
   "version": "3.5.1"
  }
 },
 "nbformat": 4,
 "nbformat_minor": 0
}

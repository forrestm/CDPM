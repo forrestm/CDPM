{
 "cells": [
  {
   "cell_type": "code",
   "execution_count": 1,
   "metadata": {
    "collapsed": true
   },
   "outputs": [],
   "source": [
    "from sympy import symbols, init_printing\n",
    "import sympy\n",
    "import sympy.physics.mechanics as me\n",
    "from pydy.system import System\n",
    "import matplotlib as mpl\n",
    "import matplotlib.pyplot as plt\n",
    "from scipy.integrate import ode, odeint\n",
    "from sympy.utilities.lambdify import lambdastr\n",
    "from scipy.optimize import fsolve\n",
    "import numpy as np\n",
    "%matplotlib inline\n",
    "# init_printing(False)\n",
    "init_printing(True)\n",
    "from IPython.display import set_matplotlib_formats\n",
    "set_matplotlib_formats('retina')"
   ]
  },
  {
   "cell_type": "code",
   "execution_count": 2,
   "metadata": {
    "collapsed": false
   },
   "outputs": [],
   "source": [
    "# Create the symbols\n",
    "x, z, theta = me.dynamicsymbols('x z theta')\n",
    "x_dot, z_dot,theta_dot = me.dynamicsymbols('x z theta',1)\n",
    "H, a, b, M, m, g, k, t = sympy.symbols('H a b M m g k_{cable} t')\n",
    "Ip, Ir, c, r, p, kr, cr, D = sympy.symbols('I_{plate} I_{rod} c r p k_{rod} c_{rod} D')\n",
    "L1, L2, k_C, e_offset = sympy.symbols('L1 L2 k_C e_offset')\n",
    "\n",
    "# Create the frames Z+ points down, and Y+ is out of the screen\n",
    "A = me.ReferenceFrame('A')\n",
    "B = A.orientnew('B', 'Axis', [theta, A.y])\n",
    "\n",
    "# Create the frames angular velocity\n",
    "B.set_ang_vel(A, theta_dot * A.y)"
   ]
  },
  {
   "cell_type": "code",
   "execution_count": 3,
   "metadata": {
    "collapsed": false
   },
   "outputs": [],
   "source": [
    "# Create the origin points\n",
    "A1 = me.Point('A1')\n",
    "A2 = me.Point('A2')\n",
    "\n",
    "# Set the origin points positions\n",
    "A1.set_pos(A1, 0)\n",
    "A2.set_pos(A1, H * A.x)\n",
    "\n",
    "# Create the attachment point\n",
    "P = me.Point('P')\n",
    "\n",
    "# Set position\n",
    "P.set_pos(A1, x*A.x + z*A.z)\n",
    "\n",
    "# Create the rod center point\n",
    "G = me.Point('G')\n",
    "G.set_pos(P, (D/2)*B.z)\n",
    "\n",
    "s1 = P.pos_from(A1)\n",
    "s2 = P.pos_from(A2)\n",
    "\n",
    "# Calculating the Geometric lengths from the top corners of the plate\n",
    "Length1 = s1.magnitude()\n",
    "Length2 = s2.magnitude()\n",
    "\n",
    "# Creating the unit vectors pointing from the origins to the top plate points\n",
    "s1_vector = s1.normalize()\n",
    "s2_vector = s2.normalize()\n",
    "\n",
    "# Calculate the distance from the rod center to datum\n",
    "rod_center_distance = A1.pos_from(G) & A.z"
   ]
  },
  {
   "cell_type": "code",
   "execution_count": 8,
   "metadata": {
    "collapsed": false
   },
   "outputs": [
    {
     "data": {
      "image/png": "[encoded data removed]",
      "text/latex": [
       "$$\\dot{x}\\mathbf{\\hat{a}_x} + \\dot{z}\\mathbf{\\hat{a}_z} + \\frac{D \\dot{\\theta}}{2}\\mathbf{\\hat{b}_x}$$"
      ],
      "text/plain": [
       "d       \n",
       "──(x(t))\n",
       "dt       a_x + d       \n",
       "──(z(t))\n",
       "dt       a_z +   d       \n",
       "D⋅──(θ(t))\n",
       "  dt      \n",
       "──────────\n",
       "    2      b_x"
      ]
     },
     "execution_count": 8,
     "metadata": {},
     "output_type": "execute_result"
    }
   ],
   "source": [
    "A1.set_vel(A, 0)\n",
    "A2.set_vel(A, 0)\n",
    "\n",
    "# Set velocity of COG\n",
    "P.set_vel(A, x_dot * A.x + z_dot * A.z)\n",
    "P.set_vel(B, 0)\n",
    "\n",
    "G.set_vel(B, 0)\n",
    "G.v2pt_theory(P, A, B)"
   ]
  },
  {
   "cell_type": "code",
   "execution_count": 9,
   "metadata": {
    "collapsed": true
   },
   "outputs": [],
   "source": [
    "I_rod = me.inertia(A, 0, Ir, 0)\n",
    "inertia_rod = (I_rod, G)\n",
    "Rod = me.RigidBody('Rod', G, B, m, inertia_rod)"
   ]
  },
  {
   "cell_type": "code",
   "execution_count": 10,
   "metadata": {
    "collapsed": true
   },
   "outputs": [],
   "source": [
    "K1 = lambda LamLenK1: k * (LamLenK1 >= L1)\n",
    "K2 = lambda LamLenK2: k * (LamLenK2 >= L2)\n",
    "C1 = lambda LamLenC1: c * (LamLenC1 >= L1)\n",
    "C2 = lambda LamLenC2: c * (LamLenC2 >= L2)"
   ]
  },
  {
   "cell_type": "code",
   "execution_count": 11,
   "metadata": {
    "collapsed": false
   },
   "outputs": [],
   "source": [
    "# Set the potential energies \n",
    "Rod.potential_energy = ((0.5 * K1(Length1) * Length1**2) + \n",
    "                          (0.5 * K2(Length2) * Length2**2) + \n",
    "                           m * g * rod_center_distance)\n",
    "B.potential_energy = (B, 0.5 * k_C * (theta)**2)\n",
    "\n",
    "# Set the external forces\n",
    "forces = [(P, P.vel(A) * (C1(Length1)+C2(Length2)))]"
   ]
  },
  {
   "cell_type": "code",
   "execution_count": 12,
   "metadata": {
    "collapsed": true
   },
   "outputs": [],
   "source": [
    "L =  me.Lagrangian(A, Rod)\n",
    "LM = me.LagrangesMethod(L, [x, z, theta], forcelist = forces, frame = A)\n",
    "EqMotion = LM.form_lagranges_equations()"
   ]
  },
  {
   "cell_type": "code",
   "execution_count": 13,
   "metadata": {
    "collapsed": false
   },
   "outputs": [],
   "source": [
    "init_printing(True)\n",
    "# EqMotion"
   ]
  },
  {
   "cell_type": "code",
   "execution_count": 20,
   "metadata": {
    "collapsed": false
   },
   "outputs": [
    {
     "name": "stdout",
     "output_type": "stream",
     "text": [
      "\\frac{I_{rod} \\theta_{dot}^{2}}{2} - g m \\left(- \\frac{D}{2} \\cos{\\left (\\theta \\right )} - z\\right) - 0.5 k_{cable} \\left(x^{2} + z^{2}\\right) \\left(\\sqrt{x^{2} + z^{2}} \\geq L_{1}\\right) - 0.5 k_{cable} \\left(z^{2} + \\left(- H + x\\right)^{2}\\right) \\left(\\sqrt{z^{2} + \\left(- H + x\\right)^{2}} \\geq L_{2}\\right) + \\frac{m}{2} \\left(\\frac{D^{2} \\theta_{dot}^{2}}{4} + \\frac{D \\theta_{dot}}{2} x_{dot} \\cos{\\left (\\theta \\right )} + \\frac{D \\theta_{dot}}{2} \\left(x_{dot} \\cos{\\left (\\theta \\right )} - \\sin{\\left (\\theta \\right )} \\frac{d}{d t} z\\right) - \\frac{D \\theta_{dot}}{2} \\sin{\\left (\\theta \\right )} \\frac{d}{d t} z + x_{dot}^{2} + \\frac{d}{d t} z^{2}\\right)\n"
     ]
    }
   ],
   "source": [
    "print(sympy.latex(L.subs({theta:'theta', x:'x',z:'z',theta_dot:'theta_dot',x_dot:'x_dot'})))"
   ]
  },
  {
   "cell_type": "code",
   "execution_count": 21,
   "metadata": {
    "collapsed": false
   },
   "outputs": [
    {
     "data": {
      "image/png": "[encoded data removed]",
      "text/latex": [
       "$$\\frac{x}{\\sqrt{x^{2} + z^{2}}}\\mathbf{\\hat{a}_x} + \\frac{z}{\\sqrt{x^{2} + z^{2}}}\\mathbf{\\hat{a}_z}$$"
      ],
      "text/plain": [
       "       x(t)       \n",
       "──────────────────\n",
       "   _______________\n",
       "  ╱  2       2    \n",
       "╲╱  x (t) + z (t)  a_x +        z(t)       \n",
       "──────────────────\n",
       "   _______________\n",
       "  ╱  2       2    \n",
       "╲╱  x (t) + z (t)  a_z"
      ]
     },
     "execution_count": 21,
     "metadata": {},
     "output_type": "execute_result"
    }
   ],
   "source": [
    "s1_vector"
   ]
  },
  {
   "cell_type": "code",
   "execution_count": null,
   "metadata": {
    "collapsed": true
   },
   "outputs": [],
   "source": []
  }
 ],
 "metadata": {
  "kernelspec": {
   "display_name": "Python 3",
   "language": "python",
   "name": "python3"
  },
  "language_info": {
   "codemirror_mode": {
    "name": "ipython",
    "version": 3
   },
   "file_extension": ".py",
   "mimetype": "text/x-python",
   "name": "python",
   "nbconvert_exporter": "python",
   "pygments_lexer": "ipython3",
   "version": "3.5.2"
  }
 },
 "nbformat": 4,
 "nbformat_minor": 0
}

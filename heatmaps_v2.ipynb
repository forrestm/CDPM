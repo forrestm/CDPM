{
 "cells": [
  {
   "cell_type": "code",
   "execution_count": 15,
   "metadata": {
    "collapsed": false
   },
   "outputs": [],
   "source": [
    "import matplotlib.pyplot as plt\n",
    "import numpy as np\n",
    "%matplotlib inline\n",
    "whole = np.genfromtxt ('/Users/forrest/Desktop/XY_L1L2_natflmh_damplmh_20m.csv', delimiter=\",\")"
   ]
  },
  {
   "cell_type": "code",
   "execution_count": 16,
   "metadata": {
    "collapsed": false
   },
   "outputs": [
    {
     "name": "stdout",
     "output_type": "stream",
     "text": [
      "& 3.994 & 3.308 & 4.539 & 31.375\n"
     ]
    }
   ],
   "source": [
    "stats = (whole[:,6]/(2*np.pi))\n",
    "mean = round(np.mean(stats), 3)\n",
    "median = round(np.median(stats), 3)\n",
    "npmin = round(np.min(stats), 3)\n",
    "npmax = round(np.max(stats), 3)\n",
    "percent = round((np.abs(npmax-npmin) / (0.5*(npmax+npmin)))*100, 3)\n",
    "std = round(np.std(stats), 3)\n",
    "print('& {} & {} & {} & {}'.format(mean,npmin,npmax,percent))"
   ]
  },
  {
   "cell_type": "code",
   "execution_count": 17,
   "metadata": {
    "collapsed": false
   },
   "outputs": [
    {
     "data": {
      "text/plain": [
       "<matplotlib.text.Text at 0x11046b940>"
      ]
     },
     "execution_count": 17,
     "metadata": {},
     "output_type": "execute_result"
    },
    {
     "data": {
      "image/png": "[encoded data removed]",
      "text/plain": [
       "<matplotlib.figure.Figure at 0x10d71e6d8>"
      ]
     },
     "metadata": {},
     "output_type": "display_data"
    }
   ],
   "source": [
    "fig, ax = plt.subplots()\n",
    "x = whole[:,0]\n",
    "y = whole[:,1]\n",
    "z = whole[:,5]/(2*np.pi)\n",
    "x=np.unique(x)\n",
    "y=np.unique(y)\n",
    "Y,X = np.meshgrid(y,x)\n",
    "\n",
    "Z=z.reshape(len(y),len(x))\n",
    "\n",
    "plt.pcolormesh(X,Y,Z,cmap=plt.cm.bwr)\n",
    "ax.invert_yaxis()\n",
    "ax.axis('image')\n",
    "\n",
    "cbar = plt.colorbar()\n",
    "cbar.ax.set_title('Hz')\n",
    "plt.xlabel('Horizontal Motion')\n",
    "plt.ylabel('Vertical Motion')\n",
    "# plt.show()\n",
    "# plt.savefig('/Users/forrest/Desktop/test2.pdf')"
   ]
  },
  {
   "cell_type": "code",
   "execution_count": 3,
   "metadata": {
    "collapsed": false
   },
   "outputs": [],
   "source": [
    "# fig, ax = plt.subplots()\n",
    "# heatmap = ax.pcolor(data, cmap=plt.cm.Blues)\n",
    "\n",
    "# put the major ticks at the middle of each cell\n",
    "# ax.set_xticks(np.arange(data.shape[0])+0.5, minor=False)\n",
    "# ax.set_yticks(np.arange(data.shape[1])+0.5, minor=False)\n",
    "\n",
    "# want a more natural, table-like display\n",
    "# ax.invert_yaxis()\n",
    "# ax.xaxis.tick_top()\n",
    "\n",
    "# ax.set_xticklabels(row_labels, minor=False)\n",
    "# ax.set_yticklabels(column_labels, minor=False)\n",
    "# plt.show()"
   ]
  },
  {
   "cell_type": "code",
   "execution_count": null,
   "metadata": {
    "collapsed": true
   },
   "outputs": [],
   "source": []
  }
 ],
 "metadata": {
  "kernelspec": {
   "display_name": "Python 3",
   "language": "python",
   "name": "python3"
  },
  "language_info": {
   "codemirror_mode": {
    "name": "ipython",
    "version": 3
   },
   "file_extension": ".py",
   "mimetype": "text/x-python",
   "name": "python",
   "nbconvert_exporter": "python",
   "pygments_lexer": "ipython3",
   "version": "3.5.2"
  }
 },
 "nbformat": 4,
 "nbformat_minor": 0
}

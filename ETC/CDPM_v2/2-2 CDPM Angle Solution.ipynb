{
 "cells": [
  {
   "cell_type": "code",
   "execution_count": 1,
   "metadata": {},
   "outputs": [],
   "source": [
    "from sympy import symbols, init_printing\n",
    "import sympy\n",
    "from sympy.utilities.lambdify import lambdastr\n",
    "import sympy.physics.mechanics as me\n",
    "from pydy.system import System\n",
    "import matplotlib.pyplot as plt\n",
    "from scipy.integrate import ode, odeint\n",
    "from scipy.optimize import fsolve\n",
    "import numpy as np\n",
    "%matplotlib inline\n",
    "init_printing(True)"
   ]
  },
  {
   "cell_type": "code",
   "execution_count": 2,
   "metadata": {},
   "outputs": [],
   "source": [
    "# Create the frames\n",
    "A = me.ReferenceFrame('A')\n",
    "B = me.ReferenceFrame('B')\n",
    "\n",
    "# Create the symbols\n",
    "# x, y, beta, e, F, L1, L2 = me.dynamicsymbols('x y beta e F L1 L2')\n",
    "x, z, beta = sympy.symbols('x z theta')\n",
    "H, a, b, m, g, k, t = sympy.symbols('H a b m g k t')\n",
    "c, c_rod, D, M, k_rod, mom = sympy.symbols('c c_rod D M k_rod mom')\n",
    "Izz, Izz_rod = sympy.symbols('Izz Izz_rod')\n",
    "L1, L2 = sympy.symbols('L1 L2')\n",
    "\n",
    "# Orient the Beta frame\n",
    "B.orient(A, 'Axis', (beta, A.y))"
   ]
  },
  {
   "cell_type": "code",
   "execution_count": 3,
   "metadata": {},
   "outputs": [],
   "source": [
    "# Create the first point\n",
    "A1 = me.Point('A1')\n",
    "A2 = me.Point('A2')\n",
    "\n",
    "# Set the physical position\n",
    "A1.set_pos(A1, 0)\n",
    "A2.set_pos(A1, H * A.x)\n",
    "\n",
    "# Set the center of Gravity\n",
    "G = me.Point('G')\n",
    "G.set_pos(A1, x*A.x + z*A.z)\n",
    "\n",
    "# Movable cog\n",
    "Gm = me.Point('Gm')\n",
    "Gm.set_pos(A1, x*A.x + z*A.z)\n",
    "\n",
    "# Create the attachment points\n",
    "B1 = me.Point('B1')\n",
    "B1.set_pos(G, -a/2 * B.x - b/2 * B.z)\n",
    "B2 = me.Point('B2')\n",
    "B2.set_pos(G, a/2 * B.x - b/2 * B.z)\n",
    "\n",
    "# Create the position vectors\n",
    "a2 = A2.pos_from(A1)\n",
    "a2_x = a2 & A.x\n",
    "a2_z = a2 & A.z\n",
    "\n",
    "r1 = B1.pos_from(G)\n",
    "r1_x = r1 & A.x\n",
    "r1_z = r1 & A.z\n",
    "\n",
    "r2 = B2.pos_from(G)\n",
    "r2_x = r2 & A.x\n",
    "r2_z = r2 & A.z\n",
    "\n",
    "r21 = B2.pos_from(B1)\n",
    "r21_x = r21 & A.x\n",
    "r21_z = r21 & A.z\n",
    "\n",
    "s1 = B1.pos_from(A1)\n",
    "s2 = B2.pos_from(A2)"
   ]
  },
  {
   "cell_type": "code",
   "execution_count": 4,
   "metadata": {
    "scrolled": true
   },
   "outputs": [],
   "source": [
    "p = ((r21_x * x + a2_x * r1_x) * z - r21_z * x**2 +\n",
    "     (r1_z * r2_x - r1_x * r2_z + a2_x * r21_z - a2_z * r2_x) * x +\n",
    "     r1_x * (a2_x * r2_z - a2_z * r2_x))\n",
    "equation_all = p.subs({H:2.8956, a:0.133, b:0.0665}).evalf()\n",
    "equation_all = equation_all.simplify()\n",
    "lambda_str1 = lambdastr((beta), equation_all)\n",
    "lambda_str2 = lambda_str1.replace('sin', 'np.sin')\n",
    "lambda_str3 = lambda_str2.replace('cos', 'np.cos')\n",
    "lambda_str4 = lambda_str3.replace('x', 'x_temp')\n",
    "lambda_str = lambda_str4.replace('z', 'z_temp')\n",
    "func1 = eval(lambda_str)"
   ]
  },
  {
   "cell_type": "code",
   "execution_count": 5,
   "metadata": {},
   "outputs": [
    {
     "data": {
      "image/png": "[encoded data removed]",
      "text/latex": [
       "$$H \\left(- \\frac{a}{2} \\sin{\\left (\\theta \\right )} - \\frac{b}{2} \\cos{\\left (\\theta \\right )}\\right) \\left(- \\frac{a}{2} \\cos{\\left (\\theta \\right )} - \\frac{b}{2} \\sin{\\left (\\theta \\right )}\\right) + a x^{2} \\sin{\\left (\\theta \\right )} + x \\left(- H a \\sin{\\left (\\theta \\right )} - \\left(- \\frac{a}{2} \\sin{\\left (\\theta \\right )} - \\frac{b}{2} \\cos{\\left (\\theta \\right )}\\right) \\left(- \\frac{a}{2} \\cos{\\left (\\theta \\right )} - \\frac{b}{2} \\sin{\\left (\\theta \\right )}\\right) + \\left(\\frac{a}{2} \\sin{\\left (\\theta \\right )} - \\frac{b}{2} \\cos{\\left (\\theta \\right )}\\right) \\left(\\frac{a}{2} \\cos{\\left (\\theta \\right )} - \\frac{b}{2} \\sin{\\left (\\theta \\right )}\\right)\\right) + z \\left(H \\left(- \\frac{a}{2} \\cos{\\left (\\theta \\right )} - \\frac{b}{2} \\sin{\\left (\\theta \\right )}\\right) + a x \\cos{\\left (\\theta \\right )}\\right)$$"
      ],
      "text/plain": [
       "  ⎛  a⋅sin(θ)   b⋅cos(θ)⎞ ⎛  a⋅cos(θ)   b⋅sin(θ)⎞      2            ⎛         \n",
       "H⋅⎜- ──────── - ────────⎟⋅⎜- ──────── - ────────⎟ + a⋅x ⋅sin(θ) + x⋅⎜-H⋅a⋅sin(\n",
       "  ⎝     2          2    ⎠ ⎝     2          2    ⎠                   ⎝         \n",
       "\n",
       "     ⎛  a⋅sin(θ)   b⋅cos(θ)⎞ ⎛  a⋅cos(θ)   b⋅sin(θ)⎞   ⎛a⋅sin(θ)   b⋅cos(θ)⎞ ⎛\n",
       "θ) - ⎜- ──────── - ────────⎟⋅⎜- ──────── - ────────⎟ + ⎜──────── - ────────⎟⋅⎜\n",
       "     ⎝     2          2    ⎠ ⎝     2          2    ⎠   ⎝   2          2    ⎠ ⎝\n",
       "\n",
       "a⋅cos(θ)   b⋅sin(θ)⎞⎞     ⎛  ⎛  a⋅cos(θ)   b⋅sin(θ)⎞             ⎞\n",
       "──────── - ────────⎟⎟ + z⋅⎜H⋅⎜- ──────── - ────────⎟ + a⋅x⋅cos(θ)⎟\n",
       "   2          2    ⎠⎠     ⎝  ⎝     2          2    ⎠             ⎠"
      ]
     },
     "execution_count": 5,
     "metadata": {},
     "output_type": "execute_result"
    }
   ],
   "source": [
    "p"
   ]
  },
  {
   "cell_type": "code",
   "execution_count": 6,
   "metadata": {
    "collapsed": true
   },
   "outputs": [],
   "source": [
    "# # Use the numerical solver to find the roots\n",
    "# x_values_geo = np.linspace(0.4,2.4956,100)\n",
    "# # Linkage Geometry\n",
    "# z_temp = 1.5\n",
    "# func = lambda beta : (0.133*x_temp**2*np.sin(beta) + x_temp*(-(-0.0665*np.sin(beta) -\n",
    "#                      0.03325*np.cos(beta))*(-0.03325*np.sin(beta) - 0.0665*\n",
    "#                      np.cos(beta)) + (-0.03325*np.sin(beta) + 0.0665*np.cos(\n",
    "#                      beta))*(0.0665*np.sin(beta) - 0.03325*np.cos(beta)) -\n",
    "#                      0.3851148*np.sin(beta)) + z_temp*(0.133*x_temp*np.cos(beta) -\n",
    "#                      0.0962787*np.sin(beta) - 0.1925574*np.cos(beta)) +\n",
    "#                      2.8956*(-0.0665*np.sin(beta) - 0.03325*np.cos(beta))*(\n",
    "#                      -0.03325*np.sin(beta) - 0.0665*np.cos(beta)))\n",
    "# beta_values_geo = []\n",
    "# for i in range(100):\n",
    "#     x_temp = x_values_geo[i]\n",
    "#     tau_initial_guess = 0.5\n",
    "#     tau_solution = fsolve(func, tau_initial_guess)\n",
    "#     beta_values_geo.append(np.rad2deg(tau_solution))"
   ]
  },
  {
   "cell_type": "code",
   "execution_count": null,
   "metadata": {
    "collapsed": true
   },
   "outputs": [],
   "source": []
  },
  {
   "cell_type": "code",
   "execution_count": 7,
   "metadata": {},
   "outputs": [],
   "source": [
    "x_values_geo = np.linspace(0.4,2.4956,100)\n",
    "z_temp = 1.5\n",
    "initial_guess = 0.5\n",
    "beta_values_geo = []\n",
    "for i in range(100):\n",
    "    x_temp = x_values_geo[i]\n",
    "    beta_solution = fsolve(func1, initial_guess)\n",
    "    beta_values_geo.append(np.rad2deg(beta_solution))"
   ]
  },
  {
   "cell_type": "code",
   "execution_count": null,
   "metadata": {},
   "outputs": [],
   "source": []
  },
  {
   "cell_type": "code",
   "execution_count": 8,
   "metadata": {},
   "outputs": [
    {
     "data": {
      "image/png": "[encoded data removed]",
      "text/plain": [
       "<matplotlib.figure.Figure at 0x117a6fe10>"
      ]
     },
     "metadata": {},
     "output_type": "display_data"
    }
   ],
   "source": [
    "# plt.plot(x_values_10,beta_values_10, label=10)\n",
    "plt.plot(x_values_geo,beta_values_geo, label=1.5)\n",
    "plt.xlim(0,2.6)\n",
    "plt.ylim(-40,50)\n",
    "plt.legend(loc=\"upper left\")\n",
    "# plt.savefig('/Users/forrest/Desktop/tes.pdf')\n",
    "plt.show()"
   ]
  },
  {
   "cell_type": "code",
   "execution_count": 9,
   "metadata": {
    "scrolled": true
   },
   "outputs": [],
   "source": [
    "# x_values_heat = np.linspace(0.28956,2.60604,100)\n",
    "# z_values_heat = np.linspace(0.6, 2.286, 100)\n",
    "x_values_heat = np.linspace(0.4,2.4956,100)\n",
    "# z_values_heat = np.linspace(0.6, 2, 100)\n",
    "z_values_heat = np.linspace(0.4,2.4956,100)\n",
    "\n",
    "beta_values_heat = []\n",
    "x_values_heatp = []\n",
    "z_values_heatp = []\n",
    "for j in range(100):\n",
    "    z_temp = z_values_heat[j]\n",
    "    for i in range(100):\n",
    "        x_temp = x_values_heat[i]\n",
    "        tau_initial_guess = 0.5\n",
    "        tau_solution = fsolve(func1, tau_initial_guess)\n",
    "        beta_values_heat.append(np.rad2deg(tau_solution))\n",
    "        x_values_heatp.append(x_temp)\n",
    "        z_values_heatp.append(z_temp)\n",
    "x_values_heat_np = np.asarray(x_values_heatp)\n",
    "z_values_heat_np = np.asarray(z_values_heatp)\n",
    "beta_values_heat_np = np.asarray(beta_values_heat)\n",
    "beta_map = beta_values_heat_np.reshape(100,100)"
   ]
  },
  {
   "cell_type": "code",
   "execution_count": 10,
   "metadata": {
    "scrolled": true
   },
   "outputs": [],
   "source": [
    "# # x_values_heat = np.linspace(0.28956,2.60604,100)\n",
    "# # z_values_heat = np.linspace(0.6, 2.286, 100)\n",
    "# x_values_heat = np.linspace(0.4,2.4956,100)\n",
    "# # z_values_heat = np.linspace(0.6, 2, 100)\n",
    "# z_values_heat = np.linspace(0.4,2.4956,100)\n",
    "\n",
    "# beta_values_heat = []\n",
    "# x_values_heatp = []\n",
    "# z_values_heatp = []\n",
    "# for j in range(100):\n",
    "#     z_temp = z_values_heat[j]\n",
    "#     func = lambda beta : (0.133*x_temp**2*np.sin(beta) + x_temp*(-(-0.0665*np.sin(beta) -\n",
    "#                          0.03325*np.cos(beta))*(-0.03325*np.sin(beta) - 0.0665*\n",
    "#                          np.cos(beta)) + (-0.03325*np.sin(beta) + 0.0665*np.cos(\n",
    "#                          beta))*(0.0665*np.sin(beta) - 0.03325*np.cos(beta)) -\n",
    "#                          0.3851148*np.sin(beta)) + z_temp*(0.133*x_temp*np.cos(beta) -\n",
    "#                          0.0962787*np.sin(beta) - 0.1925574*np.cos(beta)) +\n",
    "#                          2.8956*(-0.0665*np.sin(beta) - 0.03325*np.cos(beta))*(\n",
    "#                          -0.03325*np.sin(beta) - 0.0665*np.cos(beta)))\n",
    "#     print(j)\n",
    "#     for i in range(100):\n",
    "#         x_temp = x_values_heat[i]\n",
    "#         tau_initial_guess = 0.5\n",
    "#         tau_solution = fsolve(func, tau_initial_guess)\n",
    "#         beta_values_heat.append(np.rad2deg(tau_solution))\n",
    "#         x_values_heatp.append(x_temp)\n",
    "#         z_values_heatp.append(z_temp)\n",
    "# x_values_heat_np = np.asarray(x_values_heatp)\n",
    "# z_values_heat_np = np.asarray(z_values_heatp)\n",
    "# beta_values_heat_np = np.asarray(beta_values_heat)\n",
    "# beta_map = beta_values_heat_np.reshape(100,100)"
   ]
  },
  {
   "cell_type": "code",
   "execution_count": 13,
   "metadata": {},
   "outputs": [
    {
     "data": {
      "image/png": "[encoded data removed]",
      "text/plain": [
       "<matplotlib.figure.Figure at 0x11b5a0fd0>"
      ]
     },
     "metadata": {},
     "output_type": "display_data"
    }
   ],
   "source": [
    "# title = 'Angle Over Workspace'\n",
    "fig, ax = plt.subplots()\n",
    "x = x_values_heat\n",
    "y = z_values_heat\n",
    "X,Y = np.meshgrid(x,y)\n",
    "\n",
    "plt.pcolormesh(X,Y,beta_map, cmap=plt.cm.bwr)\n",
    "ax.invert_yaxis()\n",
    "ax.axis('image')\n",
    "ax.set_aspect('equal')\n",
    "cbar = plt.colorbar()\n",
    "cbar.ax.set_title('Angle (deg)',size=18)\n",
    "plt.xlabel('Horizontal Displacement (m)')\n",
    "plt.ylabel('Vertical Displacement (m)')\n",
    "# plt.title(title)\n",
    "plt.savefig('/Users/forrest/Desktop/angles.pdf')\n",
    "plt.show()"
   ]
  },
  {
   "cell_type": "code",
   "execution_count": null,
   "metadata": {},
   "outputs": [],
   "source": []
  },
  {
   "cell_type": "code",
   "execution_count": 71,
   "metadata": {},
   "outputs": [
    {
     "data": {
      "image/png": "[encoded data removed]",
      "text/latex": [
       "$$10000$$"
      ],
      "text/plain": [
       "10000"
      ]
     },
     "execution_count": 71,
     "metadata": {},
     "output_type": "execute_result"
    }
   ],
   "source": []
  },
  {
   "cell_type": "code",
   "execution_count": null,
   "metadata": {
    "collapsed": true
   },
   "outputs": [],
   "source": []
  }
 ],
 "metadata": {
  "kernelspec": {
   "display_name": "Python 3",
   "language": "python",
   "name": "python3"
  },
  "language_info": {
   "codemirror_mode": {
    "name": "ipython",
    "version": 3
   },
   "file_extension": ".py",
   "mimetype": "text/x-python",
   "name": "python",
   "nbconvert_exporter": "python",
   "pygments_lexer": "ipython3",
   "version": "3.6.1"
  }
 },
 "nbformat": 4,
 "nbformat_minor": 1
}

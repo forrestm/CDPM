{
 "cells": [
  {
   "cell_type": "code",
   "execution_count": 19,
   "metadata": {
    "collapsed": true
   },
   "outputs": [],
   "source": [
    "from sympy import symbols, init_printing\n",
    "import sympy\n",
    "import sympy.physics.mechanics as me\n",
    "from pydy.system import System\n",
    "import matplotlib as mpl\n",
    "import matplotlib.pyplot as plt\n",
    "from scipy.integrate import ode, odeint\n",
    "from sympy.utilities.lambdify import lambdastr\n",
    "from scipy.optimize import fsolve\n",
    "import numpy as np\n",
    "from CDPMv2_animation import animate as ani\n",
    "%matplotlib inline\n",
    "init_printing(True)"
   ]
  },
  {
   "cell_type": "code",
   "execution_count": 20,
   "metadata": {
    "collapsed": true
   },
   "outputs": [],
   "source": [
    "workspace_width = 10.4\n",
    "middle = workspace_width/2\n",
    "\n",
    "plate_width = 0.5\n",
    "plate_height = 0.3\n",
    "\n",
    "rod_length = 2.91\n",
    "rod_radius = 0.02\n",
    "e_offset = 1.60675\n",
    "\n",
    "mass_of_plate = 10\n",
    "mass_of_rod = 2\n",
    "\n",
    "cable_K = 1000.0\n",
    "cable_C = 0.7\n",
    "rod_k = 1000.0\n",
    "rod_c = 5.0"
   ]
  },
  {
   "cell_type": "code",
   "execution_count": 160,
   "metadata": {
    "collapsed": false
   },
   "outputs": [],
   "source": [
    "init_x = middle - middle/2\n",
    "init_z = 1.5\n",
    "init_beta = 0"
   ]
  },
  {
   "cell_type": "code",
   "execution_count": 166,
   "metadata": {
    "collapsed": true
   },
   "outputs": [],
   "source": [
    "# Create the frames\n",
    "A = me.ReferenceFrame('A')\n",
    "# B = me.ReferenceFrame('B')\n",
    "# C = me.ReferenceFrame('C')\n",
    "\n",
    "# Create the symbols\n",
    "# x, z, e, theta, beta = me.dynamicsymbols('x z e theta beta')\n",
    "x_dot, z_dot, e_dot = me.dynamicsymbols('x_dot z_dot e_dot')\n",
    "theta_dot, beta_dot = me.dynamicsymbols('theta_dot beta_dot')\n",
    "H, a, b, M, m, g, k, t = sympy.symbols('H a b M m g k t')\n",
    "Ip, Ir, c, r, p, kr, cr, D = sympy.symbols('Ip Ir c r p kr cr D')\n",
    "L1, L2, X, Z, BETA = sympy.symbols('L1 L2 X Z BETA')"
   ]
  },
  {
   "cell_type": "code",
   "execution_count": 167,
   "metadata": {
    "collapsed": true
   },
   "outputs": [],
   "source": [
    "for j in range(2):\n",
    "    if j == 0:\n",
    "        x, z, e, theta, beta = sympy.symbols('x z e theta beta')\n",
    "        # Orient the Beta frame\n",
    "        B = A.orientnew('B', 'Axis', [beta, A.y])\n",
    "        C = A.orientnew('C', 'Axis', [theta, A.y])\n",
    "        B.set_ang_vel(A, beta_dot * A.y)\n",
    "        C.set_ang_vel(A, theta_dot * A.y)\n",
    "    else:\n",
    "        x, z, e, theta, beta = me.dynamicsymbols('x z e theta beta')\n",
    "        # Orient the Beta frame\n",
    "        B = A.orientnew('B', 'Axis', [beta, A.y])\n",
    "        C = A.orientnew('C', 'Axis', [theta, A.y])\n",
    "        B.set_ang_vel(A, beta_dot * A.y)\n",
    "        C.set_ang_vel(A, theta_dot * A.y)\n",
    "    # Create the origin points point\n",
    "    A1 = me.Point('A1')\n",
    "    A2 = me.Point('A2')\n",
    "\n",
    "    # Set the origin points positions\n",
    "    A1.set_pos(A1, 0)\n",
    "    A2.set_pos(A1, H * A.x)\n",
    "\n",
    "    # Create the plate center of Gravity\n",
    "    G = me.Point('G')\n",
    "    Gr = me.Point('Gr')\n",
    "\n",
    "    # Set the COG position\n",
    "    G.set_pos(A1, x*A.x + z*A.z)\n",
    "    Gr.set_pos(G, e * C.z)\n",
    "\n",
    "    # Create the attachment points\n",
    "    B1 = me.Point('B1')\n",
    "    B2 = me.Point('B2')\n",
    "\n",
    "    # # Set the attachment points positions\n",
    "    B1.set_pos(G, -a/2 * B.x - b/2 * B.z)\n",
    "    B2.set_pos(G, a/2 * B.x - b/2 * B.z)\n",
    "\n",
    "    # Create Rod top and Bottom points\n",
    "    C1 = me.Point('C1')\n",
    "    C2 = me.Point('C2')\n",
    "    C1.set_pos(Gr, -D/2 * C.z)\n",
    "    C2.set_pos(Gr, D/2 * C.z)\n",
    "\n",
    "    # Create the position vectors\n",
    "    a2 = A2.pos_from(A1)\n",
    "    a2_x = a2 & A.x\n",
    "    a2_z = a2 & A.z\n",
    "\n",
    "    r1 = B1.pos_from(G)\n",
    "    r1_x = r1 & A.x\n",
    "    r1_z = r1 & A.z\n",
    "\n",
    "    r2 = B2.pos_from(G)\n",
    "    r2_x = r2 & A.x\n",
    "    r2_z = r2 & A.z\n",
    "\n",
    "    r21 = B2.pos_from(B1)\n",
    "    r21_x = r21 & A.x\n",
    "    r21_z = r21 & A.z\n",
    "\n",
    "    s1 = B1.pos_from(A1)\n",
    "    s2 = B2.pos_from(A2)\n",
    "\n",
    "    # Calculating the Geometric lengths from the top corners of the plate\n",
    "    Length1 = s1.magnitude()\n",
    "    Length2 = s2.magnitude()\n",
    "\n",
    "    # Creating the unit vectors pointing from the origins to the top plate points\n",
    "    s1_vector = s1.normalize()\n",
    "    s2_vector = s2.normalize()\n",
    "    \n",
    "    spF1 = A1.pos_from(B1)\n",
    "    spF2 = A2.pos_from(B2)\n",
    "    \n",
    "    if j == 0:\n",
    "        p = ((r21_x * x + a2_x * r1_x) * z - r21_z * x**2 +\n",
    "             (r1_z * r2_x - r1_x * r2_z + a2_x * r21_z - a2_z * r2_x) * x +\n",
    "             r1_x *  (a2_x * r2_z - a2_z * r2_x))\n",
    "        equation_all = p.subs({H:workspace_width, a:plate_width, b:plate_height}).evalf()\n",
    "        equation_all = equation_all.simplify()\n",
    "        lambda_str1 = lambdastr((beta), equation_all)\n",
    "        lambda_str2 = lambda_str1.replace('sin', 'np.sin')\n",
    "        lambda_str3 = lambda_str2.replace('cos', 'np.cos')\n",
    "        lambda_str4 = lambda_str3.replace('x', 'x_temp')\n",
    "        lambda_str = lambda_str4.replace('z', 'z_temp')\n",
    "        func1 = eval(lambda_str)"
   ]
  },
  {
   "cell_type": "code",
   "execution_count": 168,
   "metadata": {
    "collapsed": false
   },
   "outputs": [
    {
     "name": "stdout",
     "output_type": "stream",
     "text": [
      "These are the geometric lengths\n",
      "----------------        \n",
      "Initial Length 1: 2.71016604657353\n",
      "Initial Length 2: 7.66974575849813\n",
      "e:-1.58713\n"
     ]
    }
   ],
   "source": [
    "# Getting the geometric lengths for testing\n",
    "geo_Len1_init = Length1.subs({x:init_x,\n",
    "                     z:init_z,\n",
    "                     H:workspace_width,\n",
    "                     a:plate_width,\n",
    "                     b:plate_height, \n",
    "                     beta:init_beta})\n",
    "geo_Len2_init = Length2.subs({x:init_x,\n",
    "                     z:init_z,\n",
    "                     H:workspace_width,\n",
    "                     a:plate_width,\n",
    "                     b:plate_height, \n",
    "                     beta:init_beta})\n",
    "\n",
    "e_init = ((9.81 * mass_of_rod) / rod_k) - e_offset\n",
    "print('These are the geometric lengths\\n----------------\\\n",
    "        \\nInitial Length 1: {}\\nInitial Length 2: {}\\ne:{}'.format(geo_Len1_init,\n",
    "                                                                   geo_Len2_init,\n",
    "                                                                   e_init))"
   ]
  },
  {
   "cell_type": "code",
   "execution_count": 169,
   "metadata": {
    "collapsed": false
   },
   "outputs": [
    {
     "name": "stdout",
     "output_type": "stream",
     "text": [
      "These are the actual lengths\n",
      "----------------        \n",
      "Initial Length 1: 2.57716402637152\n",
      "Initial Length 2: 7.62834777870015\n"
     ]
    }
   ],
   "source": [
    "fake_length1, fake_length2 = sympy.symbols('fake_length1 fake_length2')\n",
    "\n",
    "Fsp1 = 1000*(geo_Len1_init - fake_length1)*spF1\n",
    "Fsp2 = 1000*(geo_Len2_init - fake_length2)*spF2\n",
    "\n",
    "Fsp1_x = Fsp1 & A.x\n",
    "Fsp1_z = Fsp1 & A.z\n",
    "\n",
    "Fsp2_x = Fsp2 & A.x\n",
    "Fsp2_z = Fsp2 & A.z\n",
    "\n",
    "X_side = Fsp1_x + Fsp2_x\n",
    "Z_side = Fsp1_z + Fsp2_z + ((12) * 9.81)\n",
    "\n",
    "X_init = X_side.subs({x:init_x,\n",
    "                 z:1.5,\n",
    "                 H:10.4,\n",
    "                 a:0.5,\n",
    "                 b:0.3, \n",
    "                 beta:0})\n",
    "\n",
    "Z_init = Z_side.subs({x:init_x,\n",
    "                 z:1.5,\n",
    "                 H:10.4,\n",
    "                 a:0.5,\n",
    "                 b:0.3, \n",
    "                 beta:0})\n",
    "\n",
    "Equ_init = [X_init, Z_init]\n",
    "temp_init= sympy.linsolve(Equ_init,fake_length1,fake_length2)\n",
    "subtract_L1_init, subtract_L2_init = next(iter(temp_init))\n",
    "\n",
    "delta_init_L1 = geo_Len1_init - subtract_L1_init\n",
    "delta_init_L2 = geo_Len2_init - subtract_L2_init\n",
    "\n",
    "actual_init_L1 = subtract_L1_init - delta_init_L1\n",
    "actual_init_L2 = subtract_L2_init - delta_init_L2\n",
    "\n",
    "print('These are the actual lengths\\n----------------\\\n",
    "        \\nInitial Length 1: {}\\nInitial Length 2: {}'.format(actual_init_L1,\n",
    "                                     actual_init_L2))"
   ]
  },
  {
   "cell_type": "code",
   "execution_count": 165,
   "metadata": {
    "collapsed": false
   },
   "outputs": [
    {
     "data": {
      "image/png": "[encoded data removed]",
      "text/latex": [
       "$$1350.0 fake_{length2} - 10354.1567739725$$"
      ],
      "text/plain": [
       "1350.0⋅fake_length2 - 10354.1567739725"
      ]
     },
     "execution_count": 165,
     "metadata": {},
     "output_type": "execute_result"
    }
   ],
   "source": [
    "Fsp2_z.subs({beta:0, a:0.5,b:0.3,x:5.2, H:10.4, z:1.5})"
   ]
  },
  {
   "cell_type": "code",
   "execution_count": 148,
   "metadata": {
    "collapsed": false
   },
   "outputs": [
    {
     "data": {
      "image/png": "[encoded data removed]",
      "text/latex": [
       "$$0$$"
      ],
      "text/plain": [
       "0"
      ]
     },
     "execution_count": 148,
     "metadata": {},
     "output_type": "execute_result"
    }
   ],
   "source": [
    "Z_side.subs({beta:0, a:0.5,b:0.3,x:5.2, H:10.4, z:1.5,\n",
    "             fake_length1:subtract_L1_init,fake_length2:subtract_L1_init})"
   ]
  },
  {
   "cell_type": "code",
   "execution_count": 150,
   "metadata": {
    "collapsed": false
   },
   "outputs": [
    {
     "data": {
      "image/png": "[encoded data removed]",
      "text/latex": [
       "$$0.0435999999999996$$"
      ],
      "text/plain": [
       "0.0435999999999996"
      ]
     },
     "execution_count": 150,
     "metadata": {},
     "output_type": "execute_result"
    }
   ],
   "source": [
    "delta_init_L1"
   ]
  },
  {
   "cell_type": "code",
   "execution_count": 142,
   "metadata": {
    "collapsed": false
   },
   "outputs": [
    {
     "data": {
      "image/png": "[encoded data removed]",
      "text/latex": [
       "$$5.06850369866041$$"
      ],
      "text/plain": [
       "5.06850369866041"
      ]
     },
     "execution_count": 142,
     "metadata": {},
     "output_type": "execute_result"
    }
   ],
   "source": [
    "subtract_L2_init"
   ]
  },
  {
   "cell_type": "code",
   "execution_count": null,
   "metadata": {
    "collapsed": true
   },
   "outputs": [],
   "source": []
  }
 ],
 "metadata": {
  "kernelspec": {
   "display_name": "Python 3",
   "language": "python",
   "name": "python3"
  },
  "language_info": {
   "codemirror_mode": {
    "name": "ipython",
    "version": 3
   },
   "file_extension": ".py",
   "mimetype": "text/x-python",
   "name": "python",
   "nbconvert_exporter": "python",
   "pygments_lexer": "ipython3",
   "version": "3.5.2"
  }
 },
 "nbformat": 4,
 "nbformat_minor": 0
}

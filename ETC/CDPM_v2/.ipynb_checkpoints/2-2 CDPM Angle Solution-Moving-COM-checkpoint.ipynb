{
 "cells": [
  {
   "cell_type": "code",
   "execution_count": 1,
   "metadata": {
    "collapsed": false
   },
   "outputs": [],
   "source": [
    "from sympy import symbols, init_printing\n",
    "import sympy\n",
    "from sympy.utilities.lambdify import lambdastr\n",
    "import sympy.physics.mechanics as me\n",
    "from pydy.system import System\n",
    "import matplotlib.pyplot as plt\n",
    "from scipy.integrate import ode, odeint\n",
    "from scipy.optimize import fsolve\n",
    "import numpy as np\n",
    "%matplotlib inline\n",
    "init_printing()"
   ]
  },
  {
   "cell_type": "code",
   "execution_count": 2,
   "metadata": {
    "collapsed": false
   },
   "outputs": [],
   "source": [
    "# Create the frames\n",
    "A = me.ReferenceFrame('A')\n",
    "B = me.ReferenceFrame('B')\n",
    "\n",
    "# Create the symbols\n",
    "# x, y, beta, e, F, L1, L2 = me.dynamicsymbols('x y beta e F L1 L2')\n",
    "x, z, beta, e, theta = sympy.symbols('x z beta e theta')\n",
    "x_dot, z_dot, e_dot = me.dynamicsymbols('x_dot z_dot e_dot')\n",
    "theta_dot, beta_dot = me.dynamicsymbols('theta_dot beta_dot')\n",
    "H, a, b, m, g, k, t = sympy.symbols('H a b m g k t')\n",
    "c, c_rod, D, M, k_rod = sympy.symbols('c c_rod D M k_rod')\n",
    "Izz, Izz_rod = sympy.symbols('Izz Izz_rod')\n",
    "L1, L2 = sympy.symbols('L1 L2')\n",
    "\n",
    "# Orient the Beta frame\n",
    "# B.orient(A, 'Axis', (beta, A.y))\n",
    "# B.orient(A, 'Axis', (beta, A.y))"
   ]
  },
  {
   "cell_type": "code",
   "execution_count": 9,
   "metadata": {
    "collapsed": false
   },
   "outputs": [],
   "source": [
    "x, z, e, theta, beta = sympy.symbols('x z e theta beta')\n",
    "# Orient the Beta frame\n",
    "B = A.orientnew('B', 'Axis', [beta, A.y])\n",
    "C = A.orientnew('C', 'Axis', [theta, A.y])\n",
    "B.set_ang_vel(A, beta_dot * A.y)\n",
    "C.set_ang_vel(A, theta_dot * A.y)\n",
    "\n",
    "# Create the origin points point\n",
    "A1 = me.Point('A1')\n",
    "A2 = me.Point('A2')\n",
    "\n",
    "# Set the origin points positions\n",
    "A1.set_pos(A1, 0)\n",
    "A2.set_pos(A1, H * A.x)\n",
    "\n",
    "# Create the plate center of Gravity\n",
    "G = me.Point('G')\n",
    "Gr = me.Point('Gr')\n",
    "\n",
    "# Set the COGs position\n",
    "G.set_pos(A1, x*A.x + z*A.z)\n",
    "Gr.set_pos(G, e * C.z)\n",
    "\n",
    "# Create the COM\n",
    "G_top = G.locatenew('G_top', -(b/2) * B.z)\n",
    "G_top_Gr = Gr.pos_from(G_top)\n",
    "COM_v = ((M * G.pos_from(G_top)) + (m * G_top_Gr)) / (M + m)\n",
    "# COM = me.Point('COM')\n",
    "# COM.set_pos(A1, COM_v)\n",
    "COM = G_top.locatenew('COM',-0.117791666666667 * B.z)\n",
    "\n",
    "# Create the attachment points\n",
    "B1 = me.Point('B1')\n",
    "B2 = me.Point('B2')\n",
    "\n",
    "# # Set the attachment points positions\n",
    "B1.set_pos(G, -a/2 * B.x - b/2 * B.z)\n",
    "B2.set_pos(G, a/2 * B.x - b/2 * B.z)\n",
    "\n",
    "# Create Rod top and Bottom points\n",
    "C1 = me.Point('C1')\n",
    "C2 = me.Point('C2')\n",
    "C1.set_pos(Gr, -D/2 * C.z)\n",
    "C2.set_pos(Gr, D/2 * C.z)\n",
    "\n",
    "# Create the position vectors\n",
    "a2 = A2.pos_from(A1)\n",
    "a2_x = a2 & A.x\n",
    "a2_z = a2 & A.z\n",
    "\n",
    "r1 = B1.pos_from(COM)\n",
    "r1_x = r1 & A.x\n",
    "r1_z = r1 & A.z\n",
    "\n",
    "r2 = B2.pos_from(COM)\n",
    "r2_x = r2 & A.x\n",
    "r2_z = r2 & A.z\n",
    "\n",
    "r21 = B2.pos_from(B1)\n",
    "r21_x = r21 & A.x\n",
    "r21_z = r21 & A.z\n",
    "\n",
    "s1 = B1.pos_from(A1)\n",
    "s2 = B2.pos_from(A2)\n",
    "\n",
    "spF1 = A1.pos_from(B1)\n",
    "spF2 = A2.pos_from(B2)\n",
    "\n",
    "# Calculating the Geometric lengths from the top corners of the plate\n",
    "Length1 = s1.magnitude()\n",
    "Length2 = s2.magnitude()\n",
    "\n",
    "# Creating the unit vectors pointing from the origins to the top plate points\n",
    "s1_vector = s1.normalize()\n",
    "s2_vector = s2.normalize()"
   ]
  },
  {
   "cell_type": "code",
   "execution_count": 10,
   "metadata": {
    "collapsed": false
   },
   "outputs": [
    {
     "data": {
      "image/png": "[encoded data removed]",
      "text/latex": [
       "$$- 0.117791666666667\\mathbf{\\hat{b}_z}$$"
      ],
      "text/plain": [
       "- 0.117791666666667 b_z"
      ]
     },
     "execution_count": 10,
     "metadata": {},
     "output_type": "execute_result"
    }
   ],
   "source": [
    "COM_v.express(B).subs({theta:0, beta:0,e:-1.60675,b:0.3,M:10,m:2})\n",
    "# equation_all"
   ]
  },
  {
   "cell_type": "code",
   "execution_count": 11,
   "metadata": {
    "collapsed": false
   },
   "outputs": [],
   "source": [
    "p = ((r21_x * x + a2_x * r1_x) * z - r21_z * x**2 +\n",
    "     (r1_z * r2_x - r1_x * r2_z + a2_x * r21_z - a2_z * r2_x) * x +\n",
    "     r1_x * (a2_x * r2_z - a2_z * r2_x))\n",
    "equation_all = p.subs({H:10.4, a:0.5, b:0.3035,M:10,m:2}).evalf()\n",
    "equation_all = equation_all.simplify()\n",
    "lambda_str1 = lambdastr((beta), equation_all)\n",
    "lambda_str2 = lambda_str1.replace('sin', 'np.sin')\n",
    "lambda_str3 = lambda_str2.replace('cos', 'np.cos')\n",
    "lambda_str4 = lambda_str3.replace('x', 'x_temp')\n",
    "lambda_str = lambda_str4.replace('z', 'z_temp')\n",
    "# lambda_str6 = lambda_str5.replace('pi', 'np.pi')\n",
    "# lambda_str = lambda_str6.replace('sqrt(', 'np.sqrt(')\n",
    "func1 = eval(lambda_str)"
   ]
  },
  {
   "cell_type": "code",
   "execution_count": 12,
   "metadata": {
    "collapsed": false,
    "scrolled": true
   },
   "outputs": [
    {
     "data": {
      "text/plain": [
       "'lambda beta: (0.5*x_temp**2*np.sin(beta) + 0.5*x_temp*z_temp*np.cos(beta) - 5.2*x_temp*np.sin(beta) + 0.0588958333333335*x_temp + 1.22503333333334*z_temp*np.sin(beta) - 2.6*z_temp*np.cos(beta) + 0.397149359027778*np.sin(2*beta) - 0.306258333333334)'"
      ]
     },
     "execution_count": 12,
     "metadata": {},
     "output_type": "execute_result"
    }
   ],
   "source": [
    "init_printing(False)\n",
    "lambda_str"
   ]
  },
  {
   "cell_type": "code",
   "execution_count": 13,
   "metadata": {
    "collapsed": false
   },
   "outputs": [
    {
     "ename": "NameError",
     "evalue": "name 'x_values_geo' is not defined",
     "output_type": "error",
     "traceback": [
      "\u001b[0;31m---------------------------------------------------------------------------\u001b[0m",
      "\u001b[0;31mNameError\u001b[0m                                 Traceback (most recent call last)",
      "\u001b[0;32m<ipython-input-13-8a030b94030b>\u001b[0m in \u001b[0;36m<module>\u001b[0;34m()\u001b[0m\n\u001b[0;32m----> 1\u001b[0;31m \u001b[0mplt\u001b[0m\u001b[0;34m.\u001b[0m\u001b[0mplot\u001b[0m\u001b[0;34m(\u001b[0m\u001b[0mfunc1\u001b[0m\u001b[0;34m(\u001b[0m\u001b[0mx_values_geo\u001b[0m\u001b[0;34m)\u001b[0m\u001b[0;34m)\u001b[0m\u001b[0;34m\u001b[0m\u001b[0m\n\u001b[0m",
      "\u001b[0;31mNameError\u001b[0m: name 'x_values_geo' is not defined"
     ]
    }
   ],
   "source": [
    "plt.plot(func1(x_values_geo))"
   ]
  },
  {
   "cell_type": "code",
   "execution_count": 14,
   "metadata": {
    "collapsed": true
   },
   "outputs": [],
   "source": [
    "# # Use the numerical solver to find the roots\n",
    "# x_values_geo = np.linspace(0.4,2.4956,100)\n",
    "# # Linkage Geometry\n",
    "# z_temp = 1.5\n",
    "# func = lambda beta : (0.133*x_temp**2*np.sin(beta) + x_temp*(-(-0.0665*np.sin(beta) -\n",
    "#                      0.03325*np.cos(beta))*(-0.03325*np.sin(beta) - 0.0665*\n",
    "#                      np.cos(beta)) + (-0.03325*np.sin(beta) + 0.0665*np.cos(\n",
    "#                      beta))*(0.0665*np.sin(beta) - 0.03325*np.cos(beta)) -\n",
    "#                      0.3851148*np.sin(beta)) + z_temp*(0.133*x_temp*np.cos(beta) -\n",
    "#                      0.0962787*np.sin(beta) - 0.1925574*np.cos(beta)) +\n",
    "#                      2.8956*(-0.0665*np.sin(beta) - 0.03325*np.cos(beta))*(\n",
    "#                      -0.03325*np.sin(beta) - 0.0665*np.cos(beta)))\n",
    "# beta_values_geo = []\n",
    "# for i in range(100):\n",
    "#     x_temp = x_values_geo[i]\n",
    "#     tau_initial_guess = 0.5\n",
    "#     tau_solution = fsolve(func, tau_initial_guess)\n",
    "#     beta_values_geo.append(np.rad2deg(tau_solution))"
   ]
  },
  {
   "cell_type": "code",
   "execution_count": 36,
   "metadata": {
    "collapsed": false
   },
   "outputs": [
    {
     "data": {
      "text/plain": [
       "array([ 0.10522954])"
      ]
     },
     "execution_count": 36,
     "metadata": {},
     "output_type": "execute_result"
    }
   ],
   "source": [
    "x_temp = 8\n",
    "z_temp = 0.5\n",
    "np.rad2deg(fsolve(func1, initial_guess))\n",
    "fsolve(func1, initial_guess)"
   ]
  },
  {
   "cell_type": "code",
   "execution_count": 31,
   "metadata": {
    "collapsed": false
   },
   "outputs": [],
   "source": [
    "x_values_geo = np.linspace(1,9.4,100)\n",
    "z_temp = 0.5\n",
    "initial_guess = 0.00001\n",
    "beta_values_geo = []\n",
    "for i in range(100):\n",
    "    x_temp = x_values_geo[i]\n",
    "    beta_solution = fsolve(func1, initial_guess)\n",
    "    beta_values_geo.append(np.rad2deg(beta_solution))"
   ]
  },
  {
   "cell_type": "code",
   "execution_count": 32,
   "metadata": {
    "collapsed": false
   },
   "outputs": [
    {
     "data": {
      "image/png": "[encoded data removed]",
      "text/plain": [
       "<matplotlib.figure.Figure at 0x1160f5ef0>"
      ]
     },
     "metadata": {},
     "output_type": "display_data"
    }
   ],
   "source": [
    "## plt.plot(x_values_10,beta_values_10, label=10)\n",
    "plt.plot(x_values_geo,beta_values_geo, label=1.5)\n",
    "# plt.xlim(0,2.6)\n",
    "# plt.ylim(-40,50)\n",
    "plt.legend(loc=\"upper left\")\n",
    "# plt.savefig('/Users/forrest/Desktop/tes.pdf')\n",
    "plt.show()"
   ]
  },
  {
   "cell_type": "code",
   "execution_count": 10,
   "metadata": {
    "collapsed": false
   },
   "outputs": [
    {
     "data": {
      "image/png": "[encoded data removed]",
      "text/plain": [
       "<matplotlib.figure.Figure at 0x110ed0198>"
      ]
     },
     "metadata": {},
     "output_type": "display_data"
    }
   ],
   "source": [
    "# plt.plot(x_values_10,beta_values_10, label=10)\n",
    "plt.plot(x_values_geo,beta_values_geo, label=1.5)\n",
    "plt.xlim(0,2.6)\n",
    "plt.ylim(-40,50)\n",
    "plt.legend(loc=\"upper left\")\n",
    "# plt.savefig('/Users/forrest/Desktop/tes.pdf')\n",
    "plt.show()"
   ]
  },
  {
   "cell_type": "code",
   "execution_count": 19,
   "metadata": {
    "collapsed": false,
    "scrolled": true
   },
   "outputs": [],
   "source": [
    "# x_values_heat = np.linspace(0.28956,2.60604,100)\n",
    "# z_values_heat = np.linspace(0.6, 2.286, 100)\n",
    "x_values_heat = np.linspace(1,9.4,100)\n",
    "# z_values_heat = np.linspace(0.6, 2, 100)\n",
    "z_values_heat = np.linspace(0,5,100)\n",
    "\n",
    "beta_values_heat = []\n",
    "x_values_heatp = []\n",
    "z_values_heatp = []\n",
    "for j in range(100):\n",
    "    z_temp = z_values_heat[j]\n",
    "    for i in range(100):\n",
    "        x_temp = x_values_heat[i]\n",
    "        tau_initial_guess = 0.5\n",
    "        tau_solution = fsolve(func1, tau_initial_guess)\n",
    "        beta_values_heat.append(np.rad2deg(tau_solution))\n",
    "        x_values_heatp.append(x_temp)\n",
    "        z_values_heatp.append(z_temp)\n",
    "x_values_heat_np = np.asarray(x_values_heatp)\n",
    "z_values_heat_np = np.asarray(z_values_heatp)\n",
    "beta_values_heat_np = np.asarray(beta_values_heat)\n",
    "beta_map = beta_values_heat_np.reshape(100,100)"
   ]
  },
  {
   "cell_type": "code",
   "execution_count": 20,
   "metadata": {
    "collapsed": false,
    "scrolled": true
   },
   "outputs": [],
   "source": [
    "# # x_values_heat = np.linspace(0.28956,2.60604,100)\n",
    "# # z_values_heat = np.linspace(0.6, 2.286, 100)\n",
    "# x_values_heat = np.linspace(0.4,2.4956,100)\n",
    "# # z_values_heat = np.linspace(0.6, 2, 100)\n",
    "# z_values_heat = np.linspace(0.4,2.4956,100)\n",
    "\n",
    "# beta_values_heat = []\n",
    "# x_values_heatp = []\n",
    "# z_values_heatp = []\n",
    "# for j in range(100):\n",
    "#     z_temp = z_values_heat[j]\n",
    "#     func = lambda beta : (0.133*x_temp**2*np.sin(beta) + x_temp*(-(-0.0665*np.sin(beta) -\n",
    "#                          0.03325*np.cos(beta))*(-0.03325*np.sin(beta) - 0.0665*\n",
    "#                          np.cos(beta)) + (-0.03325*np.sin(beta) + 0.0665*np.cos(\n",
    "#                          beta))*(0.0665*np.sin(beta) - 0.03325*np.cos(beta)) -\n",
    "#                          0.3851148*np.sin(beta)) + z_temp*(0.133*x_temp*np.cos(beta) -\n",
    "#                          0.0962787*np.sin(beta) - 0.1925574*np.cos(beta)) +\n",
    "#                          2.8956*(-0.0665*np.sin(beta) - 0.03325*np.cos(beta))*(\n",
    "#                          -0.03325*np.sin(beta) - 0.0665*np.cos(beta)))\n",
    "#     print(j)\n",
    "#     for i in range(100):\n",
    "#         x_temp = x_values_heat[i]\n",
    "#         tau_initial_guess = 0.5\n",
    "#         tau_solution = fsolve(func, tau_initial_guess)\n",
    "#         beta_values_heat.append(np.rad2deg(tau_solution))\n",
    "#         x_values_heatp.append(x_temp)\n",
    "#         z_values_heatp.append(z_temp)\n",
    "# x_values_heat_np = np.asarray(x_values_heatp)\n",
    "# z_values_heat_np = np.asarray(z_values_heatp)\n",
    "# beta_values_heat_np = np.asarray(beta_values_heat)\n",
    "# beta_map = beta_values_heat_np.reshape(100,100)"
   ]
  },
  {
   "cell_type": "code",
   "execution_count": 20,
   "metadata": {
    "collapsed": false
   },
   "outputs": [
    {
     "data": {
      "image/png": "[encoded data removed]",
      "text/plain": [
       "<matplotlib.figure.Figure at 0x1158019e8>"
      ]
     },
     "metadata": {},
     "output_type": "display_data"
    }
   ],
   "source": [
    "title = 'Angle Over Workspace'\n",
    "fig, ax = plt.subplots()\n",
    "x = x_values_heat\n",
    "y = z_values_heat\n",
    "X,Y = np.meshgrid(x,y)\n",
    "\n",
    "plt.pcolormesh(X,Y,beta_map, cmap=plt.cm.RdYlGn)\n",
    "ax.invert_yaxis()\n",
    "ax.axis('image')\n",
    "ax.set_aspect('equal')\n",
    "cbar = plt.colorbar()\n",
    "cbar.ax.set_title('Angle')\n",
    "plt.xlabel('Horizontal Motion')\n",
    "plt.ylabel('Vertical Motion')\n",
    "plt.title(title)\n",
    "# plt.savefig('/Users/forrest/Desktop/angles_COF_2plate' + \".pdf\")\n",
    "plt.show()"
   ]
  },
  {
   "cell_type": "code",
   "execution_count": null,
   "metadata": {
    "collapsed": false
   },
   "outputs": [],
   "source": []
  },
  {
   "cell_type": "code",
   "execution_count": 71,
   "metadata": {
    "collapsed": false
   },
   "outputs": [
    {
     "data": {
      "image/png": "[encoded data removed]",
      "text/latex": [
       "$$10000$$"
      ],
      "text/plain": [
       "10000"
      ]
     },
     "execution_count": 71,
     "metadata": {},
     "output_type": "execute_result"
    }
   ],
   "source": []
  },
  {
   "cell_type": "code",
   "execution_count": null,
   "metadata": {
    "collapsed": true
   },
   "outputs": [],
   "source": []
  }
 ],
 "metadata": {
  "kernelspec": {
   "display_name": "Python 3",
   "language": "python",
   "name": "python3"
  },
  "language_info": {
   "codemirror_mode": {
    "name": "ipython",
    "version": 3
   },
   "file_extension": ".py",
   "mimetype": "text/x-python",
   "name": "python",
   "nbconvert_exporter": "python",
   "pygments_lexer": "ipython3",
   "version": "3.5.2"
  }
 },
 "nbformat": 4,
 "nbformat_minor": 0
}

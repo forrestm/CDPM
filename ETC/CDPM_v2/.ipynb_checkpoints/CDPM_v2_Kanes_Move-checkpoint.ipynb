{
 "cells": [
  {
   "cell_type": "code",
   "execution_count": 2,
   "metadata": {
    "collapsed": false
   },
   "outputs": [],
   "source": [
    "from sympy import symbols, init_printing\n",
    "import sympy\n",
    "import sympy.physics.mechanics as me\n",
    "from pydy.system import System\n",
    "import matplotlib as mpl\n",
    "import matplotlib.pyplot as plt\n",
    "from scipy.integrate import ode, odeint\n",
    "from sympy.utilities.lambdify import lambdastr\n",
    "import InputShaping as shaping\n",
    "from scipy.optimize import fsolve\n",
    "import numpy as np\n",
    "from CDPMv2_animation import animate as ani\n",
    "%matplotlib inline\n",
    "init_printing(True)"
   ]
  },
  {
   "cell_type": "code",
   "execution_count": 23,
   "metadata": {
    "collapsed": true
   },
   "outputs": [],
   "source": [
    "# Constants\n",
    "# If this is changed the angle solution will not work correctly\n",
    "# workspace_width = 2.8956\n",
    "workspace_width = 10.4\n",
    "middle = workspace_width/2\n",
    "\n",
    "# Seconds to run the Simulation\n",
    "# This number will be multiplied by 30 to give a ratio of 30pts/s\n",
    "runtime = 15\n",
    "\n",
    "# plate_width = 0.133\n",
    "# plate_height = 0.0665\n",
    "\n",
    "plate_width = 0.5\n",
    "plate_height = 0.3\n",
    "\n",
    "rod_length = 2.91\n",
    "rod_radius = 0.02\n",
    "e_offset = 0.0\n",
    "\n",
    "mass_of_plate = 10\n",
    "mass_of_rod = 2\n",
    "\n",
    "cable_K = 10000.0\n",
    "cable_C = 20 # Get in damping ratio\n",
    "rod_k = 10000.0\n",
    "rod_c = 5.0\n",
    "\n",
    "inertia_of_plate = (plate_width**2 + plate_height**2) * (mass_of_plate/12.0)\n",
    "inertia_of_rod = (mass_of_rod/12)*(3*rod_radius**2 + rod_length**2)"
   ]
  },
  {
   "cell_type": "code",
   "execution_count": 24,
   "metadata": {
    "collapsed": false
   },
   "outputs": [],
   "source": [
    "# Create the frames\n",
    "A = me.ReferenceFrame('A')\n",
    "# B = me.ReferenceFrame('B')\n",
    "# C = me.ReferenceFrame('C')\n",
    "\n",
    "# Create the symbols\n",
    "# x, z, e, theta, beta = me.dynamicsymbols('x z e theta beta')\n",
    "x_dot, z_dot, e_dot = me.dynamicsymbols('x_dot z_dot e_dot')\n",
    "theta_dot, beta_dot = me.dynamicsymbols('theta_dot beta_dot')\n",
    "H, a, b, M, m, g, k, t = sympy.symbols('H a b M m g k t')\n",
    "Ip, Ir, c, r, p, kr, cr, D = sympy.symbols('Ip Ir c r p kr cr D')\n",
    "L1, L2 = me.dynamicsymbols('L1 L2')\n",
    "# L1, L2 = sympy.symbols('L1 L2')\n",
    "\n",
    "# Orient the Beta frame\n",
    "# B = A.orientnew('B', 'Axis', [beta, A.y])\n",
    "# C = A.orientnew('C', 'Axis', [theta, A.y])\n",
    "# B.set_ang_vel(A, beta_dot * A.y)\n",
    "# C.set_ang_vel(A, theta_dot * A.y)"
   ]
  },
  {
   "cell_type": "code",
   "execution_count": 25,
   "metadata": {
    "collapsed": true
   },
   "outputs": [],
   "source": [
    "def s_curve(CurrTime, Begin, Amp, RiseTime, StartTime):\n",
    "    \"\"\"\n",
    "    This was copied from Dr. Vaughan's Input shaping Library\n",
    "    I edited it to allow for a beginning value.\n",
    "\n",
    "    Function to generate an s-curve command\n",
    "\n",
    "    Arguments:\n",
    "      CurrTime : The current timestep or an array of times\n",
    "      Amp : The magnitude of the s-curve (or final setpoint)\n",
    "      RiseTime : The rise time of the curve\n",
    "      StartTime : The time that the command should StartTime\n",
    "      Begin : The beginnning value\n",
    "\n",
    "    Returns :\n",
    "      The command at the current timestep or an array representing the command\n",
    "      over the times given (if CurrTime was an array)\n",
    "    \"\"\"\n",
    "\n",
    "    Amp = Amp - Begin\n",
    "    scurve = (2.0 * ((CurrTime - StartTime)/RiseTime)**2 *\n",
    "    (CurrTime-StartTime >= 0) * (CurrTime-StartTime < RiseTime/2)\n",
    "    +(-2.0 * ((CurrTime - StartTime)/RiseTime)**2 + 4.0 * ((CurrTime -\n",
    "    StartTime)/RiseTime) - 1.0) * (CurrTime-StartTime >= RiseTime/2) *\n",
    "    (CurrTime-StartTime < RiseTime) + 1.0 * (CurrTime-StartTime >= RiseTime))\n",
    "\n",
    "    return (Amp * scurve) + Begin"
   ]
  },
  {
   "cell_type": "code",
   "execution_count": 26,
   "metadata": {
    "collapsed": false
   },
   "outputs": [],
   "source": [
    "for j in range(2):\n",
    "    if j == 0:\n",
    "        x, z, e, theta, beta = sympy.symbols('x z e theta beta')\n",
    "        # Orient the Beta frame\n",
    "        B = A.orientnew('B', 'Axis', [beta, A.y])\n",
    "        C = A.orientnew('C', 'Axis', [theta, A.y])\n",
    "        B.set_ang_vel(A, beta_dot * A.y)\n",
    "        C.set_ang_vel(A, theta_dot * A.y)\n",
    "    else:\n",
    "        x, z, e, theta, beta = me.dynamicsymbols('x z e theta beta')\n",
    "        # Orient the Beta frame\n",
    "        B = A.orientnew('B', 'Axis', [beta, A.y])\n",
    "        C = A.orientnew('C', 'Axis', [theta, A.y])\n",
    "        B.set_ang_vel(A, beta_dot * A.y)\n",
    "        C.set_ang_vel(A, theta_dot * A.y)\n",
    "    # Create the origin points point\n",
    "    A1 = me.Point('A1')\n",
    "    A2 = me.Point('A2')\n",
    "\n",
    "    # Set the origin points positions\n",
    "    A1.set_pos(A1, 0)\n",
    "    A2.set_pos(A1, H * A.x)\n",
    "\n",
    "    # Create the plate center of Gravity\n",
    "    G = me.Point('G')\n",
    "    Gr = me.Point('Gr')\n",
    "\n",
    "    # Set the COG position\n",
    "    G.set_pos(A1, x*A.x + z*A.z)\n",
    "    Gr.set_pos(G, e * C.z)\n",
    "\n",
    "    # Create the attachment points\n",
    "    B1 = me.Point('B1')\n",
    "    B2 = me.Point('B2')\n",
    "\n",
    "    # # Set the attachment points positions\n",
    "    B1.set_pos(G, -a/2 * B.x - b/2 * B.z)\n",
    "    B2.set_pos(G, a/2 * B.x - b/2 * B.z)\n",
    "\n",
    "    # Create Rod top and Bottom points\n",
    "    C1 = me.Point('C1')\n",
    "    C2 = me.Point('C2')\n",
    "    C1.set_pos(Gr, -D/2 * C.z)\n",
    "    C2.set_pos(Gr, D/2 * C.z)\n",
    "\n",
    "    # Create the position vectors\n",
    "    a2 = A2.pos_from(A1)\n",
    "    a2_x = a2 & A.x\n",
    "    a2_z = a2 & A.z\n",
    "\n",
    "    r1 = B1.pos_from(G)\n",
    "    r1_x = r1 & A.x\n",
    "    r1_z = r1 & A.z\n",
    "\n",
    "    r2 = B2.pos_from(G)\n",
    "    r2_x = r2 & A.x\n",
    "    r2_z = r2 & A.z\n",
    "\n",
    "    r21 = B2.pos_from(B1)\n",
    "    r21_x = r21 & A.x\n",
    "    r21_z = r21 & A.z\n",
    "\n",
    "    s1 = B1.pos_from(A1)\n",
    "    s2 = B2.pos_from(A2)\n",
    "    \n",
    "    spF1 = A1.pos_from(B1)\n",
    "    spF2 = A2.pos_from(B2)\n",
    "\n",
    "    # Calculating the Geometric lengths from the top corners of the plate\n",
    "    Length1 = s1.magnitude()\n",
    "    Length2 = s2.magnitude()\n",
    "\n",
    "    # Creating the unit vectors pointing from the origins to the top plate points\n",
    "    s1_vector = s1.normalize()\n",
    "    s2_vector = s2.normalize()\n",
    "    \n",
    "    if j == 0:\n",
    "        p = ((r21_x * x + a2_x * r1_x) * z - r21_z * x**2 +\n",
    "             (r1_z * r2_x - r1_x * r2_z + a2_x * r21_z - a2_z * r2_x) * x +\n",
    "             r1_x *  (a2_x * r2_z - a2_z * r2_x))\n",
    "        equation_all = p.subs({H:workspace_width, a:plate_width,\n",
    "                               b:plate_height}).evalf()\n",
    "        equation_all = equation_all.simplify()\n",
    "        lambda_str1 = lambdastr((beta), equation_all)\n",
    "        lambda_str2 = lambda_str1.replace('sin', 'np.sin')\n",
    "        lambda_str3 = lambda_str2.replace('cos', 'np.cos')\n",
    "        lambda_str4 = lambda_str3.replace('x', 'x_temp')\n",
    "        lambda_str = lambda_str4.replace('z', 'z_temp')\n",
    "        func1 = eval(lambda_str)"
   ]
  },
  {
   "cell_type": "code",
   "execution_count": null,
   "metadata": {
    "collapsed": false
   },
   "outputs": [],
   "source": []
  },
  {
   "cell_type": "code",
   "execution_count": 27,
   "metadata": {
    "collapsed": false
   },
   "outputs": [],
   "source": [
    "# Set velocity of origin points\n",
    "A1.set_vel(A, 0)\n",
    "A2.set_vel(A, 0)\n",
    "\n",
    "# Set velocity of COG\n",
    "G.set_vel(A, x_dot * A.x + z_dot * A.z)\n",
    "G.set_vel(B, 0)\n",
    "\n",
    "Gr.set_vel(C, e_dot * C.z)\n",
    "Gr.v1pt_theory(G, A, C)\n",
    "# Gr.v2pt_theory(G, A, C)\n",
    "\n",
    "# Set velocity of attachment points\n",
    "B1.v2pt_theory(G, A, B)\n",
    "B2.v2pt_theory(G, A, B)\n",
    "B1.set_vel(B,0)\n",
    "B2.set_vel(B,0)"
   ]
  },
  {
   "cell_type": "code",
   "execution_count": 28,
   "metadata": {
    "collapsed": false
   },
   "outputs": [],
   "source": [
    "# Set up the kinematic differential equations\n",
    "kde = [x_dot - x.diff(t),\n",
    "       z_dot - z.diff(t),\n",
    "       e_dot - e.diff(t),\n",
    "       beta_dot - beta.diff(t),\n",
    "       theta_dot - theta.diff(t)]\n",
    "\n",
    "# Create the plate inertial tensor\n",
    "I_plate = me.inertia(A, 0, Ip, 0)\n",
    "inertia_plate = (I_plate, G)\n",
    "\n",
    "# Create the rod inertial tensor\n",
    "I_rod = me.inertia(A, 0, Ir, 0)\n",
    "inertia_rod = (I_rod, Gr)\n",
    "\n",
    "# Create the Rigid Bodies\n",
    "Plate = me.RigidBody('Plate', G, B, M, inertia_plate)\n",
    "Rod = me.RigidBody('Rod', Gr, C, m, inertia_rod)"
   ]
  },
  {
   "cell_type": "code",
   "execution_count": 29,
   "metadata": {
    "collapsed": false
   },
   "outputs": [],
   "source": [
    "# These functions do not allow the springs or dampers to push\n",
    "K1 = lambda LamLenK1: cable_K * (LamLenK1 >= L1)\n",
    "K2 = lambda LamLenK2: cable_K * (LamLenK2 >= L2)\n",
    "C1 = lambda LamLenC1: cable_C * (LamLenC1 >= L1)\n",
    "C2 = lambda LamLenC2: cable_C * (LamLenC2 >= L2)"
   ]
  },
  {
   "cell_type": "code",
   "execution_count": null,
   "metadata": {
    "collapsed": true
   },
   "outputs": [],
   "source": []
  },
  {
   "cell_type": "code",
   "execution_count": null,
   "metadata": {
    "collapsed": true
   },
   "outputs": [],
   "source": []
  },
  {
   "cell_type": "code",
   "execution_count": 30,
   "metadata": {
    "collapsed": false
   },
   "outputs": [],
   "source": [
    "# Creating the forces acting on the body\n",
    "grav_force_plate = (G, M * g * A.z)\n",
    "grav_force_rod = (Gr, m * g * A.z)\n",
    "\n",
    "spring_force_B1 = (B1, s1_vector * K1(Length1) * (L1 - Length1))\n",
    "spring_force_B2 = (B2, s2_vector * K2(Length2) * (L2 - Length2))\n",
    "\n",
    "######## Push ##########\n",
    "# spring_force_B1 = (B1, s1_vector * cable_K * (L1 - Length1))\n",
    "# spring_force_B2 = (B2, s2_vector * cable_K * (L2 - Length2))\n",
    "#######################\n",
    "\n",
    "# spring_rod = (Gr, -kr * e * C.z)\n",
    "spring_rod = (Gr, -kr * (e + e_offset) * C.z)\n",
    "# spring_rod_on_plate = (G, kr * e * C.z)\n",
    "spring_rod_on_plate = (G, kr * (e + e_offset) * C.z)\n",
    "\n",
    "damper_rod = (Gr, -cr * e_dot * C.z)\n",
    "damper_rod_on_plate = (G, cr * e_dot * C.z)\n",
    "\n",
    "B1_velocity = x_dot*A.x + z_dot*A.z - b*beta_dot/2*B.x + a*beta_dot/2*B.z\n",
    "B2_velocity = x_dot*A.x + z_dot*A.z - b*beta_dot/2*B.x - a*beta_dot/2*B.z\n",
    "\n",
    "B1_damping = (-C1(Length1) * B1_velocity & s1_vector) * s1_vector\n",
    "B2_damping = (-C2(Length2) * B2_velocity & s2_vector) * s2_vector\n",
    "\n",
    "######## Push ##########\n",
    "# B1_damping = (-cable_C * B1_velocity & s1_vector) * s1_vector\n",
    "# B2_damping = (-cable_C * B2_velocity & s2_vector) * s2_vector\n",
    "#######################\n",
    "\n",
    "damp_B1 = (B1, B1_damping)\n",
    "damp_B2 = (B2, B2_damping)\n",
    "\n",
    "B_frame_damp = (B, -0.01 * beta_dot * B.y)\n",
    "C_frame_damp = (C, -0.01 * theta_dot * C.y)\n",
    "\n",
    "C_frame_spring = (C, 20 * (beta - theta) * C.y)\n",
    "C_frame_spring_on_B = (B, 20 * (theta - beta) * B.y)\n",
    "\n",
    "# Not sure if damping on the cables is necessary\n",
    "loads = [grav_force_plate,\n",
    "         grav_force_rod,\n",
    "         spring_force_B1,\n",
    "         spring_force_B2,\n",
    "         spring_rod,\n",
    "         spring_rod_on_plate,\n",
    "         damper_rod,\n",
    "         damper_rod_on_plate,\n",
    "         damp_B1,\n",
    "         damp_B2,\n",
    "         B_frame_damp,\n",
    "         C_frame_damp,\n",
    "         C_frame_spring,\n",
    "         C_frame_spring_on_B]"
   ]
  },
  {
   "cell_type": "code",
   "execution_count": 31,
   "metadata": {
    "collapsed": false
   },
   "outputs": [],
   "source": [
    "# Setting up the coordinates, speeds, and creating KanesMethod\n",
    "coordinates = [x, z, e, beta, theta]\n",
    "speeds = [x_dot, z_dot, e_dot, beta_dot, theta_dot]\n",
    "kane = me.KanesMethod(A, coordinates, speeds, kde)\n",
    "\n",
    "# Creating Fr and Fr_star\n",
    "fr, frstar = kane.kanes_equations(loads, [Plate, Rod])\n",
    "\n",
    "# Creating the PyDy System\n",
    "sys = System(kane)"
   ]
  },
  {
   "cell_type": "code",
   "execution_count": null,
   "metadata": {
    "collapsed": false
   },
   "outputs": [],
   "source": []
  },
  {
   "cell_type": "code",
   "execution_count": 32,
   "metadata": {
    "collapsed": false
   },
   "outputs": [],
   "source": [
    "## Initial Conditions\n",
    "# If init_L1 and L2 are 0 they will be solved for\n",
    "# If e_init is 0 it's equilibrium will be solved for\n",
    "# You can put init_x = middle \n",
    "init_x = middle - middle/2\n",
    "end_x = middle + middle/2\n",
    "\n",
    "init_z = 1.5\n",
    "end_z = 1.5\n",
    "\n",
    "init_L1 = 0\n",
    "end_L1 = 0\n",
    "\n",
    "init_L2 = 0\n",
    "end_L2 = 0\n",
    "\n",
    "e_init = 0\n",
    "\n",
    "init_beta = 0\n",
    "end_beta = 0\n",
    "\n",
    "init_theta = 0\n",
    "end_theta = 0\n",
    "\n",
    "risetime = 1\n",
    "startime = 5"
   ]
  },
  {
   "cell_type": "code",
   "execution_count": 33,
   "metadata": {
    "collapsed": false
   },
   "outputs": [
    {
     "name": "stdout",
     "output_type": "stream",
     "text": [
      "Initial Beta: -8.588220815235116\n",
      "Final Beta:    8.588220815235127\n"
     ]
    }
   ],
   "source": [
    "# Linkage Geometry\n",
    "z_temp = init_z\n",
    "x_temp = init_x\n",
    "tau_initial_guess = 0.000008\n",
    "if init_x == middle:\n",
    "    init_beta = 0\n",
    "else:\n",
    "    tau_solution = fsolve(func1, tau_initial_guess)\n",
    "    init_beta = (tau_solution)[0]\n",
    "\n",
    "z_temp = end_z\n",
    "x_temp = end_x\n",
    "if end_x == middle:\n",
    "    end_beta = 0\n",
    "else:\n",
    "    tau_solution = fsolve(func1, tau_initial_guess)\n",
    "    end_beta = (tau_solution)[0]\n",
    "if init_theta == 0:\n",
    "    init_theta = init_beta\n",
    "print(\"Initial Beta: {}\\nFinal Beta:    {}\".format(np.rad2deg(init_beta),\n",
    "                                                np.rad2deg(end_beta)))"
   ]
  },
  {
   "cell_type": "code",
   "execution_count": null,
   "metadata": {
    "collapsed": false
   },
   "outputs": [],
   "source": []
  },
  {
   "cell_type": "code",
   "execution_count": 34,
   "metadata": {
    "collapsed": false
   },
   "outputs": [
    {
     "name": "stdout",
     "output_type": "stream",
     "text": [
      "These are the geometric lengths\n",
      "----------------        \n",
      "Initial Length 1: 2.71460909390008\n",
      "Initial Length 2: 7.65743678517572\n",
      "End Length 1:     7.65743678517572       \n",
      "End Length 2:     2.71460909390008\n",
      "e:                0.001962\n"
     ]
    }
   ],
   "source": [
    "# Getting the geometric lengths for testing\n",
    "Len1_init = Length1.subs({x:init_x,\n",
    "                     z:init_z,\n",
    "                     H:workspace_width,\n",
    "                     a:plate_width,\n",
    "                     b:plate_height, \n",
    "                     beta:init_beta})\n",
    "Len2_init = Length2.subs({x:init_x,\n",
    "                     z:init_z,\n",
    "                     H:workspace_width,\n",
    "                     a:plate_width,\n",
    "                     b:plate_height, \n",
    "                     beta:init_beta})\n",
    "\n",
    "Len1_end = Length1.subs({x:end_x,\n",
    "                     z:end_z,\n",
    "                     H:workspace_width,\n",
    "                     a:plate_width,\n",
    "                     b:plate_height, \n",
    "                     beta:end_beta})\n",
    "Len2_end = Length2.subs({x:end_x,\n",
    "                     z:end_z,\n",
    "                     H:workspace_width,\n",
    "                     a:plate_width,\n",
    "                     b:plate_height, \n",
    "                     beta:end_beta})\n",
    "\n",
    "if init_L1 == 0:\n",
    "    init_L1 = Len1_init\n",
    "if init_L2 == 0:\n",
    "    init_L2 = Len2_init\n",
    "if end_L1 == 0:\n",
    "    end_L1 = Len1_end\n",
    "if end_L2 == 0:\n",
    "    end_L2 = Len2_end\n",
    "if e_init == 0:\n",
    "    e_init = ((9.81 * mass_of_rod) / rod_k) - e_offset\n",
    "print('These are the geometric lengths\\n----------------\\\n",
    "        \\nInitial Length 1: {}\\nInitial Length 2: {}\\nEnd Length 1:     {} \\\n",
    "      \\nEnd Length 2:     {}\\ne:                {}'.format(init_L1,init_L2,\n",
    "                                                           end_L1, end_L2,\n",
    "                                                           e_init))"
   ]
  },
  {
   "cell_type": "code",
   "execution_count": 35,
   "metadata": {
    "collapsed": false
   },
   "outputs": [],
   "source": [
    "def Lengths_solver(init_x, init_z, init_beta , end_x, end_z, end_beta):\n",
    "    fake_length1, fake_length2 = sympy.symbols('fake_length1 fake_length2')\n",
    "    Fsp1 = cable_K*(Len1_init - fake_length1)*spF1\n",
    "    Fsp2 = cable_K*(Len2_init - fake_length2)*spF2\n",
    "\n",
    "    Fsp1_x = Fsp1 & A.x\n",
    "    Fsp1_z = Fsp1 & A.z\n",
    "\n",
    "    Fsp2_x = Fsp2 & A.x\n",
    "    Fsp2_z = Fsp2 & A.z\n",
    "\n",
    "    X_side = Fsp1_x + Fsp2_x\n",
    "    Z_side = Fsp1_z + Fsp2_z + ((mass_of_plate + mass_of_rod) * 9.81)\n",
    "\n",
    "    X_init = X_side.subs({x:init_x,\n",
    "                     z:init_z,\n",
    "                     H:workspace_width,\n",
    "                     a:plate_width,\n",
    "                     b:plate_height, \n",
    "                     beta:init_beta})\n",
    "\n",
    "    Z_init = Z_side.subs({x:init_x,\n",
    "                     z:init_z,\n",
    "                     H:workspace_width,\n",
    "                     a:plate_width,\n",
    "                     b:plate_height, \n",
    "                     beta:init_beta})\n",
    "\n",
    "    Fsp1 = cable_K*(Len1_end - fake_length1)*spF1\n",
    "    Fsp2 = cable_K*(Len2_end - fake_length2)*spF2\n",
    "\n",
    "    Fsp1_x = Fsp1 & A.x\n",
    "    Fsp1_z = Fsp1 & A.z\n",
    "\n",
    "    Fsp2_x = Fsp2 & A.x\n",
    "    Fsp2_z = Fsp2 & A.z\n",
    "\n",
    "    X_side = Fsp1_x + Fsp2_x\n",
    "    Z_side = Fsp1_z + Fsp2_z + ((mass_of_plate + mass_of_rod) * 9.81)\n",
    "\n",
    "    X_end = X_side.subs({x:end_x,\n",
    "                     z:end_z,\n",
    "                     H:workspace_width,\n",
    "                     a:plate_width,\n",
    "                     b:plate_height, \n",
    "                     beta:end_beta})\n",
    "\n",
    "    Z_end = Z_side.subs({x:end_x,\n",
    "                     z:end_z,\n",
    "                     H:workspace_width,\n",
    "                     a:plate_width,\n",
    "                     b:plate_height, \n",
    "                     beta:end_beta})\n",
    "    Equ_init = [X_init, Z_init]\n",
    "    temp_init= sympy.linsolve(Equ_init,fake_length1,fake_length2)\n",
    "    subtract_L1_init, subtract_L2_init = next(iter(temp_init))\n",
    "\n",
    "    Equ_end = [X_end,Z_end]\n",
    "    temp_end = sympy.linsolve(Equ_end,fake_length1,fake_length2)\n",
    "    subtract_L1_end, subtract_L2_end = next(iter(temp_end))\n",
    "\n",
    "    delta_init_L1 = init_L1 - subtract_L1_init\n",
    "    delta_init_L2 = init_L2 - subtract_L2_init\n",
    "    delta_end_L1  = end_L1 - subtract_L1_end\n",
    "    delta_end_L2  = end_L2 - subtract_L2_end\n",
    "\n",
    "    actual_init_L1 = subtract_L1_init - delta_init_L1\n",
    "    actual_init_L2 = subtract_L2_init - delta_init_L2\n",
    "    actual_end_L1 = subtract_L1_end - delta_end_L1\n",
    "    actual_end_L2 = subtract_L2_end - delta_end_L2\n",
    "\n",
    "    print('These are the actual lengths\\n----------------\\\n",
    "            \\nInitial Length 1: {}\\nInitial Length 2: {}\\nEnd Length 1:     {} \\\n",
    "          \\nEnd Length 2:     {}'.format(actual_init_L1,\n",
    "                                         actual_init_L2,\n",
    "                                         actual_end_L1,\n",
    "                                         actual_end_L2))\n",
    "    return actual_init_L1, actual_init_L2, actual_end_L1, actual_end_L2"
   ]
  },
  {
   "cell_type": "code",
   "execution_count": 36,
   "metadata": {
    "collapsed": false
   },
   "outputs": [
    {
     "name": "stdout",
     "output_type": "stream",
     "text": [
      "These are the actual lengths\n",
      "----------------            \n",
      "Initial Length 1: 2.70117430519423\n",
      "Initial Length 2: 7.65319924979502\n",
      "End Length 1:     7.65319924979502           \n",
      "End Length 2:     2.70117430519423\n"
     ]
    }
   ],
   "source": [
    "actual_init_L1,actual_init_L2,actual_end_L1,actual_end_L2 = Lengths_solver(\n",
    "    init_x, init_z, init_beta, end_x, end_z, end_beta)"
   ]
  },
  {
   "cell_type": "code",
   "execution_count": 37,
   "metadata": {
    "collapsed": false
   },
   "outputs": [
    {
     "name": "stdout",
     "output_type": "stream",
     "text": [
      "These are the actual lengths\n",
      "----------------            \n",
      "Initial Length 1: 2.70588909390008\n",
      "Initial Length 2: 7.64871678517571\n",
      "End Length 1:     7.64871678517571           \n",
      "End Length 2:     2.70588909390008\n"
     ]
    }
   ],
   "source": [
    "actual_init_L1,actual_init_L2,actual_end_L1,actual_end_L2 = Lengths_solver(\n",
    "    middle, 1.5, 0,middle, 1.5, 0)"
   ]
  },
  {
   "cell_type": "code",
   "execution_count": 38,
   "metadata": {
    "collapsed": false
   },
   "outputs": [],
   "source": [
    "fake_length1, fake_length2 = sympy.symbols('fake_length1 fake_length2')\n",
    "\n",
    "single_Len1_init = Length1.subs({\n",
    "                     H:workspace_width,\n",
    "                     a:plate_width,\n",
    "                     b:plate_height})\n",
    "single_Len2_init = Length2.subs({\n",
    "                     H:workspace_width,\n",
    "                     a:plate_width,\n",
    "                     b:plate_height})\n",
    "\n",
    "single_Fsp1 = cable_K*(single_Len1_init - fake_length1)*spF1\n",
    "single_Fsp2 = cable_K*(single_Len2_init - fake_length2)*spF2\n",
    "\n",
    "single_Fsp1_x = single_Fsp1 & A.x\n",
    "single_Fsp1_z = single_Fsp1 & A.z\n",
    "\n",
    "single_Fsp2_x = single_Fsp2 & A.x\n",
    "single_Fsp2_z = single_Fsp2 & A.z\n",
    "\n",
    "single_X_side = single_Fsp1_x + single_Fsp2_x\n",
    "single_Z_side = single_Fsp1_z + single_Fsp2_z + ((mass_of_plate + mass_of_rod) * 9.81)"
   ]
  },
  {
   "cell_type": "code",
   "execution_count": null,
   "metadata": {
    "collapsed": false
   },
   "outputs": [],
   "source": []
  },
  {
   "cell_type": "code",
   "execution_count": null,
   "metadata": {
    "collapsed": false
   },
   "outputs": [],
   "source": []
  },
  {
   "cell_type": "code",
   "execution_count": 39,
   "metadata": {
    "collapsed": false
   },
   "outputs": [],
   "source": [
    "def single_Length_solver(xs, zs, betas):\n",
    "#     fake_length1, fake_length2 = sympy.symbols('fake_length1 fake_length2')\n",
    "\n",
    "    Len1_init = Length1.subs({x:xs,\n",
    "                         z:zs,\n",
    "                         H:workspace_width,\n",
    "                         a:plate_width,\n",
    "                         b:plate_height, \n",
    "                         beta:betas})\n",
    "    Len2_init = Length2.subs({x:xs,\n",
    "                         z:zs,\n",
    "                         H:workspace_width,\n",
    "                         a:plate_width,\n",
    "                         b:plate_height, \n",
    "                         beta:betas})\n",
    "\n",
    "#     Fsp1 = cable_K*(Len1_init - fake_length1)*spF1\n",
    "#     Fsp2 = cable_K*(Len2_init - fake_length2)*spF2\n",
    "\n",
    "#     Fsp1_x = Fsp1 & A.x\n",
    "#     Fsp1_z = Fsp1 & A.z\n",
    "\n",
    "#     Fsp2_x = Fsp2 & A.x\n",
    "#     Fsp2_z = Fsp2 & A.z\n",
    "\n",
    "#     X_side = Fsp1_x + Fsp2_x\n",
    "#     Z_side = Fsp1_z + Fsp2_z + ((mass_of_plate + mass_of_rod) * 9.81)\n",
    "\n",
    "    X_init = single_X_side.subs({x:xs,\n",
    "                     z:zs,\n",
    "                     H:workspace_width,\n",
    "                     a:plate_width,\n",
    "                     b:plate_height, \n",
    "                     beta:betas})\n",
    "\n",
    "    Z_init = single_Z_side.subs({x:xs,\n",
    "                     z:zs,\n",
    "                     H:workspace_width,\n",
    "                     a:plate_width,\n",
    "                     b:plate_height, \n",
    "                     beta:betas})\n",
    "\n",
    "#     Sympy way\n",
    "    Equ_init = [X_init, Z_init]\n",
    "    temp_init= sympy.linsolve(Equ_init,fake_length1,fake_length2)\n",
    "    subtract_L1_init, subtract_L2_init = next(iter(temp_init))\n",
    "    delta_init_L1 = Len1_init - subtract_L1_init\n",
    "    delta_init_L2 = Len2_init - subtract_L2_init\n",
    "\n",
    "    actual_init_L1 = subtract_L1_init - delta_init_L1\n",
    "    actual_init_L2 = subtract_L2_init - delta_init_L2\n",
    "    \n",
    "#     Numpy Way\n",
    "#     x1 = float(X_init.coeff(fake_length1))\n",
    "#     x2 = float(X_init.coeff(fake_length2))\n",
    "#     z1 = float(Z_init.coeff(fake_length1))\n",
    "#     z2 = float(Z_init.coeff(fake_length2))\n",
    "    \n",
    "#     a1 = np.array([[x1, x2],\n",
    "#                    [z1, z2]])\n",
    "#     b01 = float(X_init.as_coeff_Add()[0])\n",
    "#     b02 = float(Z_init.as_coeff_Add()[0])\n",
    "#     b1 = np.array([-b01, -b02])\n",
    "    \n",
    "#     subtract_L1_init, subtract_L2_init = np.linalg.solve(a1, b1)\n",
    "\n",
    "#     delta_init_L1 = float(Len1_init) - subtract_L1_init\n",
    "#     delta_init_L2 = float(Len2_init) - subtract_L2_init\n",
    "\n",
    "#     actual_init_L1 = subtract_L1_init - delta_init_L1\n",
    "#     actual_init_L2 = subtract_L2_init - delta_init_L2\n",
    "\n",
    "    return actual_init_L1, actual_init_L2"
   ]
  },
  {
   "cell_type": "code",
   "execution_count": null,
   "metadata": {
    "collapsed": false
   },
   "outputs": [],
   "source": []
  },
  {
   "cell_type": "code",
   "execution_count": null,
   "metadata": {
    "collapsed": false
   },
   "outputs": [],
   "source": []
  },
  {
   "cell_type": "code",
   "execution_count": 40,
   "metadata": {
    "collapsed": false
   },
   "outputs": [
    {
     "ename": "NameError",
     "evalue": "name 'straight_beta' is not defined",
     "output_type": "error",
     "traceback": [
      "\u001b[0;31m---------------------------------------------------------------------------\u001b[0m",
      "\u001b[0;31mNameError\u001b[0m                                 Traceback (most recent call last)",
      "\u001b[0;32m<ipython-input-40-b2d62370ad03>\u001b[0m in \u001b[0;36m<module>\u001b[0;34m()\u001b[0m\n\u001b[0;32m----> 1\u001b[0;31m \u001b[0mplt\u001b[0m\u001b[0;34m.\u001b[0m\u001b[0mplot\u001b[0m\u001b[0;34m(\u001b[0m\u001b[0mnp\u001b[0m\u001b[0;34m.\u001b[0m\u001b[0mrad2deg\u001b[0m\u001b[0;34m(\u001b[0m\u001b[0mstraight_beta\u001b[0m\u001b[0;34m)\u001b[0m\u001b[0;34m)\u001b[0m\u001b[0;34m\u001b[0m\u001b[0m\n\u001b[0m",
      "\u001b[0;31mNameError\u001b[0m: name 'straight_beta' is not defined"
     ]
    }
   ],
   "source": [
    "plt.plot(np.rad2deg(straight_beta))"
   ]
  },
  {
   "cell_type": "code",
   "execution_count": 41,
   "metadata": {
    "collapsed": false
   },
   "outputs": [],
   "source": [
    "example_shaper = shaping.EI(0.34, 0.101)\n",
    "# example_shaper = shaping.ZV_EI_2mode(0.25946057132, \n",
    "                        #0.00869237035333, 0.47558317356, 0.203271432775)\n",
    "# example_shaper = shaping.ZVD(0.32, 0.032272678421545214)\n",
    "# example_shaper = shaping.ZV_EI_2mode(.466053, 0.032272, .466053, 0.032272)\n",
    "# example_shaper = shaping.UMZVD(.46605358040201028, 0.032272678421545214)\n",
    "# example_shaper = shaping.ZVD_2mode(0.40160804, 0.07159188, 0.047746, 0.0)\n",
    "Shaper = example_shaper.shaper"
   ]
  },
  {
   "cell_type": "code",
   "execution_count": 50,
   "metadata": {
    "collapsed": false
   },
   "outputs": [],
   "source": [
    "time = np.linspace(0.0, runtime, runtime * 30)\n",
    "straight_x = s_curve(time, init_x, end_x, risetime, startime)\n",
    "straight_z = s_curve(time, init_z, end_z, risetime, startime)\n",
    "\n",
    "straight_x = shaping.shaped_input(s_curve, time, Shaper, init_x, end_x, risetime, startime)\n",
    "straight_z = shaping.shaped_input(s_curve, time, Shaper, init_z, end_z, risetime, startime)\n",
    "\n",
    "straight_beta = np.empty((0, runtime * 30))\n",
    "for i in range (runtime * 30):\n",
    "    z_temp = straight_z[i]\n",
    "    x_temp = straight_x[i]\n",
    "    tau_initial_guess = 2\n",
    "    tau_solution = fsolve(func1, tau_initial_guess)\n",
    "    result = (tau_solution)[0]\n",
    "    straight_beta = np.append(straight_beta, result)"
   ]
  },
  {
   "cell_type": "code",
   "execution_count": 80,
   "metadata": {
    "collapsed": false,
    "scrolled": true
   },
   "outputs": [],
   "source": [
    "straight_L1 = np.empty((0, runtime * 30))\n",
    "straight_L2 = np.empty((0, runtime * 30))\n",
    "for i in range (runtime * 30):\n",
    "    sL1, sL2 = single_Length_solver(straight_x[i], straight_z[i], straight_beta[i])\n",
    "    straight_L1 = np.append(straight_L1, sL1)\n",
    "    straight_L2 = np.append(straight_L2, sL2)"
   ]
  },
  {
   "cell_type": "code",
   "execution_count": null,
   "metadata": {
    "collapsed": false
   },
   "outputs": [],
   "source": [
    "straight_L1_f64 = straight_L1.astype('float64')\n",
    "straight_L2_f64 = straight_L2.astype('float64')"
   ]
  },
  {
   "cell_type": "code",
   "execution_count": null,
   "metadata": {
    "collapsed": false
   },
   "outputs": [],
   "source": [
    "from scipy.optimize import curve_fit\n",
    "def richard1(tq,C,Q,Bq,v,Mq):\n",
    "    K = straight_L1_f64[-1]\n",
    "    Aq = straight_L1_f64[0]\n",
    "    w = Aq + ((K - Aq) / ((C + Q*np.e**(-Bq*(tq - Mq)))**(1/v)))\n",
    "    return w\n",
    "\n",
    "def richard2(tq,C,Q,Bq,v,Mq):\n",
    "    K = straight_L2_f64[-1]\n",
    "    Aq = straight_L2_f64[0]\n",
    "    w = Aq + ((K - Aq) / ((C + Q*np.e**(-Bq*(tq - Mq)))**(1/v)))\n",
    "    return w\n",
    "popt1, pcov1 = curve_fit(richard1, time, straight_L1_f64,p0=[1,3.3870,7.9605,0.3,3.9646])\n",
    "popt2, pcov2 = curve_fit(richard2, time, straight_L2_f64,p0=[1,3.3870,7.9605,0.3,3.9646])\n",
    "print(popt1)\n",
    "print(popt2)\n",
    "plt.figure(figsize=(15,5))\n",
    "plt.subplot(1,2,1)\n",
    "plt.plot(time, straight_L1, label='data')\n",
    "plt.plot(time,richard1(time, *popt1), label='fit')\n",
    "plt.legend()\n",
    "plt.subplot(1,2,2)\n",
    "plt.plot(time, straight_L2, label='data')\n",
    "plt.plot(time,richard2(time, *popt2), label='fit')\n",
    "plt.legend()\n",
    "# y = richard(x, *popt)"
   ]
  },
  {
   "cell_type": "code",
   "execution_count": null,
   "metadata": {
    "collapsed": false
   },
   "outputs": [],
   "source": [
    "# L1 = 2.70588909390008\n",
    "# L2 = 7.64871678517571\n",
    "# beta = −0.149892730114\n",
    "# e = 0.001962"
   ]
  },
  {
   "cell_type": "code",
   "execution_count": null,
   "metadata": {
    "collapsed": false
   },
   "outputs": [],
   "source": [
    "np.deg2rad(-8.7)"
   ]
  },
  {
   "cell_type": "code",
   "execution_count": null,
   "metadata": {
    "collapsed": false
   },
   "outputs": [],
   "source": []
  },
  {
   "cell_type": "code",
   "execution_count": 42,
   "metadata": {
    "collapsed": false,
    "scrolled": true
   },
   "outputs": [
    {
     "data": {
      "text/plain": [
       "array([[ 0.0000,  0.3559],\n",
       "       [ 1.4922,  0.4526],\n",
       "       [ 2.9563,  0.1915]])"
      ]
     },
     "execution_count": 42,
     "metadata": {},
     "output_type": "execute_result"
    }
   ],
   "source": [
    "example_shaper = shaping.EI(0.34, 0.101)\n",
    "# example_shaper = shaping.ZV_EI_2mode(0.25946057132, \n",
    "                        #0.00869237035333, 0.47558317356, 0.203271432775)\n",
    "# example_shaper = shaping.ZVD(0.32, 0.032272678421545214)\n",
    "# example_shaper = shaping.ZV_EI_2mode(.466053, 0.032272, .466053, 0.032272)\n",
    "# example_shaper = shaping.UMZVD(.46605358040201028, 0.032272678421545214)\n",
    "# example_shaper = shaping.ZVD_2mode(0.40160804, 0.07159188, 0.047746, 0.0)\n",
    "Shaper = example_shaper.shaper\n",
    "Shaper"
   ]
  },
  {
   "cell_type": "code",
   "execution_count": 45,
   "metadata": {
    "collapsed": false
   },
   "outputs": [
    {
     "data": {
      "text/plain": [
       "<function pydy.codegen.ode_function_generators.ODEFunctionGenerator._create_rhs_function.<locals>.rhs>"
      ]
     },
     "execution_count": 45,
     "metadata": {},
     "output_type": "execute_result"
    }
   ],
   "source": [
    "# Assigning all the constants\n",
    "sys.constants = {M: mass_of_plate,\n",
    "                 m: mass_of_rod,\n",
    "                 g: 9.81,\n",
    "                 H: workspace_width,\n",
    "                 a: plate_width,\n",
    "                 b: plate_height,\n",
    "                 kr: rod_k,\n",
    "                 cr: rod_c,\n",
    "                 Ip: inertia_of_plate,\n",
    "                 Ir: inertia_of_rod,\n",
    "#                  L1: 5.13078941294612,\n",
    "#                  L2: 5.13078941294612\n",
    "                 }\n",
    "sys.initial_conditions = {x:init_x,\n",
    "#                           z:init_z,\n",
    "                          z:1.524,\n",
    "                          beta:-0.151843644924,\n",
    "                          e:e_init, \n",
    "                          theta:-0.151843644924}\n",
    "# sys.specifieds = {L1: lambda x, t:s_curve(t, actual_init_L1, 4.9158, 3, 1),\n",
    "#                   L2: lambda x, t:s_curve(t, actual_init_L2, 4.9158, 3, 1)}\n",
    "\n",
    "# sys.specifieds = {L1: lambda x, t:s_curve(t, actual_init_L1, actual_init_L1, 3, 1),\n",
    "#                   L2: lambda x, t:s_curve(t, actual_init_L2, actual_init_L2, 3, 1)}\n",
    "# sys.specifieds = {L1: lambda x, t:straight_L1[x],\n",
    "#                   L2: lambda x, t:straight_L2[x]}\n",
    "sys.specifieds = {L1: lambda x, t:shaping.shaped_input(s_curve, t, Shaper, \n",
    "                                    actual_init_L1, 4.9158, 3, 1),\n",
    "                  L2: lambda x, t:shaping.shaped_input(s_curve, t, Shaper,\n",
    "                                    actual_init_L2, 4.9158, 3, 1)}\n",
    "# sys.specifieds = {L1: lambda x, t:richard1(t, *popt1),\n",
    "#                   L2: lambda x, t:richard2(t, *popt2)}\n",
    "sys.times = np.linspace(0.0, runtime, runtime * 30)\n",
    "sys.generate_ode_function(generator='cython')"
   ]
  },
  {
   "cell_type": "code",
   "execution_count": 46,
   "metadata": {
    "collapsed": false
   },
   "outputs": [],
   "source": [
    "shaped_resp = sys.integrate()"
   ]
  },
  {
   "cell_type": "code",
   "execution_count": null,
   "metadata": {
    "collapsed": false
   },
   "outputs": [],
   "source": []
  },
  {
   "cell_type": "code",
   "execution_count": null,
   "metadata": {
    "collapsed": false,
    "scrolled": false
   },
   "outputs": [],
   "source": [
    "mpl.rcParams['savefig.dpi'] = 72\n",
    "plt.figure(num=1, figsize=(20,10))\n",
    "ax = plt.gca()\n",
    "ax.set_aspect('equal')\n",
    "plt.subplot(231)\n",
    "plt.plot(resp[:,0], resp[:,1])\n",
    "plt.title('Front Facing Response', fontsize=23)\n",
    "plt.gca().invert_yaxis()\n",
    "plt.subplot(232)\n",
    "plt.plot(sys.times, resp[:,1])\n",
    "plt.title('Z Response', fontsize=23)\n",
    "plt.gca().invert_yaxis()\n",
    "plt.subplot(233)\n",
    "plt.plot(sys.times, resp[:,2])\n",
    "plt.title(r'e Response', fontsize=23)\n",
    "plt.subplot(234)\n",
    "plt.plot(sys.times, np.rad2deg(resp[:,3]))\n",
    "plt.title(r'$\\beta$ Response', fontsize=23)\n",
    "plt.subplot(235)\n",
    "plt.plot(sys.times, np.rad2deg(resp[:,4]))\n",
    "plt.title(r'$\\theta$ Response', fontsize=23)\n",
    "plt.tight_layout()\n",
    "# plt.savefig('/Users/forrest/Desktop/nopush_shape2.pdf')"
   ]
  },
  {
   "cell_type": "code",
   "execution_count": 61,
   "metadata": {
    "collapsed": false
   },
   "outputs": [
    {
     "data": {
      "image/png": "[encoded data removed]",
      "text/plain": [
       "<matplotlib.figure.Figure at 0x114d76dd8>"
      ]
     },
     "metadata": {},
     "output_type": "display_data"
    }
   ],
   "source": [
    "# plt.plot(sys.times,np.rad2deg(resp[:,4]), label='Unshaped')\n",
    "# plt.plot(sys.times,np.rad2deg(shaped_resp[:,4]), label='0.34 Hz Shaped', linestyle = ':')\n",
    "# plt.plot(sys.times,np.rad2deg(shaped4_resp[:,4]), label='0.4 Hz Shaped', linestyle = '--')\n",
    "# plt.plot(shaped_resp[:,0],shaped_resp[:,1], label='Shaped')\n",
    "# plt.plot(resp[:,0],resp[:,1], label='Unshaped', linestyle = ':')\n",
    "plt.plot(time, s_curve(time, actual_init_L1, 4.9158, 3, 1), label=r'$L_1$', linestyle = ':')\n",
    "plt.plot(time, s_curve(time, actual_init_L2, 4.9158, 3, 1), label=r'$L_2$', linestyle = '--')\n",
    "\n",
    "plt.plot(time, shaping.shaped_input(s_curve, time, Shaper, \n",
    "                                    actual_init_L1, 4.9158, 3, 1), label=r'$L_1$ Shaped')\n",
    "plt.plot(time, shaping.shaped_input(s_curve, time, Shaper, \n",
    "                                    actual_init_L2, 4.9158, 3, 1), label=r'$L_2$ Shaped', linestyle = '-.')\n",
    "plt.ylabel('Angle (deg)')\n",
    "# plt.ylabel('Length (m)')\n",
    "plt.xlabel('Time (s)')\n",
    "# plt.gca().invert_yaxis()\n",
    "ax = plt.gca()\n",
    "ax.spines['right'].set_color('none')\n",
    "ax.spines['top'].set_color('none')\n",
    "ax.xaxis.set_ticks_position('bottom')\n",
    "ax.yaxis.set_ticks_position('left')\n",
    "plt.legend(loc='lower right')\n",
    "plt.ylim(0,8)\n",
    "plt.tight_layout()\n",
    "plt.savefig('/Users/forrest/Desktop/shpadcommmands.pdf')\n",
    "# shaped_resp"
   ]
  },
  {
   "cell_type": "code",
   "execution_count": 5,
   "metadata": {
    "collapsed": false
   },
   "outputs": [
    {
     "data": {
      "image/png": "[encoded data removed]",
      "text/plain": [
       "<matplotlib.figure.Figure at 0x1139b2710>"
      ]
     },
     "metadata": {},
     "output_type": "display_data"
    }
   ],
   "source": [
    "import matplotlib.pyplot as plt\n",
    "import numpy as np\n",
    "plt.scatter([5.2,6.49,6.45,4.52],[2.44,2.6,3.81,3.41], s=100)\n",
    "plt.ylabel('Vertical Displacement (m)')\n",
    "plt.xlabel('Horizontal Displacement (m)')\n",
    "# plt.gca().invert_yaxis()\n",
    "ax = plt.gca()\n",
    "ax.spines['right'].set_color('none')\n",
    "ax.spines['top'].set_color('none')\n",
    "ax.xaxis.set_ticks_position('bottom')\n",
    "ax.yaxis.set_ticks_position('left')\n",
    "ax.annotate('Position 1',\n",
    "            xy=(5.1,2.5), size=15)\n",
    "ax.annotate('Position 2',\n",
    "            xy=(6.4,2.7), size=15)\n",
    "ax.annotate('Position 3',\n",
    "            xy=(6.4,3.9), size=15)\n",
    "ax.annotate('Position 4',\n",
    "            xy=(4.5,3.6), size=15)\n",
    "# plt.legend(loc='lower right')\n",
    "plt.ylim(2,4.5)\n",
    "plt.xlim(6.9,3.5)\n",
    "plt.tight_layout()\n",
    "plt.savefig('/Users/forrest/Desktop/points.pdf')"
   ]
  },
  {
   "cell_type": "code",
   "execution_count": null,
   "metadata": {
    "collapsed": false
   },
   "outputs": [],
   "source": [
    "# This is so you dont rewrite over an animation\n",
    "import string\n",
    "import random\n",
    "def id_generator(size=6, chars=string.ascii_uppercase + string.digits):\n",
    "    return ''.join(random.choice(chars) for _ in range(size))\n",
    "\n",
    "# Directory of Animation\n",
    "file_directory = '/Users/forrest/Desktop/'"
   ]
  },
  {
   "cell_type": "code",
   "execution_count": null,
   "metadata": {
    "collapsed": false
   },
   "outputs": [],
   "source": [
    "np.where(s_curve(time, actual_init_L1, 4.9158, 3, 1) < 4.9158)\n",
    "time[119]\n",
    "# unshaped command done at 3.97328881469 at 119 time and command 1.45668176063\n",
    "# shaped 0.34 command done at 6.9449081803 at 208 time 0.589831711669 40.5% residual\n",
    "# shaped 0.4 command done at 6.51085141903 at 195 time 0.00502924639046 0.34 % residual\n",
    "np.where(shaping.shaped_input(s_curve, time, Shaper, \n",
    "                                    actual_init_L1, 4.9158, 3, 1) < 4.9158)\n",
    "# shaped4_resp[:,4][195:]"
   ]
  },
  {
   "cell_type": "code",
   "execution_count": null,
   "metadata": {
    "collapsed": false
   },
   "outputs": [],
   "source": [
    "(((1.45668176063-0.00502924639046)/1.45668176063)*100)"
   ]
  },
  {
   "cell_type": "code",
   "execution_count": null,
   "metadata": {
    "collapsed": false
   },
   "outputs": [],
   "source": []
  },
  {
   "cell_type": "code",
   "execution_count": null,
   "metadata": {
    "collapsed": false
   },
   "outputs": [],
   "source": [
    "import numpy as np\n",
    "x_resp = resp[:,0]\n",
    "z_resp = resp[:,1]\n",
    "e_resp = resp[:,2]\n",
    "beta_resp = resp[:,3]\n",
    "theta_resp = resp[:,4]\n",
    "\n",
    "D = rod_length\n",
    "\n",
    "# For the cables\n",
    "left_point_x = (x_resp - (plate_width/2) * np.cos(beta_resp) -\n",
    "                        (plate_height/2) * np.sin(beta_resp))\n",
    "left_point_z = (z_resp + (plate_width/2) * np.sin(beta_resp) -\n",
    "                        (plate_height/2) * np.cos(beta_resp))\n",
    "\n",
    "right_point_x = (x_resp + (plate_width/2) * np.cos(beta_resp) -\n",
    "                         (plate_height/2) * np.sin(beta_resp))\n",
    "right_point_z = (z_resp - (plate_width/2) * np.sin(beta_resp) -\n",
    "                         (plate_height/2) * np.cos(beta_resp))\n",
    "\n",
    "\n",
    "# For the Rod\n",
    "rod_top_x = ((-D/2 + e_resp)*np.sin(theta_resp) + x_resp)\n",
    "rod_top_z = ((-D/2 + e_resp)*np.cos(theta_resp) + z_resp)\n",
    "\n",
    "rod_bottom_x = ((D/2 + e_resp)*np.sin(theta_resp) + x_resp)\n",
    "rod_bottom_z = ((D/2 + e_resp)*np.cos(theta_resp) + z_resp)\n",
    "\n",
    "import matplotlib.animation as animation\n",
    "import matplotlib.pyplot as plt\n",
    "# Change some plot properties to make the video work and look better\n",
    "import matplotlib as mpl\n",
    "import matplotlib.patches as patches\n",
    "from matplotlib.patches import Rectangle\n",
    "mpl.rcParams['savefig.dpi'] = 160\n",
    "mpl.rcParams['savefig.bbox'] = 'standard'\n",
    "fig = plt.figure(figsize=(8,4.5))\n",
    "ax = fig.add_subplot(111, aspect='equal')\n",
    "plt.ylim(workspace_width/2,-workspace_width/2)\n",
    "plt.xlim(0,workspace_width)\n",
    "plt.xlabel('Horizontal Motion', fontsize=22, weight='bold', labelpad=5)\n",
    "plt.ylabel('Vertical Motion', fontsize=22, weight='bold', labelpad=10)\n",
    "# plt.axes().set_aspect('equal')\n",
    "\n",
    "leftcable, = plt.plot([],[], linewidth=2, linestyle = '-',\n",
    "                      label='leftcable', color='b')\n",
    "rightcable, = plt.plot([],[], linewidth=2, linestyle = '-',\n",
    "                       label='rightcable', color='b')\n",
    "rodline, = plt.plot([],[], linewidth=2, linestyle = '-',\n",
    "                      label='rodline', color='r')\n",
    "patch = patches.Rectangle((0, 0), 0, 0, angle=0)\n",
    "\n",
    "# centerG, = plt.plot([],[], 'ro', label='Center of Gravity')\n",
    "# rod,    = plt.plot([],[], linewidth=6, linestyle = '-', label='rod',\n",
    "#                    color='r')\n",
    "\n",
    "def init():\n",
    "    \"\"\" Initialize the lines in the plot \"\"\"\n",
    "    leftcable.set_data([], [])\n",
    "    rightcable.set_data([], [])\n",
    "    ax.add_patch(patch)\n",
    "    rodline.set_data([], [])\n",
    "\n",
    "    return leftcable, rightcable, patch, rodline,\n",
    "\n",
    "def animate_un(i):\n",
    "    \"\"\" Update the plot for frame i \"\"\"\n",
    "    if not (i % 30): # print notice every 30th frame\n",
    "        print('Processing frame {}'.format(i))\n",
    "\n",
    "    rightcable.set_data([0, left_point_x[i]], [0, left_point_z[i]])\n",
    "    leftcable.set_data([workspace_width, right_point_x[i]], [0, right_point_z[i]])\n",
    "    patch.set_width(plate_width)\n",
    "    patch.set_height(plate_height)\n",
    "    patch.set_xy([left_point_x[i], left_point_z[i]])\n",
    "#     This is negative because the patch coordinate system defines clockwise as postitive\n",
    "    patch._angle = np.rad2deg(-beta_resp[i])\n",
    "    rodline.set_data([rod_top_x[i], rod_bottom_x[i]], [rod_top_z[i], rod_bottom_z[i]])\n",
    "\n",
    "    return leftcable, rightcable, patch, rodline,\n",
    "\n",
    "ani_un = animation.FuncAnimation(fig, animate_un, interval = 30,\n",
    "        frames = 30*runtime, blit = True, init_func = init)\n",
    "\n",
    "ani_un.save(file_directory+'CDPM_{}.mp4'.format(id_generator(4)), bitrate = 2500, fps = 30)"
   ]
  },
  {
   "cell_type": "code",
   "execution_count": null,
   "metadata": {
    "collapsed": true
   },
   "outputs": [],
   "source": []
  }
 ],
 "metadata": {
  "kernelspec": {
   "display_name": "Python 3",
   "language": "python",
   "name": "python3"
  },
  "language_info": {
   "codemirror_mode": {
    "name": "ipython",
    "version": 3
   },
   "file_extension": ".py",
   "mimetype": "text/x-python",
   "name": "python",
   "nbconvert_exporter": "python",
   "pygments_lexer": "ipython3",
   "version": "3.5.2"
  }
 },
 "nbformat": 4,
 "nbformat_minor": 0
}

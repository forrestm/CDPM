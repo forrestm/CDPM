{
 "cells": [
  {
   "cell_type": "code",
   "execution_count": 2,
   "metadata": {
    "collapsed": false
   },
   "outputs": [],
   "source": [
    "from sympy import symbols, init_printing\n",
    "import sympy\n",
    "import sympy.physics.mechanics as me\n",
    "from pydy.system import System\n",
    "import matplotlib.pyplot as plt\n",
    "from scipy.integrate import ode, odeint\n",
    "import numpy as np\n",
    "from CDPMv2_animation import animate as ani\n",
    "%matplotlib inline\n",
    "init_printing()"
   ]
  },
  {
   "cell_type": "code",
   "execution_count": 6,
   "metadata": {
    "collapsed": true
   },
   "outputs": [],
   "source": [
    "# Create the frames\n",
    "N = me.ReferenceFrame('N')\n",
    "B = me.ReferenceFrame('B')\n",
    "\n",
    "# Create the constants\n",
    "x,y,beta = me.dynamicsymbols('x y beta')\n",
    "x_dot, y_dot, beta_dot = me.dynamicsymbols('x_dot y_dot beta_dot')\n",
    "H, a, b, m, g, k, t, Izz, L1, L2 = sympy.symbols('H a b m g k t Izz L1 L2')\n",
    "\n",
    "# Orient the Beta frame\n",
    "B.orient(N, 'Axis', (beta, N.z))\n",
    "B.set_ang_vel(N, beta_dot * N.z)"
   ]
  },
  {
   "cell_type": "code",
   "execution_count": 7,
   "metadata": {
    "collapsed": true
   },
   "outputs": [],
   "source": [
    "# Create the two fixed points\n",
    "A1 = me.Point('A1')\n",
    "A2 = me.Point('A2')\n",
    "A1.set_pos(A1, 0)\n",
    "A2.set_pos(A1, H * N.x)\n",
    "\n",
    "G = me.Point('G')\n",
    "G.set_pos(A1, x * N.x + y * N.y)\n",
    "\n",
    "B1 = me.Point('B1')\n",
    "B1.set_pos(G, -a/2 * B.x - b/2 * B.y)\n",
    "B2 = me.Point('B2')\n",
    "B2.set_pos(G, a/2 * B.x - b/2 * B.y)"
   ]
  },
  {
   "cell_type": "code",
   "execution_count": 8,
   "metadata": {
    "collapsed": false
   },
   "outputs": [
    {
     "data": {
      "image/png": "[encoded data removed]",
      "text/latex": [
       "$$\\dot{x}_{dot}\\mathbf{\\hat{n}_x} + \\dot{y}_{dot}\\mathbf{\\hat{n}_y} + (- \\frac{a \\beta^{2}_{dot}}{2} + \\frac{b \\dot{\\beta}_{dot}}{2})\\mathbf{\\hat{b}_x} + (\\frac{a \\dot{\\beta}_{dot}}{2} + \\frac{b \\beta^{2}_{dot}}{2})\\mathbf{\\hat{b}_y}$$"
      ],
      "text/plain": [
       "d           \n",
       "──(x_dot(t))\n",
       "dt           n_x + d           \n",
       "──(y_dot(t))\n",
       "dt           n_y + ⎛                  d           ⎞\n",
       "⎜         2      b⋅──(β_dot(t))⎟\n",
       "⎜  a⋅β_dot (t)     dt          ⎟\n",
       "⎜- ─────────── + ──────────────⎟\n",
       "⎝       2              2       ⎠ b_x + ⎛  d                         ⎞\n",
       "⎜a⋅──(β_dot(t))          2   ⎟\n",
       "⎜  dt             b⋅β_dot (t)⎟\n",
       "⎜────────────── + ───────────⎟\n",
       "⎝      2               2     ⎠ b_y"
      ]
     },
     "execution_count": 8,
     "metadata": {},
     "output_type": "execute_result"
    }
   ],
   "source": [
    "A1.set_vel(N,0)\n",
    "A2.set_vel(N,0)\n",
    "G.set_vel(B,0)\n",
    "G.set_vel(N, x_dot * N.x + y_dot * N.y)\n",
    "B1.v2pt_theory(G,N,B)\n",
    "B2.v2pt_theory(G,N,B)\n",
    "B1.a2pt_theory(G,N,B)\n",
    "B2.a2pt_theory(G,N,B)\n",
    "# Have not set vel in B for the two attachment points"
   ]
  },
  {
   "cell_type": "code",
   "execution_count": 9,
   "metadata": {
    "collapsed": true
   },
   "outputs": [],
   "source": [
    "kde = [x_dot - x.diff(t), y_dot - y.diff(t), beta_dot - beta.diff(t)]"
   ]
  },
  {
   "cell_type": "code",
   "execution_count": 10,
   "metadata": {
    "collapsed": true
   },
   "outputs": [],
   "source": [
    "I_plate = me.inertia(N,0,0,Izz)"
   ]
  },
  {
   "cell_type": "code",
   "execution_count": 11,
   "metadata": {
    "collapsed": false
   },
   "outputs": [],
   "source": [
    "Plate = me.RigidBody('Plate', G, B, m, (I_plate, G))"
   ]
  },
  {
   "cell_type": "code",
   "execution_count": 12,
   "metadata": {
    "collapsed": true
   },
   "outputs": [],
   "source": [
    "grav_force = (G, m * 9.81 * N.y)\n",
    "\n",
    "# Calculating the Geometric lengths from the top corners of the plate\n",
    "Length1 = B1.pos_from(A1).magnitude()\n",
    "Length2 = B2.pos_from(A2).magnitude()\n",
    "\n",
    "# Creating the unit vectors pointing from the origins to the top plate points\n",
    "P1_vector = B1.pos_from(A1).normalize()\n",
    "P2_vector = B2.pos_from(A2).normalize()\n",
    "\n",
    "# The name of these variables is confusing this is simply the forces of the\n",
    "# springs directed in the correct direction\n",
    "spring_1_vector_P1 = -(B1.pos_from(A1).normalize()) * 100 * (Length1 - L1)\n",
    "spring_2_vector_P2 = -(B2.pos_from(A2).normalize()) * 100 * (Length2 - L2)\n",
    "\n",
    "# Storing the forces and respective points in tuple\n",
    "spring_1_force_P1 = (B1, spring_1_vector_P1)\n",
    "spring_2_force_P2 = (B2, spring_2_vector_P2)\n",
    "\n",
    "coordinates = [x,y,beta]\n",
    "speeds = [x_dot, y_dot, beta_dot]\n",
    "kane = me.KanesMethod(N, coordinates, speeds, kde)\n",
    "loads = [grav_force, spring_1_force_P1, spring_2_force_P2]"
   ]
  },
  {
   "cell_type": "code",
   "execution_count": 13,
   "metadata": {
    "collapsed": false
   },
   "outputs": [],
   "source": [
    "fr, frstar = kane.kanes_equations(loads, [Plate])\n",
    "sys = System(kane)\n",
    "sys.initial_conditions = {x:10, y:10, beta:0}\n",
    "sys.constants = {m:10, a:4, b:2, H:20, L1:10, L2:10, Izz:10}"
   ]
  },
  {
   "cell_type": "code",
   "execution_count": null,
   "metadata": {
    "collapsed": true
   },
   "outputs": [],
   "source": []
  }
 ],
 "metadata": {
  "kernelspec": {
   "display_name": "Python 3",
   "language": "python",
   "name": "python3"
  },
  "language_info": {
   "codemirror_mode": {
    "name": "ipython",
    "version": 3
   },
   "file_extension": ".py",
   "mimetype": "text/x-python",
   "name": "python",
   "nbconvert_exporter": "python",
   "pygments_lexer": "ipython3",
   "version": "3.5.2"
  }
 },
 "nbformat": 4,
 "nbformat_minor": 0
}

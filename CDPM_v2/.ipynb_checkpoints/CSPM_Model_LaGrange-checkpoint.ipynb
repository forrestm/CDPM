{
 "cells": [
  {
   "cell_type": "code",
   "execution_count": 1,
   "metadata": {
    "collapsed": true
   },
   "outputs": [],
   "source": [
    "from sympy import symbols, init_printing\n",
    "import sympy\n",
    "import sympy.physics.mechanics as me\n",
    "from pydy.system import System\n",
    "import matplotlib as mpl\n",
    "import matplotlib.pyplot as plt\n",
    "from scipy.integrate import ode, odeint\n",
    "from sympy.utilities.lambdify import lambdastr\n",
    "from scipy.optimize import fsolve\n",
    "import numpy as np\n",
    "%matplotlib inline\n",
    "# init_printing(False)\n",
    "init_printing(True)\n",
    "from IPython.display import set_matplotlib_formats\n",
    "set_matplotlib_formats('retina')"
   ]
  },
  {
   "cell_type": "code",
   "execution_count": 2,
   "metadata": {
    "collapsed": true
   },
   "outputs": [],
   "source": [
    "# Create the symbols\n",
    "x, z, e, theta, phi = me.dynamicsymbols('x z e theta phi')\n",
    "x_dot, z_dot, e_dot,theta_dot,phi_dot = me.dynamicsymbols('x z e theta phi',1)\n",
    "H, a, b, M, m, g, k, t = sympy.symbols('H a b M m g k_{cable} t')\n",
    "Ip, Ir, c, r, p, kr, cr, D = sympy.symbols('I_{plate} I_{rod} c r p k_{rod} c_{rod} D')\n",
    "L1, L2, k_C, e_offset = sympy.symbols('L1 L2 k_C e_offset')\n",
    "\n",
    "# Create the frames Z+ points down, and Y+ is out of the screen\n",
    "A = me.ReferenceFrame('A')\n",
    "B = A.orientnew('B', 'Axis', [theta, A.y])\n",
    "C = A.orientnew('C', 'Axis', [phi, A.y])\n",
    "\n",
    "# Create the frames angular velocity\n",
    "B.set_ang_vel(A, theta_dot * A.y)\n",
    "C.set_ang_vel(A, phi_dot * A.y)"
   ]
  },
  {
   "cell_type": "code",
   "execution_count": 3,
   "metadata": {
    "collapsed": true
   },
   "outputs": [],
   "source": [
    "# Create the origin points\n",
    "A1 = me.Point('A1')\n",
    "A2 = me.Point('A2')\n",
    "\n",
    "# Set the origin points positions\n",
    "A1.set_pos(A1, 0)\n",
    "A2.set_pos(A1, H * A.x)\n",
    "\n",
    "# Create the plate and rod center\n",
    "G = me.Point('G')\n",
    "Gr = me.Point('Gr')\n",
    "\n",
    "# Set both centers position\n",
    "G.set_pos(A1, x*A.x + z*A.z)\n",
    "Gr.set_pos(G, e * C.z)\n",
    "\n",
    "# Create the attachment points\n",
    "B1 = me.Point('B1')\n",
    "B2 = me.Point('B2')\n",
    "\n",
    "# # Set the attachment points positions\n",
    "B1.set_pos(G, -a/2 * B.x - b/2 * B.z)\n",
    "B2.set_pos(G, a/2 * B.x - b/2 * B.z)\n",
    "\n",
    "# Create Rod top and Bottom points\n",
    "C1 = me.Point('C1')\n",
    "C2 = me.Point('C2')\n",
    "C1.set_pos(Gr, -D/2 * C.z)\n",
    "C2.set_pos(Gr, D/2 * C.z)\n",
    "\n",
    "# Create the position vectors\n",
    "a2 = A2.pos_from(A1)\n",
    "a2_x = a2 & A.x\n",
    "a2_z = a2 & A.z\n",
    "\n",
    "r1 = B1.pos_from(G)\n",
    "r1_x = r1 & A.x\n",
    "r1_z = r1 & A.z\n",
    "\n",
    "r2 = B2.pos_from(G)\n",
    "r2_x = r2 & A.x\n",
    "r2_z = r2 & A.z\n",
    "\n",
    "r21 = B2.pos_from(B1)\n",
    "r21_x = r21 & A.x\n",
    "r21_z = r21 & A.z\n",
    "\n",
    "s1 = B1.pos_from(A1)\n",
    "s2 = B2.pos_from(A2)\n",
    "\n",
    "spF1 = A1.pos_from(B1)\n",
    "spF2 = A2.pos_from(B2)\n",
    "\n",
    "s_rod = Gr.pos_from(G)\n",
    "\n",
    "# Calculating the Geometric lengths from the top corners of the plate\n",
    "Length1 = s1.magnitude()\n",
    "Length2 = s2.magnitude()\n",
    "\n",
    "# Creating the unit vectors pointing from the origins to the top plate points\n",
    "s1_vector = s1.normalize()\n",
    "s2_vector = s2.normalize()\n",
    "\n",
    "# Calculate the distance from the rod center to datum\n",
    "rod_center_distance = A1.pos_from(Gr) & A.z\n",
    "plate_center_distance = A1.pos_from(G) & A.z"
   ]
  },
  {
   "cell_type": "code",
   "execution_count": 4,
   "metadata": {},
   "outputs": [],
   "source": [
    "# Set velocity of origin points\n",
    "A1.set_vel(A, 0)\n",
    "A2.set_vel(A, 0)\n",
    "\n",
    "# Set velocity of COG\n",
    "G.set_vel(A, x_dot * A.x + z_dot * A.z)\n",
    "G.set_vel(B, 0)\n",
    "\n",
    "Gr.set_vel(C, e_dot * C.z)\n",
    "Gr.v1pt_theory(G, A, C)\n",
    "\n",
    "# Set velocity of attachment points\n",
    "B1.v2pt_theory(G, A, B)\n",
    "B2.v2pt_theory(G, A, B)\n",
    "B1.set_vel(B,0)\n",
    "B2.set_vel(B,0)"
   ]
  },
  {
   "cell_type": "code",
   "execution_count": 5,
   "metadata": {
    "collapsed": true
   },
   "outputs": [],
   "source": [
    "# Create the plate inertial tensor\n",
    "I_plate = me.inertia(A, 0, Ip, 0)\n",
    "inertia_plate = (I_plate, G)\n",
    "\n",
    "# Create the rod inertial tensor\n",
    "I_rod = me.inertia(A, 0, Ir, 0)\n",
    "inertia_rod = (I_rod, Gr)\n",
    "\n",
    "# Create the Rigid Bodies\n",
    "Plate = me.RigidBody('Plate', G, B, M, inertia_plate)\n",
    "Rod = me.RigidBody('Rod', Gr, C, m, inertia_rod)"
   ]
  },
  {
   "cell_type": "code",
   "execution_count": 6,
   "metadata": {
    "collapsed": true
   },
   "outputs": [],
   "source": [
    "K1 = lambda LamLenK1: k * (LamLenK1 >= L1)\n",
    "K2 = lambda LamLenK2: k * (LamLenK2 >= L2)\n",
    "C1 = lambda LamLenC1: c * (LamLenC1 >= L1)\n",
    "C2 = lambda LamLenC2: c * (LamLenC2 >= L2)"
   ]
  },
  {
   "cell_type": "code",
   "execution_count": 7,
   "metadata": {},
   "outputs": [],
   "source": [
    "# Set the potential energies \n",
    "Rod.potential_energy = 0.5 * kr * (e + e_offset)**2 + m * g * rod_center_distance\n",
    "Plate.potential_energy = ((0.5 * K1(Length1) * Length1**2) + \n",
    "                          (0.5 * K2(Length2) * Length2**2) + \n",
    "                           m * g * plate_center_distance)\n",
    "C.potential_energy = (C, 0.5 * k_C * (theta - phi)**2)\n",
    "\n",
    "# Set the external forces\n",
    "forces = [(Gr, e_dot * cr * s_rod), \n",
    "          (B1, B1.vel(A) * C1(Length1)), \n",
    "          (B2, B2.vel(A) * C2(Length2))]"
   ]
  },
  {
   "cell_type": "code",
   "execution_count": 8,
   "metadata": {},
   "outputs": [],
   "source": [
    "L =  me.Lagrangian(A, Plate, Rod)\n",
    "LM = me.LagrangesMethod(L, [x, z, e, theta, phi], forcelist = forces, frame = A)\n",
    "EqMotion = LM.form_lagranges_equations()"
   ]
  },
  {
   "cell_type": "code",
   "execution_count": 72,
   "metadata": {},
   "outputs": [
    {
     "data": {
      "image/png": "[encoded data removed]",
      "text/latex": [
       "$$- z{\\left (t \\right )}$$"
      ],
      "text/plain": [
       "-z(t)"
      ]
     },
     "execution_count": 72,
     "metadata": {},
     "output_type": "execute_result"
    }
   ],
   "source": [
    "plate_center_distance"
   ]
  },
  {
   "cell_type": "code",
   "execution_count": 93,
   "metadata": {},
   "outputs": [
    {
     "name": "stdout",
     "output_type": "stream",
     "text": [
      "\\frac{I_{rod} \\phi_{dot}^{2}}{2} + \\frac{e^{2} m}{2} \\phi_{dot}^{2} + e m \\phi_{dot} x_{dot} \\cos{\\left (\\phi \\right )} - e m \\phi_{dot} \\sin{\\left (\\phi \\right )} \\frac{d}{d t} z + \\frac{e_{dot}^{2} m}{2} + e_{dot} m x_{dot} \\sin{\\left (\\phi \\right )} + e_{dot} m \\cos{\\left (\\phi \\right )} \\frac{d}{d t} z + \\frac{m x_{dot}^{2}}{2} + \\frac{m}{2} \\frac{d}{d t} z^{2}\n"
     ]
    }
   ],
   "source": [
    "print(sympy.latex(Rod.kinetic_energy(A).simplify().subs({theta:'theta', x:'x',z:'z',\n",
    "                                                         e_dot:'e_dot',phi_dot:'phi_dot',\n",
    "                                                         theta_dot:'theta_dot', phi:'phi',\n",
    "                                                         e:'e', x_dot:'x_dot'})))"
   ]
  },
  {
   "cell_type": "code",
   "execution_count": 97,
   "metadata": {},
   "outputs": [
    {
     "data": {
      "image/png": "[encoded data removed]",
      "text/latex": [
       "$$g m \\left(- e{\\left (t \\right )} \\cos{\\left (\\phi{\\left (t \\right )} \\right )} - z{\\left (t \\right )}\\right) + 0.5 k_{rod} \\left(e_{offset} + e{\\left (t \\right )}\\right)^{2}$$"
      ],
      "text/plain": [
       "                                                            2\n",
       "g⋅m⋅(-e(t)⋅cos(φ(t)) - z(t)) + 0.5⋅k_{rod}⋅(e_offset + e(t)) "
      ]
     },
     "execution_count": 97,
     "metadata": {},
     "output_type": "execute_result"
    }
   ],
   "source": [
    "Rod.potential_energy"
   ]
  },
  {
   "cell_type": "code",
   "execution_count": null,
   "metadata": {},
   "outputs": [],
   "source": []
  },
  {
   "cell_type": "code",
   "execution_count": null,
   "metadata": {
    "collapsed": true
   },
   "outputs": [],
   "source": []
  }
 ],
 "metadata": {
  "kernelspec": {
   "display_name": "Python 3",
   "language": "python",
   "name": "python3"
  },
  "language_info": {
   "codemirror_mode": {
    "name": "ipython",
    "version": 3
   },
   "file_extension": ".py",
   "mimetype": "text/x-python",
   "name": "python",
   "nbconvert_exporter": "python",
   "pygments_lexer": "ipython3",
   "version": "3.6.1"
  }
 },
 "nbformat": 4,
 "nbformat_minor": 1
}

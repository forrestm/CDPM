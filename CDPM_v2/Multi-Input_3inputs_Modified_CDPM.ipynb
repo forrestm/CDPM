{
 "cells": [
  {
   "cell_type": "code",
   "execution_count": 1,
   "metadata": {
    "collapsed": false
   },
   "outputs": [
    {
     "name": "stderr",
     "output_type": "stream",
     "text": [
      "//anaconda/lib/python3.5/site-packages/pandas/computation/__init__.py:19: UserWarning: The installed version of numexpr 2.4.4 is not supported in pandas and will be not be used\n",
      "\n",
      "  UserWarning)\n"
     ]
    }
   ],
   "source": [
    "from sympy import symbols, init_printing\n",
    "import sympy\n",
    "import sympy.physics.mechanics as me\n",
    "from pydy.system import System\n",
    "import matplotlib as mpl\n",
    "import matplotlib.pyplot as plt\n",
    "import numpy as np\n",
    "%matplotlib inline\n",
    "# init_printing(False)\n",
    "init_printing(True)\n",
    "from IPython.display import set_matplotlib_formats\n",
    "set_matplotlib_formats('retina')\n",
    "import itable\n",
    "import pandas as pd"
   ]
  },
  {
   "cell_type": "code",
   "execution_count": 2,
   "metadata": {
    "collapsed": false
   },
   "outputs": [],
   "source": [
    "# Manually fill in your eigenvalues and their conjugates\n",
    "s_0 = np.complex(-8.86543452, 193.12025573)\n",
    "s_1 = np.complex(-6.16048902, 23.85384142)\n",
    "s_2 = np.complex(-3.86158342, 11.80060906)\n",
    "s_3 = np.complex(-0.37627902, 2.90612422)\n",
    "s_4 = np.complex(-0.69490035, 5.64215371)\n",
    "\n",
    "s_0_star = np.conjugate(s_0)\n",
    "s_1_star = np.conjugate(s_1)\n",
    "s_2_star = np.conjugate(s_2)\n",
    "s_3_star = np.conjugate(s_3)\n",
    "s_4_star = np.conjugate(s_4)\n",
    "\n",
    "n = int(5)\n",
    "m = int(2)\n",
    "l = int(np.ceil((2*n) / (m + 1)))"
   ]
  },
  {
   "cell_type": "code",
   "execution_count": 3,
   "metadata": {
    "collapsed": true
   },
   "outputs": [],
   "source": [
    "g_0_0 = 79.3732622239622\n",
    "g_0_1 = 54.4807395251969\n",
    "g_0_2 = -33.1395721984242\n",
    "g_0_3 = -206.311330965075\n",
    "g_0_4 = 44.5043856793014\n",
    "\n",
    "g_1_0 = -93.0751361694004\n",
    "g_1_1 = 26.672179292523\n",
    "g_1_2 = -48.8796261437363\n",
    "g_1_3 = 31.3590897937735\n",
    "g_1_4 = -41.1508965795407\n",
    "\n",
    "g_2_0 = 0.0457021489715405\n",
    "g_2_1 = 0.0116751865515491\n",
    "g_2_2 = 0\n",
    "g_2_3 = 0\n",
    "g_2_4 = 0.178449497089898\n",
    "T=3"
   ]
  },
  {
   "cell_type": "code",
   "execution_count": 20,
   "metadata": {
    "collapsed": false
   },
   "outputs": [
    {
     "ename": "LinAlgError",
     "evalue": "Last 2 dimensions of the array must be square",
     "output_type": "error",
     "traceback": [
      "\u001b[0;31m---------------------------------------------------------------------------\u001b[0m",
      "\u001b[0;31mLinAlgError\u001b[0m                               Traceback (most recent call last)",
      "\u001b[0;32m<ipython-input-20-527879374fb8>\u001b[0m in \u001b[0;36m<module>\u001b[0;34m()\u001b[0m\n\u001b[1;32m     78\u001b[0m \u001b[0;31m#         [0,0,0,0,0,1,1,1,1,1,0,0,0,0,0],\u001b[0m\u001b[0;34m\u001b[0m\u001b[0;34m\u001b[0m\u001b[0m\n\u001b[1;32m     79\u001b[0m \u001b[0;31m#         [0,0,0,0,0,0,0,0,0,0,1,1,1,1,1]])\u001b[0m\u001b[0;34m\u001b[0m\u001b[0;34m\u001b[0m\u001b[0m\n\u001b[0;32m---> 80\u001b[0;31m     \u001b[0mP_inv\u001b[0m \u001b[0;34m=\u001b[0m \u001b[0mnp\u001b[0m\u001b[0;34m.\u001b[0m\u001b[0mlinalg\u001b[0m\u001b[0;34m.\u001b[0m\u001b[0minv\u001b[0m\u001b[0;34m(\u001b[0m\u001b[0mP\u001b[0m\u001b[0;34m)\u001b[0m\u001b[0;34m\u001b[0m\u001b[0m\n\u001b[0m\u001b[1;32m     81\u001b[0m \u001b[0;31m#     P_inv = np.linalg.inv(P)\u001b[0m\u001b[0;34m\u001b[0m\u001b[0;34m\u001b[0m\u001b[0m\n\u001b[1;32m     82\u001b[0m     \u001b[0mw\u001b[0m \u001b[0;34m=\u001b[0m \u001b[0mnp\u001b[0m\u001b[0;34m.\u001b[0m\u001b[0marray\u001b[0m\u001b[0;34m(\u001b[0m\u001b[0;34m[\u001b[0m\u001b[0;34m[\u001b[0m\u001b[0;36m0\u001b[0m\u001b[0;34m]\u001b[0m\u001b[0;34m,\u001b[0m\u001b[0;34m[\u001b[0m\u001b[0;36m0\u001b[0m\u001b[0;34m]\u001b[0m\u001b[0;34m,\u001b[0m\u001b[0;34m[\u001b[0m\u001b[0;36m0\u001b[0m\u001b[0;34m]\u001b[0m\u001b[0;34m,\u001b[0m\u001b[0;34m[\u001b[0m\u001b[0;36m0\u001b[0m\u001b[0;34m]\u001b[0m\u001b[0;34m,\u001b[0m\u001b[0;34m[\u001b[0m\u001b[0;36m0\u001b[0m\u001b[0;34m]\u001b[0m\u001b[0;34m,\u001b[0m\u001b[0;34m[\u001b[0m\u001b[0;36m0\u001b[0m\u001b[0;34m]\u001b[0m\u001b[0;34m,\u001b[0m\u001b[0;34m[\u001b[0m\u001b[0;36m0\u001b[0m\u001b[0;34m]\u001b[0m\u001b[0;34m,\u001b[0m\u001b[0;34m[\u001b[0m\u001b[0;36m0\u001b[0m\u001b[0;34m]\u001b[0m\u001b[0;34m,\u001b[0m\u001b[0;34m[\u001b[0m\u001b[0;36m0\u001b[0m\u001b[0;34m]\u001b[0m\u001b[0;34m,\u001b[0m\u001b[0;34m[\u001b[0m\u001b[0;36m0\u001b[0m\u001b[0;34m]\u001b[0m\u001b[0;34m]\u001b[0m\u001b[0;34m)\u001b[0m\u001b[0;34m\u001b[0m\u001b[0m\n",
      "\u001b[0;32m//anaconda/lib/python3.5/site-packages/numpy/linalg/linalg.py\u001b[0m in \u001b[0;36minv\u001b[0;34m(a)\u001b[0m\n\u001b[1;32m    515\u001b[0m     \u001b[0ma\u001b[0m\u001b[0;34m,\u001b[0m \u001b[0mwrap\u001b[0m \u001b[0;34m=\u001b[0m \u001b[0m_makearray\u001b[0m\u001b[0;34m(\u001b[0m\u001b[0ma\u001b[0m\u001b[0;34m)\u001b[0m\u001b[0;34m\u001b[0m\u001b[0m\n\u001b[1;32m    516\u001b[0m     \u001b[0m_assertRankAtLeast2\u001b[0m\u001b[0;34m(\u001b[0m\u001b[0ma\u001b[0m\u001b[0;34m)\u001b[0m\u001b[0;34m\u001b[0m\u001b[0m\n\u001b[0;32m--> 517\u001b[0;31m     \u001b[0m_assertNdSquareness\u001b[0m\u001b[0;34m(\u001b[0m\u001b[0ma\u001b[0m\u001b[0;34m)\u001b[0m\u001b[0;34m\u001b[0m\u001b[0m\n\u001b[0m\u001b[1;32m    518\u001b[0m     \u001b[0mt\u001b[0m\u001b[0;34m,\u001b[0m \u001b[0mresult_t\u001b[0m \u001b[0;34m=\u001b[0m \u001b[0m_commonType\u001b[0m\u001b[0;34m(\u001b[0m\u001b[0ma\u001b[0m\u001b[0;34m)\u001b[0m\u001b[0;34m\u001b[0m\u001b[0m\n\u001b[1;32m    519\u001b[0m \u001b[0;34m\u001b[0m\u001b[0m\n",
      "\u001b[0;32m//anaconda/lib/python3.5/site-packages/numpy/linalg/linalg.py\u001b[0m in \u001b[0;36m_assertNdSquareness\u001b[0;34m(*arrays)\u001b[0m\n\u001b[1;32m    210\u001b[0m     \u001b[0;32mfor\u001b[0m \u001b[0ma\u001b[0m \u001b[0;32min\u001b[0m \u001b[0marrays\u001b[0m\u001b[0;34m:\u001b[0m\u001b[0;34m\u001b[0m\u001b[0m\n\u001b[1;32m    211\u001b[0m         \u001b[0;32mif\u001b[0m \u001b[0mmax\u001b[0m\u001b[0;34m(\u001b[0m\u001b[0ma\u001b[0m\u001b[0;34m.\u001b[0m\u001b[0mshape\u001b[0m\u001b[0;34m[\u001b[0m\u001b[0;34m-\u001b[0m\u001b[0;36m2\u001b[0m\u001b[0;34m:\u001b[0m\u001b[0;34m]\u001b[0m\u001b[0;34m)\u001b[0m \u001b[0;34m!=\u001b[0m \u001b[0mmin\u001b[0m\u001b[0;34m(\u001b[0m\u001b[0ma\u001b[0m\u001b[0;34m.\u001b[0m\u001b[0mshape\u001b[0m\u001b[0;34m[\u001b[0m\u001b[0;34m-\u001b[0m\u001b[0;36m2\u001b[0m\u001b[0;34m:\u001b[0m\u001b[0;34m]\u001b[0m\u001b[0;34m)\u001b[0m\u001b[0;34m:\u001b[0m\u001b[0;34m\u001b[0m\u001b[0m\n\u001b[0;32m--> 212\u001b[0;31m             \u001b[0;32mraise\u001b[0m \u001b[0mLinAlgError\u001b[0m\u001b[0;34m(\u001b[0m\u001b[0;34m'Last 2 dimensions of the array must be square'\u001b[0m\u001b[0;34m)\u001b[0m\u001b[0;34m\u001b[0m\u001b[0m\n\u001b[0m\u001b[1;32m    213\u001b[0m \u001b[0;34m\u001b[0m\u001b[0m\n\u001b[1;32m    214\u001b[0m \u001b[0;32mdef\u001b[0m \u001b[0m_assertFinite\u001b[0m\u001b[0;34m(\u001b[0m\u001b[0;34m*\u001b[0m\u001b[0marrays\u001b[0m\u001b[0;34m)\u001b[0m\u001b[0;34m:\u001b[0m\u001b[0;34m\u001b[0m\u001b[0m\n",
      "\u001b[0;31mLinAlgError\u001b[0m: Last 2 dimensions of the array must be square"
     ]
    }
   ],
   "source": [
    "a_full = np.array([0,0,0,0,0,0,0,0,0,0,0,0,0,0,0])\n",
    "for i in range(10000):\n",
    "    steps = np.linspace(0,1,10000)\n",
    "    T = steps[i]\n",
    "    P = np.array([[g_0_0, g_0_0*np.exp(-s_0*T), g_0_0*np.exp(-s_0*2*T), g_0_0*np.exp(-s_0*3*T), g_0_0*np.exp(-s_0*4*T),\n",
    "\n",
    "        g_1_0, g_1_0*np.exp(-s_0*T), g_1_0*np.exp(-s_0*2*T), g_1_0*np.exp(-s_0*3*T),g_1_0*np.exp(-s_0*4*T),\n",
    "\n",
    "        g_2_0, g_2_0*np.exp(-s_0*T), g_2_0*np.exp(-s_0*2*T), g_2_0*np.exp(-s_0*3*T),g_2_0*np.exp(-s_0*4*T)],\n",
    "\n",
    "\n",
    "        [g_0_0, g_0_0*np.exp(-s_0_star*T), g_0_0*np.exp(-s_0_star*2*T), g_0_0*np.exp(-s_0_star*3*T),g_0_0*np.exp(-s_0_star*4*T),\n",
    "\n",
    "        g_1_0, g_1_0*np.exp(-s_0_star*T), g_1_0*np.exp(-s_0_star*2*T), g_1_0*np.exp(-s_0_star*3*T),g_1_0*np.exp(-s_0_star*4*T),\n",
    "\n",
    "        g_2_0, g_2_0*np.exp(-s_0_star*T), g_2_0*np.exp(-s_0_star*2*T), g_2_0*np.exp(-s_0_star*3*T),g_2_0*np.exp(-s_0_star*4*T)],\n",
    "\n",
    "\n",
    "        [g_0_1, g_0_1*np.exp(-s_1*T), g_0_1*np.exp(-s_1*2*T), g_0_1*np.exp(-s_1*3*T),g_0_1*np.exp(-s_1*4*T),\n",
    "\n",
    "        g_1_1, g_1_1*np.exp(-s_1*T), g_1_1*np.exp(-s_1*2*T), g_1_1*np.exp(-s_1*3*T),g_1_1*np.exp(-s_1*4*T),\n",
    "\n",
    "        g_2_1, g_2_1*np.exp(-s_1*T), g_2_1*np.exp(-s_1*2*T), g_2_1*np.exp(-s_1*3*T),g_2_1*np.exp(-s_1*4*T)],\n",
    "\n",
    "\n",
    "        [g_0_1, g_0_1*np.exp(-s_1_star*T), g_0_1*np.exp(-s_1_star*2*T), g_0_1*np.exp(-s_1_star*3*T),g_0_1*np.exp(-s_1_star*4*T),\n",
    "\n",
    "        g_1_1, g_1_1*np.exp(-s_1_star*T), g_1_1*np.exp(-s_1_star*2*T), g_1_1*np.exp(-s_1_star*3*T),g_1_1*np.exp(-s_1_star*4*T),\n",
    "\n",
    "        g_2_1, g_2_1*np.exp(-s_1_star*T), g_2_1*np.exp(-s_1_star*2*T), g_2_1*np.exp(-s_1_star*3*T),g_2_1*np.exp(-s_1_star*4*T)],\n",
    "\n",
    "\n",
    "        [g_0_2, g_0_2*np.exp(-s_2*T), g_0_2*np.exp(-s_2*2*T), g_0_2*np.exp(-s_2*3*T),g_0_2*np.exp(-s_2*4*T),\n",
    "\n",
    "        g_1_2, g_1_2*np.exp(-s_2*T), g_1_2*np.exp(-s_2*2*T), g_1_2*np.exp(-s_2*3*T),g_1_2*np.exp(-s_2*4*T),\n",
    "\n",
    "        g_2_2, g_2_2*np.exp(-s_2*T), g_2_2*np.exp(-s_2*2*T), g_2_2*np.exp(-s_2*3*T),g_2_2*np.exp(-s_2*4*T)],\n",
    "\n",
    "\n",
    "        [g_0_2, g_0_2*np.exp(-s_2_star*T), g_0_2*np.exp(-s_2_star*2*T), g_0_2*np.exp(-s_2_star*3*T),g_0_2*np.exp(-s_2_star*4*T),\n",
    "\n",
    "        g_1_2, g_1_2*np.exp(-s_2_star*T), g_1_2*np.exp(-s_2_star*2*T), g_1_2*np.exp(-s_2_star*3*T),g_1_2*np.exp(-s_2_star*4*T),\n",
    "\n",
    "        g_2_2, g_2_2*np.exp(-s_2_star*T), g_2_2*np.exp(-s_2_star*2*T), g_2_2*np.exp(-s_2_star*3*T),g_2_2*np.exp(-s_2_star*4*T)],\n",
    "\n",
    "\n",
    "        [g_0_3, g_0_3*np.exp(-s_3*T), g_0_3*np.exp(-s_3*2*T), g_0_3*np.exp(-s_3*3*T),g_0_3*np.exp(-s_3*4*T),\n",
    "\n",
    "        g_1_3, g_1_3*np.exp(-s_3*T), g_1_3*np.exp(-s_3*2*T), g_1_3*np.exp(-s_3*3*T),g_1_3*np.exp(-s_3*4*T),\n",
    "\n",
    "        g_2_3, g_2_3*np.exp(-s_3*T), g_2_3*np.exp(-s_3*2*T), g_2_3*np.exp(-s_3*3*T),g_2_3*np.exp(-s_3*4*T)],\n",
    "\n",
    "\n",
    "        [g_0_3, g_0_3*np.exp(-s_3_star*T), g_0_3*np.exp(-s_3_star*2*T), g_0_3*np.exp(-s_3_star*3*T),g_0_3*np.exp(-s_3_star*4*T),\n",
    "\n",
    "        g_1_3, g_1_3*np.exp(-s_3_star*T), g_1_3*np.exp(-s_3_star*2*T), g_1_3*np.exp(-s_3_star*3*T),g_1_3*np.exp(-s_3_star*4*T),\n",
    "\n",
    "        g_2_3, g_2_3*np.exp(-s_3_star*T), g_2_3*np.exp(-s_3_star*2*T), g_2_3*np.exp(-s_3_star*3*T), g_2_3*np.exp(-s_3_star*4*T)],\n",
    "\n",
    "\n",
    "        [g_0_4, g_0_4*np.exp(-s_4*T), g_0_4*np.exp(-s_4*2*T), g_0_4*np.exp(-s_4*3*T),g_0_4*np.exp(-s_4*4*T),\n",
    "\n",
    "        g_1_4, g_1_4*np.exp(-s_4*T), g_1_4*np.exp(-s_4*2*T), g_1_4*np.exp(-s_4*3*T),g_1_4*np.exp(-s_4*4*T),\n",
    "\n",
    "        g_2_4, g_2_4*np.exp(-s_4*T), g_2_4*np.exp(-s_4*2*T), g_2_4*np.exp(-s_4*3*T),g_2_4*np.exp(-s_4*4*T)],\n",
    "\n",
    "\n",
    "        [g_0_4, g_0_4*np.exp(-s_4_star*T), g_0_4*np.exp(-s_4_star*2*T), g_0_4*np.exp(-s_4_star*3*T),g_0_4*np.exp(-s_4_star*4*T),\n",
    "\n",
    "        g_1_4, g_1_4*np.exp(-s_4_star*T), g_1_4*np.exp(-s_4_star*2*T), g_1_4*np.exp(-s_4_star*3*T),g_1_4*np.exp(-s_4_star*4*T),\n",
    "\n",
    "        g_2_4, g_2_4*np.exp(-s_4_star*T), g_2_4*np.exp(-s_4_star*2*T), g_2_4*np.exp(-s_4_star*3*T),g_2_4*np.exp(-s_4_star*4*T)]])\n",
    "\n",
    "#         [1,1,1,1,1,0,0,0,0,0,0,0,0,0,0], \n",
    "#         [0,0,0,0,0,0,0,0,0,0,0,0,0,0,0],\n",
    "#         [1,1,1,1,1,0,0,0,0,0,0,0,0,0,0],\n",
    "#         [0,0,0,0,0,1,1,1,1,1,0,0,0,0,0],\n",
    "#         [0,0,0,0,0,1,1,1,1,1,0,0,0,0,0],\n",
    "#         [0,0,0,0,0,0,0,0,0,0,1,1,1,1,1]])\n",
    "    P_inv = np.linalg.inv(P)\n",
    "#     P_inv = np.linalg.inv(P)\n",
    "    w = np.array([[0],[0],[0],[0],[0],[0],[0],[0],[0],[0]])\n",
    "    a = np.dot(P_inv,w)\n",
    "    a_row = np.real(a.reshape(1,15))\n",
    "    a_full = np.vstack((a_full, a_row))\n",
    "a_full = np.delete(a_full,0,0)\n",
    "index=np.array([0])\n",
    "# sometimes the first few values are really high positives, so alter this to skip those"
   ]
  },
  {
   "cell_type": "code",
   "execution_count": 11,
   "metadata": {
    "collapsed": false
   },
   "outputs": [
    {
     "ename": "IndexError",
     "evalue": "index 0 is out of bounds for axis 0 with size 0",
     "output_type": "error",
     "traceback": [
      "\u001b[0;31m---------------------------------------------------------------------------\u001b[0m",
      "\u001b[0;31mIndexError\u001b[0m                                Traceback (most recent call last)",
      "\u001b[0;32m<ipython-input-11-e29bf92c7afa>\u001b[0m in \u001b[0;36m<module>\u001b[0;34m()\u001b[0m\n\u001b[1;32m      1\u001b[0m \u001b[0mskip\u001b[0m \u001b[0;34m=\u001b[0m \u001b[0;36m300\u001b[0m\u001b[0;34m\u001b[0m\u001b[0m\n\u001b[1;32m      2\u001b[0m \u001b[0;32mfor\u001b[0m \u001b[0mi\u001b[0m \u001b[0;32min\u001b[0m \u001b[0mrange\u001b[0m\u001b[0;34m(\u001b[0m\u001b[0;36m8\u001b[0m\u001b[0;34m)\u001b[0m\u001b[0;34m:\u001b[0m\u001b[0;34m\u001b[0m\u001b[0m\n\u001b[0;32m----> 3\u001b[0;31m     \u001b[0mindex\u001b[0m \u001b[0;34m=\u001b[0m \u001b[0mnp\u001b[0m\u001b[0;34m.\u001b[0m\u001b[0mvstack\u001b[0m\u001b[0;34m(\u001b[0m\u001b[0;34m(\u001b[0m\u001b[0mindex\u001b[0m\u001b[0;34m,\u001b[0m\u001b[0mnp\u001b[0m\u001b[0;34m.\u001b[0m\u001b[0margwhere\u001b[0m\u001b[0;34m(\u001b[0m\u001b[0ma_full\u001b[0m\u001b[0;34m[\u001b[0m\u001b[0;34m:\u001b[0m\u001b[0;34m,\u001b[0m\u001b[0mi\u001b[0m\u001b[0;34m]\u001b[0m\u001b[0;34m[\u001b[0m\u001b[0mskip\u001b[0m\u001b[0;34m:\u001b[0m\u001b[0;34m]\u001b[0m \u001b[0;34m>\u001b[0m \u001b[0;36m0\u001b[0m\u001b[0;34m)\u001b[0m\u001b[0;34m[\u001b[0m\u001b[0;36m0\u001b[0m\u001b[0;34m]\u001b[0m\u001b[0;34m[\u001b[0m\u001b[0;36m0\u001b[0m\u001b[0;34m]\u001b[0m\u001b[0;34m)\u001b[0m\u001b[0;34m)\u001b[0m\u001b[0;34m\u001b[0m\u001b[0m\n\u001b[0m\u001b[1;32m      4\u001b[0m \u001b[0mindex\u001b[0m \u001b[0;34m=\u001b[0m \u001b[0mnp\u001b[0m\u001b[0;34m.\u001b[0m\u001b[0mdelete\u001b[0m\u001b[0;34m(\u001b[0m\u001b[0mindex\u001b[0m\u001b[0;34m,\u001b[0m \u001b[0;34m(\u001b[0m\u001b[0;36m0\u001b[0m\u001b[0;34m)\u001b[0m\u001b[0;34m,\u001b[0m \u001b[0maxis\u001b[0m\u001b[0;34m=\u001b[0m\u001b[0;36m0\u001b[0m\u001b[0;34m)\u001b[0m\u001b[0;34m\u001b[0m\u001b[0m\n\u001b[1;32m      5\u001b[0m \u001b[0mindex_arg\u001b[0m \u001b[0;34m=\u001b[0m \u001b[0mnp\u001b[0m\u001b[0;34m.\u001b[0m\u001b[0margmax\u001b[0m\u001b[0;34m(\u001b[0m\u001b[0mindex\u001b[0m\u001b[0;34m)\u001b[0m\u001b[0;34m\u001b[0m\u001b[0m\n",
      "\u001b[0;31mIndexError\u001b[0m: index 0 is out of bounds for axis 0 with size 0"
     ]
    }
   ],
   "source": [
    "skip = 300\n",
    "for i in range(8):\n",
    "    index = np.vstack((index,np.argwhere(a_full[:,i][skip:] > 0)[0][0]))\n",
    "index = np.delete(index, (0), axis=0)\n",
    "index_arg = np.argmax(index)\n",
    "time2 = round(steps[skip:][index[index_arg][0]],4)\n",
    "time3 = round(time2 * 2,4)\n",
    "time4 = round(time3 * 2,4)\n",
    "time5 = round(time4 * 2,4)\n",
    "\n",
    "impulse0_0 = round(a_full[:,0][skip:][index[index_arg][0]],4)\n",
    "impulse1_0 = round(a_full[:,1][skip:][index[index_arg][0]],4)\n",
    "impulse2_0 = round(a_full[:,2][skip:][index[index_arg][0]],4)\n",
    "impulse3_0 = round(a_full[:,3][skip:][index[index_arg][0]],4)\n",
    "impulse4_0 = round(a_full[:,4][skip:][index[index_arg][0]],4)\n",
    "\n",
    "impulse0_1 = round(a_full[:,5][skip:][index[index_arg][0]],4)\n",
    "impulse1_1 = round(a_full[:,6][skip:][index[index_arg][0]],4)\n",
    "impulse2_1 = round(a_full[:,7][skip:][index[index_arg][0]],4)\n",
    "impulse3_1 = round(a_full[:,8][skip:][index[index_arg][0]],4)\n",
    "impulse4_1 = round(a_full[:,9][skip:][index[index_arg][0]],4)\n",
    "\n",
    "impulse0_2 = round(a_full[:,10][skip:][index[index_arg][0]],4)\n",
    "impulse1_2 = round(a_full[:,11][skip:][index[index_arg][0]],4)\n",
    "impulse2_2 = round(a_full[:,12][skip:][index[index_arg][0]],4)\n",
    "impulse3_2 = round(a_full[:,13][skip:][index[index_arg][0]],4)\n",
    "impulse4_2 = round(a_full[:,14][skip:][index[index_arg][0]],4)\n",
    "\n",
    "print('Index Used: {}'.format(index[index_arg][0]))\n",
    "df = pd.DataFrame({\"Input 1\":[impulse0_0,impulse1_0,impulse2_0,impulse3_0,impulse4_0], \n",
    "                   \"Input 2\":[impulse0_1,impulse1_1,impulse2_1,impulse3_1,impulse4_1],\n",
    "                   \"Input 3\":[impulse0_2,impulse1_2,impulse2_2,impulse3_2,impulse4_2],\n",
    "                   \"Times\":[0,time2,time3,time4,time5]})\n",
    "itable.PrettyTable(df)"
   ]
  },
  {
   "cell_type": "code",
   "execution_count": 12,
   "metadata": {
    "collapsed": false
   },
   "outputs": [
    {
     "name": "stdout",
     "output_type": "stream",
     "text": [
      "Index Used: 1447\n"
     ]
    },
    {
     "data": {
      "text/html": [
       "<table style=\"\"><tr style=\"\"><td style=\"\">Input 1</td><td style=\"\">Input 2</td><td style=\"\">Input 3</td><td style=\"\">Times</td></tr><tr style=\"\"><td style=\"\">0.0</td><td style=\"\">0.0</td><td style=\"\">0.0</td><td style=\"\">0.0</td></tr><tr style=\"\"><td style=\"\">0.0</td><td style=\"\">0.0</td><td style=\"\">0.0</td><td style=\"\">0.1747</td></tr><tr style=\"\"><td style=\"\">0.0</td><td style=\"\">0.0</td><td style=\"\">0.0</td><td style=\"\">0.3494</td></tr><tr style=\"\"><td style=\"\">0.0</td><td style=\"\">0.0</td><td style=\"\">0.0</td><td style=\"\">0.6988</td></tr><tr style=\"\"><td style=\"\">0.0</td><td style=\"\">0.0</td><td style=\"\">0.0</td><td style=\"\">1.3976</td></tr></table>"
      ],
      "text/plain": [
       "<itable.itable.PrettyTable at 0x112c14b70>"
      ]
     },
     "execution_count": 12,
     "metadata": {},
     "output_type": "execute_result"
    }
   ],
   "source": [
    "index = 1447\n",
    "time2 = round(steps[skip:][index],4)\n",
    "time3 = round(time2 * 2,4)\n",
    "time4 = round(time3 * 2,4)\n",
    "time5 = round(time4 * 2,4)\n",
    "\n",
    "impulse0_0 = round(a_full[:,0][skip:][index],4)\n",
    "impulse1_0 = round(a_full[:,1][skip:][index],4)\n",
    "impulse2_0 = round(a_full[:,2][skip:][index],4)\n",
    "impulse3_0 = round(a_full[:,3][skip:][index],4)\n",
    "impulse4_0 = round(a_full[:,4][skip:][index],4)\n",
    "\n",
    "impulse0_1 = round(a_full[:,5][skip:][index],4)\n",
    "impulse1_1 = round(a_full[:,6][skip:][index],4)\n",
    "impulse2_1 = round(a_full[:,7][skip:][index],4)\n",
    "impulse3_1 = round(a_full[:,8][skip:][index],4)\n",
    "impulse4_1 = round(a_full[:,9][skip:][index],4)\n",
    "\n",
    "impulse0_2 = round(a_full[:,10][skip:][index],4)\n",
    "impulse1_2 = round(a_full[:,11][skip:][index],4)\n",
    "impulse2_2 = round(a_full[:,12][skip:][index],4)\n",
    "impulse3_2 = round(a_full[:,13][skip:][index],4)\n",
    "impulse4_2 = round(a_full[:,14][skip:][index],4)\n",
    "\n",
    "print('Index Used: {}'.format(index))\n",
    "df = pd.DataFrame({\"Input 1\":[impulse0_0,impulse1_0,impulse2_0,impulse3_0,impulse4_0], \n",
    "                   \"Input 2\":[impulse0_1,impulse1_1,impulse2_1,impulse3_1,impulse4_1],\n",
    "                   \"Input 3\":[impulse0_2,impulse1_2,impulse2_2,impulse3_2,impulse4_2],\n",
    "                   \"Times\":[0,time2,time3,time4,time5]})\n",
    "itable.PrettyTable(df)"
   ]
  },
  {
   "cell_type": "code",
   "execution_count": 13,
   "metadata": {
    "collapsed": false,
    "scrolled": true
   },
   "outputs": [
    {
     "data": {
      "text/plain": [
       "array([[   0],\n",
       "       [   1],\n",
       "       [   2],\n",
       "       ..., \n",
       "       [9697],\n",
       "       [9698],\n",
       "       [9699]])"
      ]
     },
     "execution_count": 13,
     "metadata": {},
     "output_type": "execute_result"
    }
   ],
   "source": [
    "# a_full[:,0][skip:][index[index_arg][0]]\n",
    "np.argwhere(np.logical_and(np.logical_and(np.logical_and((np.logical_and(np.greater_equal(a_full[:,0][skip:],0),\n",
    "                                          np.greater_equal(a_full[:,1][skip:],0))),\n",
    "                           (np.logical_and(np.greater_equal(a_full[:,2][skip:],0),\n",
    "                                          np.greater_equal(a_full[:,3][skip:],0)))),\n",
    "           np.logical_and((np.logical_and(np.greater_equal(a_full[:,4][skip:],0),\n",
    "                                          np.greater_equal(a_full[:,5][skip:],0))),\n",
    "                           (np.logical_and(np.greater_equal(a_full[:,6][skip:],0),\n",
    "                                          np.greater_equal(a_full[:,7][skip:],0))))),\n",
    "                          np.logical_and(np.logical_and((np.logical_and(np.greater_equal(a_full[:,8][skip:],0),\n",
    "                                          np.greater_equal(a_full[:,8][skip:],0))),\n",
    "                           (np.logical_and(np.greater_equal(a_full[:,1][skip:],0),\n",
    "                                          np.greater_equal(a_full[:,1][skip:],0)))),\n",
    "           np.logical_and((np.logical_and(np.greater_equal(a_full[:,1][skip:],0),\n",
    "                                          np.greater_equal(a_full[:,1][skip:],0))),\n",
    "                           (np.logical_and(np.greater_equal(a_full[:,1][skip:],0),\n",
    "                                          np.greater_equal(a_full[:,1][skip:],0)))))))"
   ]
  },
  {
   "cell_type": "code",
   "execution_count": null,
   "metadata": {
    "collapsed": true
   },
   "outputs": [],
   "source": []
  },
  {
   "cell_type": "code",
   "execution_count": 17,
   "metadata": {
    "collapsed": false
   },
   "outputs": [
    {
     "data": {
      "image/png": "[encoded data removed]",
      "text/plain": [
       "<matplotlib.figure.Figure at 0x112c27978>"
      ]
     },
     "metadata": {
      "image/png": {
       "height": 275,
       "width": 392
      }
     },
     "output_type": "display_data"
    }
   ],
   "source": [
    "fig = plt.figure()\n",
    "ax = fig.add_subplot(111)\n",
    "# plt.plot(steps,a_full[:,0])\n",
    "plt.plot(steps,a_full[:,1])\n",
    "plt.plot(steps,a_full[:,2])\n",
    "plt.plot(steps,a_full[:,3])\n",
    "plt.plot(steps,a_full[:,4])\n",
    "plt.plot(steps,a_full[:,5])\n",
    "plt.plot(steps,a_full[:,6])\n",
    "plt.plot(steps,a_full[:,7])\n",
    "plt.plot(steps,a_full[:,8])\n",
    "plt.plot(steps,a_full[:,9])\n",
    "plt.plot(steps,a_full[:,10])\n",
    "plt.plot(steps,a_full[:,11])\n",
    "plt.plot(steps,a_full[:,12])\n",
    "plt.plot(steps,a_full[:,13])\n",
    "plt.plot(steps,a_full[:,14])\n",
    "# ax.annotate('local max', xy=(0.1, 1), xytext=(0.2, 1),\n",
    "#             arrowprops=dict(facecolor='black', shrink=0.1),\n",
    "#             )\n",
    "plt.ylim(-5,5)\n",
    "plt.xlim(0,0.8);\n",
    "plt.show()"
   ]
  },
  {
   "cell_type": "code",
   "execution_count": 19,
   "metadata": {
    "collapsed": false
   },
   "outputs": [
    {
     "data": {
      "text/plain": [
       "array([ 0.,  0.,  0., ...,  0.,  0.,  0.])"
      ]
     },
     "execution_count": 19,
     "metadata": {},
     "output_type": "execute_result"
    }
   ],
   "source": [
    "a_full[:,10]"
   ]
  },
  {
   "cell_type": "code",
   "execution_count": null,
   "metadata": {
    "collapsed": false
   },
   "outputs": [],
   "source": [
    "steps[5000:][1395]"
   ]
  },
  {
   "cell_type": "code",
   "execution_count": null,
   "metadata": {
    "collapsed": false
   },
   "outputs": [],
   "source": [
    "a_full[:,12][6395]"
   ]
  },
  {
   "cell_type": "code",
   "execution_count": null,
   "metadata": {
    "collapsed": true
   },
   "outputs": [],
   "source": [
    "for i in range(15):\n",
    "    index = np.vstack((index,np.argwhere(a_full[:,i][skip:] > 0)[0][0]))"
   ]
  },
  {
   "cell_type": "code",
   "execution_count": null,
   "metadata": {
    "collapsed": false
   },
   "outputs": [],
   "source": [
    "index"
   ]
  },
  {
   "cell_type": "code",
   "execution_count": null,
   "metadata": {
    "collapsed": true
   },
   "outputs": [],
   "source": []
  }
 ],
 "metadata": {
  "kernelspec": {
   "display_name": "Python 3",
   "language": "python",
   "name": "python3"
  },
  "language_info": {
   "codemirror_mode": {
    "name": "ipython",
    "version": 3
   },
   "file_extension": ".py",
   "mimetype": "text/x-python",
   "name": "python",
   "nbconvert_exporter": "python",
   "pygments_lexer": "ipython3",
   "version": "3.5.2"
  }
 },
 "nbformat": 4,
 "nbformat_minor": 0
}
